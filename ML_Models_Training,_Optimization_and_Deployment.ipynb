{
  "cells": [
    {
      "cell_type": "markdown",
      "metadata": {
        "id": "44R8lxhHygRE"
      },
      "source": [
        "## **Abstract**\n",
        "\n",
        "Proiectul a vizat clasificarea calității vinului utilizând algoritmii **Ridge Classifier, XGBoost**, dar și o rețea neuronală **MLP (Multilayer Perceptron)** asupra caracteristicilor fizico-chimici. Setul de date a inclus 4.899 de probe de vin alb, cu variabile precum aciditate fixă și volatilă, acid citric, zahăr rezidual, cloruri, dioxid de sulf, densitate, pH, sulfați și alcool. Calitatea a fost etichetată în trei categorii: **low (3–4)**, **medium (5–6)** și **high (7–8-9)**. Datele au fost împărțite 70% pentru antrenare, 10% evaluare și 20% pentru testare.\n"
      ]
    },
    {
      "cell_type": "markdown",
      "metadata": {
        "id": "co46AqrByh9E"
      },
      "source": [
        "# **RidgeClassifier**"
      ]
    },
    {
      "cell_type": "markdown",
      "metadata": {
        "id": "uhOHMRCk32gq"
      },
      "source": [
        "\n",
        "\n",
        "**Ridge Classifier** a fost ales pentru capacitatea de **regularizare L2**, **penalizând coeficienții mari și reducând varianța estimărilor**, ceea ce stabilizează modelul, prevenind overfitt-ul, dar și gestionarea a corelațiilor dintre variabile. De asemenea, calitatea vinului a fost etichetată ca **low**, **medium** și **high**, iar RidgeClassifier funcționează bine pentru probleme de **clasificare mult-clasă și poate fi eficient ca o extensie a regresiei liniar-penalizate**.\n",
        "\n",
        "\n",
        "Modelul final a demonstrat că proprietățile fizico-chimice pot prezice eficient nivelul calității vinului.\n"
      ]
    },
    {
      "cell_type": "code",
      "execution_count": 1,
      "metadata": {
        "ExecuteTime": {
          "end_time": "2025-07-23T19:09:24.847159Z",
          "start_time": "2025-07-23T19:09:24.633717Z"
        },
        "id": "D-caGqNtzGfP"
      },
      "outputs": [],
      "source": [
        "import pandas as pd\n",
        "from sklearn.model_selection import train_test_split\n",
        "from sklearn.preprocessing import StandardScaler, label_binarize\n",
        "from sklearn.linear_model import RidgeClassifier\n",
        "from sklearn.metrics import accuracy_score, classification_report, confusion_matrix, roc_auc_score, matthews_corrcoef\n",
        "import matplotlib.pyplot as plt\n",
        "import seaborn as sns\n",
        "import numpy as np\n",
        "import collections"
      ]
    },
    {
      "cell_type": "code",
      "execution_count": 2,
      "metadata": {
        "ExecuteTime": {
          "end_time": "2025-07-23T19:09:26.510730Z",
          "start_time": "2025-07-23T19:09:24.988085Z"
        },
        "colab": {
          "base_uri": "https://localhost:8080/"
        },
        "id": "VIYeBKDU3aQ2",
        "outputId": "6e6f4bd8-19a1-44de-9fc3-071131e2a712"
      },
      "outputs": [
        {
          "name": "stdout",
          "output_type": "stream",
          "text": [
            "White wine shape: (4898, 12)\n",
            "   fixed acidity  volatile acidity  citric acid  residual sugar  chlorides  \\\n",
            "0            7.0              0.27         0.36            20.7      0.045   \n",
            "1            6.3              0.30         0.34             1.6      0.049   \n",
            "2            8.1              0.28         0.40             6.9      0.050   \n",
            "3            7.2              0.23         0.32             8.5      0.058   \n",
            "4            7.2              0.23         0.32             8.5      0.058   \n",
            "\n",
            "   free sulfur dioxide  total sulfur dioxide  density    pH  sulphates  \\\n",
            "0                 45.0                 170.0   1.0010  3.00       0.45   \n",
            "1                 14.0                 132.0   0.9940  3.30       0.49   \n",
            "2                 30.0                  97.0   0.9951  3.26       0.44   \n",
            "3                 47.0                 186.0   0.9956  3.19       0.40   \n",
            "4                 47.0                 186.0   0.9956  3.19       0.40   \n",
            "\n",
            "   alcohol  quality  \n",
            "0      8.8        6  \n",
            "1      9.5        6  \n",
            "2     10.1        6  \n",
            "3      9.9        6  \n",
            "4      9.9        6  \n"
          ]
        }
      ],
      "source": [
        "white_url = \"https://archive.ics.uci.edu/ml/machine-learning-databases/wine-quality/winequality-white.csv\"\n",
        "white_df = pd.read_csv(white_url, sep=\";\")\n",
        "print(\"White wine shape:\", white_df.shape)\n",
        "print(white_df.head())"
      ]
    },
    {
      "cell_type": "code",
      "execution_count": 3,
      "metadata": {
        "ExecuteTime": {
          "end_time": "2025-07-23T19:09:26.589085Z",
          "start_time": "2025-07-23T19:09:26.577794Z"
        },
        "colab": {
          "base_uri": "https://localhost:8080/"
        },
        "id": "ir9ZMjjS4F-p",
        "outputId": "873f7b9d-b98b-4986-dc0c-fb81c1278343"
      },
      "outputs": [
        {
          "name": "stdout",
          "output_type": "stream",
          "text": [
            "Valori lipsă pe coloană:\n",
            " fixed acidity           0\n",
            "volatile acidity        0\n",
            "citric acid             0\n",
            "residual sugar          0\n",
            "chlorides               0\n",
            "free sulfur dioxide     0\n",
            "total sulfur dioxide    0\n",
            "density                 0\n",
            "pH                      0\n",
            "sulphates               0\n",
            "alcohol                 0\n",
            "quality                 0\n",
            "dtype: int64\n",
            "Număr rânduri duplicate: 937\n"
          ]
        }
      ],
      "source": [
        "print(\"Valori lipsă pe coloană:\\n\", white_df.isnull().sum())\n",
        "print(\"Număr rânduri duplicate:\", white_df.duplicated().sum())"
      ]
    },
    {
      "cell_type": "code",
      "execution_count": 4,
      "metadata": {
        "ExecuteTime": {
          "end_time": "2025-07-23T19:09:26.815844Z",
          "start_time": "2025-07-23T19:09:26.804928Z"
        },
        "id": "N_3eqlaS4JYB"
      },
      "outputs": [],
      "source": [
        "white_df = white_df.drop_duplicates()"
      ]
    },
    {
      "cell_type": "code",
      "execution_count": 5,
      "metadata": {
        "ExecuteTime": {
          "end_time": "2025-07-23T19:09:27.021285Z",
          "start_time": "2025-07-23T19:09:27.001159Z"
        },
        "colab": {
          "base_uri": "https://localhost:8080/"
        },
        "id": "ro5fCgUt4Maw",
        "outputId": "d51306ae-2326-4c4f-8760-7e4a0af2aed1"
      },
      "outputs": [
        {
          "name": "stdout",
          "output_type": "stream",
          "text": [
            "Train shape: (3168, 12)\n",
            "Test shape: (793, 12)\n",
            "Train distribution:\n",
            " quality\n",
            "3      16\n",
            "4     122\n",
            "5     940\n",
            "6    1430\n",
            "7     551\n",
            "8     105\n",
            "9       4\n",
            "Name: count, dtype: int64\n",
            "Test distribution:\n",
            " quality\n",
            "3      4\n",
            "4     31\n",
            "5    235\n",
            "6    358\n",
            "7    138\n",
            "8     26\n",
            "9      1\n",
            "Name: count, dtype: int64\n"
          ]
        }
      ],
      "source": [
        "# Split în train/test (80/20)\n",
        "train_white, test_white = train_test_split(\n",
        "    white_df,\n",
        "    test_size=0.2,\n",
        "    random_state=42,\n",
        "    stratify=white_df[\"quality\"]\n",
        ")\n",
        "\n",
        "# Verificăm dimensiuni\n",
        "print(\"Train shape:\", train_white.shape)\n",
        "print(\"Test shape:\", test_white.shape)\n",
        "\n",
        "# Distribuția etichetelor\n",
        "print(\"Train distribution:\\n\", train_white[\"quality\"].value_counts().sort_index())\n",
        "print(\"Test distribution:\\n\", test_white[\"quality\"].value_counts().sort_index())"
      ]
    },
    {
      "cell_type": "code",
      "execution_count": 6,
      "metadata": {
        "ExecuteTime": {
          "end_time": "2025-07-23T19:09:27.256733Z",
          "start_time": "2025-07-23T19:09:27.253550Z"
        },
        "id": "xbBXkGJI4See"
      },
      "outputs": [],
      "source": [
        "def map_quality(q):\n",
        "    if q in [3, 4]:\n",
        "        return \"low\"\n",
        "    elif q in [5, 6]:\n",
        "        return \"medium\"\n",
        "    else:\n",
        "        return \"high\""
      ]
    },
    {
      "cell_type": "code",
      "execution_count": 7,
      "metadata": {
        "ExecuteTime": {
          "end_time": "2025-07-23T19:09:27.507600Z",
          "start_time": "2025-07-23T19:09:27.491186Z"
        },
        "colab": {
          "base_uri": "https://localhost:8080/"
        },
        "id": "v40gCk8A4UZg",
        "outputId": "fa2b39e2-08cb-447e-f792-a8fe11718351"
      },
      "outputs": [
        {
          "name": "stdout",
          "output_type": "stream",
          "text": [
            "Distribuție train:\n",
            "quality_group\n",
            "medium    2370\n",
            "high       660\n",
            "low        138\n",
            "Name: count, dtype: int64\n",
            "\n",
            "Distribuție test:\n",
            "quality_group\n",
            "medium    593\n",
            "high      165\n",
            "low        35\n",
            "Name: count, dtype: int64\n"
          ]
        }
      ],
      "source": [
        "train_white[\"quality_group\"] = train_white[\"quality\"].apply(map_quality)\n",
        "test_white[\"quality_group\"] = test_white[\"quality\"].apply(map_quality)\n",
        "print(\"Distribuție train:\")\n",
        "print(train_white[\"quality_group\"].value_counts())\n",
        "print(\"\\nDistribuție test:\")\n",
        "print(test_white[\"quality_group\"].value_counts())"
      ]
    },
    {
      "cell_type": "code",
      "execution_count": 8,
      "metadata": {
        "ExecuteTime": {
          "end_time": "2025-07-23T19:09:27.802036Z",
          "start_time": "2025-07-23T19:09:27.788463Z"
        },
        "id": "sXjeXGEF8sDk"
      },
      "outputs": [],
      "source": [
        "X_train = train_white.drop([\"quality\", \"quality_group\"], axis=1)\n",
        "y_train = train_white[\"quality_group\"]\n",
        "\n",
        "X_test = test_white.drop([\"quality\", \"quality_group\"], axis=1)\n",
        "y_test = test_white[\"quality_group\"]\n",
        "scaler = StandardScaler()\n",
        "X_train_scaled = scaler.fit_transform(X_train)\n",
        "X_test_scaled = scaler.transform(X_test)"
      ]
    },
    {
      "cell_type": "markdown",
      "metadata": {
        "id": "GMKascpR-pcP"
      },
      "source": [
        "# **Baseline model**"
      ]
    },
    {
      "cell_type": "code",
      "execution_count": 9,
      "metadata": {
        "ExecuteTime": {
          "end_time": "2025-07-23T19:09:28.046932Z",
          "start_time": "2025-07-23T19:09:27.998435Z"
        },
        "colab": {
          "base_uri": "https://localhost:8080/"
        },
        "id": "jdGQelMY8uE_",
        "outputId": "c09e0fb3-8ebc-4842-ebee-8568992341d8"
      },
      "outputs": [
        {
          "name": "stdout",
          "output_type": "stream",
          "text": [
            "\n",
            "Acuratețea modelului RidgeClassifier pe grupuri: 77.43%\n",
            "\n",
            "Classification Report:\n",
            "              precision    recall  f1-score   support\n",
            "\n",
            "        high       0.71      0.22      0.33       165\n",
            "         low       0.00      0.00      0.00        35\n",
            "      medium       0.78      0.97      0.87       593\n",
            "\n",
            "    accuracy                           0.77       793\n",
            "   macro avg       0.49      0.40      0.40       793\n",
            "weighted avg       0.73      0.77      0.72       793\n",
            "\n"
          ]
        },
        {
          "name": "stderr",
          "output_type": "stream",
          "text": [
            "/usr/local/lib/python3.11/dist-packages/sklearn/metrics/_classification.py:1565: UndefinedMetricWarning: Precision is ill-defined and being set to 0.0 in labels with no predicted samples. Use `zero_division` parameter to control this behavior.\n",
            "  _warn_prf(average, modifier, f\"{metric.capitalize()} is\", len(result))\n",
            "/usr/local/lib/python3.11/dist-packages/sklearn/metrics/_classification.py:1565: UndefinedMetricWarning: Precision is ill-defined and being set to 0.0 in labels with no predicted samples. Use `zero_division` parameter to control this behavior.\n",
            "  _warn_prf(average, modifier, f\"{metric.capitalize()} is\", len(result))\n",
            "/usr/local/lib/python3.11/dist-packages/sklearn/metrics/_classification.py:1565: UndefinedMetricWarning: Precision is ill-defined and being set to 0.0 in labels with no predicted samples. Use `zero_division` parameter to control this behavior.\n",
            "  _warn_prf(average, modifier, f\"{metric.capitalize()} is\", len(result))\n"
          ]
        }
      ],
      "source": [
        "model = RidgeClassifier(alpha=1.0)\n",
        "model.fit(X_train_scaled, y_train)\n",
        "y_pred = model.predict(X_test_scaled)\n",
        "accuracy = accuracy_score(y_test, y_pred)\n",
        "print(\"\\nAcuratețea modelului RidgeClassifier pe grupuri: {:.2f}%\".format(accuracy * 100))\n",
        "print(\"\\nClassification Report:\")\n",
        "print(classification_report(y_test, y_pred))"
      ]
    },
    {
      "cell_type": "markdown",
      "metadata": {
        "id": "P1zgHvBm9Jrg"
      },
      "source": [
        "Acuratețea modelului RidgeClassifier pe grupuri: 77.43%\n",
        "\n",
        "Classification Report:\n",
        "              precision    recall  f1-score   support\n",
        "\n",
        "        high       0.71      0.22      0.33       165\n",
        "         low       0.00      0.00      0.00        35\n",
        "      medium       0.78      0.97      0.87       593\n",
        "\n",
        "    accuracy                            0.77       793\n",
        "    macro avg       0.49      0.40      0.40       793\n",
        "    weighted avg    0.73      0.77      0.72       793\n",
        "\n",
        "    Modelul tinde să ghicească clasa majoritară corect, dar ignoră complet celelalte două clase.\n",
        "\n",
        "    Clasa medium: Recall: 0.97: aproape toate instanțele de medium au fost corect prezise.\n",
        "    Precision: 0.78: dintre predicțiile medium, majoritatea este corectă.\n",
        "    Modelul este extrem de înclinat spre clasa medium.\n",
        "\n",
        "    Clasa high: Recall: 0.22: doar 22% din vinurile high au fost corect identificate.\n",
        "    Precision: 0.71: când modelul spune high, are șanse decente să fie corect.\n",
        "    Modelul confundă multe vinuri high cu medium.\n",
        "\n",
        "    Clasa low: Toți indicatorii sunt 0.00: modelul nu a prezis deloc această clasă,\n",
        "    ceea ce scade semnnificativ valoarea practică a modelului.\n",
        "\n",
        "    Observăm dezechilibru între clase(medium are 593 de exemple în setul de test, iar low are 35).\n",
        "\n"
      ]
    },
    {
      "cell_type": "markdown",
      "metadata": {
        "id": "4jLD7pCCJrsP"
      },
      "source": [
        "**Confusion Matrix**"
      ]
    },
    {
      "cell_type": "code",
      "execution_count": 10,
      "metadata": {
        "ExecuteTime": {
          "end_time": "2025-07-23T19:09:28.505649Z",
          "start_time": "2025-07-23T19:09:28.259208Z"
        },
        "colab": {
          "base_uri": "https://localhost:8080/",
          "height": 487
        },
        "id": "87Pfs7Fz9Kao",
        "outputId": "7426d3fe-e0bd-4e92-8416-335f0b86f481"
      },
      "outputs": [
        {
          "data": {
            "image/png": "[encoded data removed]",
            "text/plain": [
              "<Figure size 600x500 with 2 Axes>"
            ]
          },
          "metadata": {},
          "output_type": "display_data"
        }
      ],
      "source": [
        "cm = confusion_matrix(y_test, y_pred, labels=[\"low\", \"medium\", \"high\"])\n",
        "\n",
        "plt.figure(figsize=(6,5))\n",
        "sns.heatmap(\n",
        "    cm,\n",
        "    annot=True,\n",
        "    fmt=\"d\",\n",
        "    cmap=\"Blues\",\n",
        "    xticklabels=[\"low\", \"medium\", \"high\"],\n",
        "    yticklabels=[\"low\", \"medium\", \"high\"]\n",
        ")\n",
        "plt.xlabel(\"Predicție\")\n",
        "plt.ylabel(\"Real\")\n",
        "plt.title(\"Matricea de confuzie RidgeClassifier\")\n",
        "plt.show()\n",
        "\n"
      ]
    },
    {
      "cell_type": "markdown",
      "metadata": {
        "id": "GPOZ0I5bCr6B"
      },
      "source": [
        "Rânduri (axe verticale): Clasele reale (ground truth). Coloane (axe orizontale): Clasele prezise de model. Valorile din interior sunt numărul de instanțe clasificate în acel mod.\n",
        "\n",
        "Clasa low:\n",
        "0 au fost prezise corect ca low, 35 au fost prezise greșit ca medium, 0 au fost prezise ca high.\n",
        "\n",
        "Clasa medium: 578 au fost prezise corect ca medium, 15 au fost prezise greșit ca high, 0 au fost prezise ca low.\n",
        "\n",
        "Clasa high: 36 au fost prezise corect ca high, 129 au fost greșit clasificate ca medium, 0 au fost clasificate ca low.\n"
      ]
    },
    {
      "cell_type": "markdown",
      "metadata": {
        "id": "JcC-vlekJmqd"
      },
      "source": [
        "**ROC_AUC Score**"
      ]
    },
    {
      "cell_type": "code",
      "execution_count": 11,
      "metadata": {
        "ExecuteTime": {
          "end_time": "2025-07-23T19:09:28.601772Z",
          "start_time": "2025-07-23T19:09:28.592113Z"
        },
        "colab": {
          "base_uri": "https://localhost:8080/"
        },
        "id": "pQh54dHqDeT4",
        "outputId": "d26a0b99-ad14-481e-e442-ed87d11f0703"
      },
      "outputs": [
        {
          "name": "stdout",
          "output_type": "stream",
          "text": [
            "ROC AUC Score (macro-average, OVR): 0.5582\n"
          ]
        }
      ],
      "source": [
        "# sklearn.preprocessing import label_binarize and sklearn.metrics import roc_auc_score au fost importate.\n",
        "y_test_bin = label_binarize(y_test, classes=np.unique(y_test))\n",
        "y_pred_bin = label_binarize(y_pred, classes=np.unique(y_test))\n",
        "roc_auc = roc_auc_score(y_test_bin, y_pred_bin, average='macro', multi_class='ovr')\n",
        "print(f\"ROC AUC Score (macro-average, OVR): {roc_auc:.4f}\")"
      ]
    },
    {
      "cell_type": "markdown",
      "metadata": {
        "id": "cpEWibrEEV5S"
      },
      "source": [
        "ROC = Receiver Operating Characteristic\n",
        "\n",
        "AUC = Area Under the Curve\n",
        "\n",
        "Curba ROC reprezintă: Rata de Adevărate Pozitive (TPR) (recall) în funcție de Rata de Fals Pozitive (FPR) pentru diferite praguri de decizie.\n",
        "\n",
        "Aceasta măsoară cât de bine poate modelul să distingă între clase – adică cât de bine sunt separabile predicțiile.\n",
        "\n",
        "AUC este un scor cuprins între 0 și 1.\n",
        "\n",
        "Scorul ROC AUC (macro-medie, OVR): 0.5582.\n",
        "\n",
        "Rezultatul arată că modelul este mai bun decât o ghicire aleatoare."
      ]
    },
    {
      "cell_type": "markdown",
      "metadata": {
        "id": "0Zj_T5TuJhl8"
      },
      "source": [
        "**Matthews Correlation Coefficient (MCC)**"
      ]
    },
    {
      "cell_type": "code",
      "execution_count": 12,
      "metadata": {
        "ExecuteTime": {
          "end_time": "2025-07-23T19:09:28.816531Z",
          "start_time": "2025-07-23T19:09:28.810073Z"
        },
        "colab": {
          "base_uri": "https://localhost:8080/"
        },
        "id": "lvMk44MiG-Uk",
        "outputId": "fb489a5a-4800-4df6-b676-f3849b89f59d"
      },
      "outputs": [
        {
          "name": "stdout",
          "output_type": "stream",
          "text": [
            "MCC: 0.2805\n"
          ]
        }
      ],
      "source": [
        "# sklearn.metrics import matthews_corrcoef a fost importat.\n",
        "mcc = matthews_corrcoef(y_test, y_pred)\n",
        "print(f\"MCC: {mcc:.4f}\")"
      ]
    },
    {
      "cell_type": "markdown",
      "metadata": {
        "id": "1-3G6l6tJX2k"
      },
      "source": [
        "Spre deosebire de acuratețe, MCC **ține cont de toate valorile din matricea de confuzie: TP, TN, FP, FN** pentru toate clasele, nu pune accent pe clasa majoritară, deci este util în clasele dezechilibrate și oferă un scor unic care reflectă calitatea generală a predicției.\n",
        "\n",
        "Modelul este oarecum mai bun decât o ghicire aleatoare, dar nu este foarte fiabil. Există o corelație moderată între etichetele prezise și cele reale.\n",
        "\n",
        "Performanța este afectată în special de: recall = 0 pentru clasa low și numeroase clasificări greșite între clasele high și medium."
      ]
    },
    {
      "cell_type": "markdown",
      "metadata": {
        "id": "-_NsmHt1KAee"
      },
      "source": [
        "# **Model Optimization**"
      ]
    },
    {
      "cell_type": "code",
      "execution_count": 13,
      "metadata": {
        "ExecuteTime": {
          "end_time": "2025-07-23T19:09:29.102040Z",
          "start_time": "2025-07-23T19:09:29.058408Z"
        },
        "colab": {
          "base_uri": "https://localhost:8080/"
        },
        "id": "IeFDms0dJ_iG",
        "outputId": "774ec761-2c8c-4dc9-8323-58fe9f23cb99"
      },
      "outputs": [
        {
          "name": "stdout",
          "output_type": "stream",
          "text": [
            "\n",
            "Acuratețea modelului RidgeClassifier pe grupuri: 77.55%\n",
            "\n",
            "Classification Report:\n",
            "              precision    recall  f1-score   support\n",
            "\n",
            "        high       0.72      0.22      0.33       165\n",
            "         low       0.00      0.00      0.00        35\n",
            "      medium       0.78      0.98      0.87       593\n",
            "\n",
            "    accuracy                           0.78       793\n",
            "   macro avg       0.50      0.40      0.40       793\n",
            "weighted avg       0.73      0.78      0.72       793\n",
            "\n"
          ]
        },
        {
          "name": "stderr",
          "output_type": "stream",
          "text": [
            "/usr/local/lib/python3.11/dist-packages/sklearn/metrics/_classification.py:1565: UndefinedMetricWarning: Precision is ill-defined and being set to 0.0 in labels with no predicted samples. Use `zero_division` parameter to control this behavior.\n",
            "  _warn_prf(average, modifier, f\"{metric.capitalize()} is\", len(result))\n",
            "/usr/local/lib/python3.11/dist-packages/sklearn/metrics/_classification.py:1565: UndefinedMetricWarning: Precision is ill-defined and being set to 0.0 in labels with no predicted samples. Use `zero_division` parameter to control this behavior.\n",
            "  _warn_prf(average, modifier, f\"{metric.capitalize()} is\", len(result))\n",
            "/usr/local/lib/python3.11/dist-packages/sklearn/metrics/_classification.py:1565: UndefinedMetricWarning: Precision is ill-defined and being set to 0.0 in labels with no predicted samples. Use `zero_division` parameter to control this behavior.\n",
            "  _warn_prf(average, modifier, f\"{metric.capitalize()} is\", len(result))\n"
          ]
        }
      ],
      "source": [
        "model = RidgeClassifier(alpha=5.0, random_state=42)\n",
        "model.fit(X_train_scaled, y_train)\n",
        "y_pred = model.predict(X_test_scaled)\n",
        "accuracy = accuracy_score(y_test, y_pred)\n",
        "print(\"\\nAcuratețea modelului RidgeClassifier pe grupuri: {:.2f}%\".format(accuracy * 100))\n",
        "print(\"\\nClassification Report:\")\n",
        "print(classification_report(y_test, y_pred))"
      ]
    },
    {
      "cell_type": "code",
      "execution_count": 14,
      "metadata": {
        "ExecuteTime": {
          "end_time": "2025-07-23T19:09:29.379452Z",
          "start_time": "2025-07-23T19:09:29.346712Z"
        },
        "colab": {
          "base_uri": "https://localhost:8080/"
        },
        "id": "4jfZBwq4ux56",
        "outputId": "03ced043-37ef-4b82-bfb3-8b7050d65c26"
      },
      "outputs": [
        {
          "name": "stdout",
          "output_type": "stream",
          "text": [
            "\n",
            "Acuratețea modelului RidgeClassifier pe grupuri: 77.55%\n",
            "\n",
            "Classification Report:\n",
            "              precision    recall  f1-score   support\n",
            "\n",
            "        high       0.72      0.22      0.33       165\n",
            "         low       0.00      0.00      0.00        35\n",
            "      medium       0.78      0.98      0.87       593\n",
            "\n",
            "    accuracy                           0.78       793\n",
            "   macro avg       0.50      0.40      0.40       793\n",
            "weighted avg       0.73      0.78      0.72       793\n",
            "\n"
          ]
        },
        {
          "name": "stderr",
          "output_type": "stream",
          "text": [
            "/usr/local/lib/python3.11/dist-packages/sklearn/metrics/_classification.py:1565: UndefinedMetricWarning: Precision is ill-defined and being set to 0.0 in labels with no predicted samples. Use `zero_division` parameter to control this behavior.\n",
            "  _warn_prf(average, modifier, f\"{metric.capitalize()} is\", len(result))\n",
            "/usr/local/lib/python3.11/dist-packages/sklearn/metrics/_classification.py:1565: UndefinedMetricWarning: Precision is ill-defined and being set to 0.0 in labels with no predicted samples. Use `zero_division` parameter to control this behavior.\n",
            "  _warn_prf(average, modifier, f\"{metric.capitalize()} is\", len(result))\n",
            "/usr/local/lib/python3.11/dist-packages/sklearn/metrics/_classification.py:1565: UndefinedMetricWarning: Precision is ill-defined and being set to 0.0 in labels with no predicted samples. Use `zero_division` parameter to control this behavior.\n",
            "  _warn_prf(average, modifier, f\"{metric.capitalize()} is\", len(result))\n"
          ]
        }
      ],
      "source": [
        "model = RidgeClassifier(alpha=5.0, random_state=42, max_iter=5)\n",
        "model.fit(X_train_scaled, y_train)\n",
        "y_pred = model.predict(X_test_scaled)\n",
        "accuracy = accuracy_score(y_test, y_pred)\n",
        "print(\"\\nAcuratețea modelului RidgeClassifier pe grupuri: {:.2f}%\".format(accuracy * 100))\n",
        "print(\"\\nClassification Report:\")\n",
        "print(classification_report(y_test, y_pred))"
      ]
    },
    {
      "cell_type": "code",
      "execution_count": 15,
      "metadata": {
        "ExecuteTime": {
          "end_time": "2025-07-23T19:09:29.635416Z",
          "start_time": "2025-07-23T19:09:29.599620Z"
        },
        "colab": {
          "base_uri": "https://localhost:8080/"
        },
        "id": "DyI86aNOu3pK",
        "outputId": "5c0f96ca-ca1e-4c73-f809-6e144f882844"
      },
      "outputs": [
        {
          "name": "stdout",
          "output_type": "stream",
          "text": [
            "\n",
            "Acuratețea modelului RidgeClassifier pe grupuri: 53.47%\n",
            "\n",
            "Classification Report:\n",
            "              precision    recall  f1-score   support\n",
            "\n",
            "        high       0.41      0.82      0.55       165\n",
            "         low       0.13      0.66      0.22        35\n",
            "      medium       0.91      0.45      0.60       593\n",
            "\n",
            "    accuracy                           0.53       793\n",
            "   macro avg       0.48      0.64      0.46       793\n",
            "weighted avg       0.77      0.53      0.57       793\n",
            "\n"
          ]
        }
      ],
      "source": [
        "model = RidgeClassifier(alpha=5.0, random_state=42, class_weight=\"balanced\")\n",
        "model.fit(X_train_scaled, y_train)\n",
        "y_pred = model.predict(X_test_scaled)\n",
        "accuracy = accuracy_score(y_test, y_pred)\n",
        "print(\"\\nAcuratețea modelului RidgeClassifier pe grupuri: {:.2f}%\".format(accuracy * 100))\n",
        "print(\"\\nClassification Report:\")\n",
        "print(classification_report(y_test, y_pred))"
      ]
    },
    {
      "cell_type": "code",
      "execution_count": 16,
      "metadata": {
        "ExecuteTime": {
          "end_time": "2025-07-23T19:09:29.887663Z",
          "start_time": "2025-07-23T19:09:29.855655Z"
        },
        "colab": {
          "base_uri": "https://localhost:8080/"
        },
        "id": "W-CYFh7hu_K7",
        "outputId": "902c5dd4-8833-48d9-b727-0fc03def28a5"
      },
      "outputs": [
        {
          "name": "stdout",
          "output_type": "stream",
          "text": [
            "\n",
            "Acuratețea modelului RidgeClassifier pe grupuri: 77.55%\n",
            "\n",
            "Classification Report:\n",
            "              precision    recall  f1-score   support\n",
            "\n",
            "        high       0.73      0.21      0.33       165\n",
            "         low       0.00      0.00      0.00        35\n",
            "      medium       0.78      0.98      0.87       593\n",
            "\n",
            "    accuracy                           0.78       793\n",
            "   macro avg       0.50      0.40      0.40       793\n",
            "weighted avg       0.73      0.78      0.72       793\n",
            "\n"
          ]
        },
        {
          "name": "stderr",
          "output_type": "stream",
          "text": [
            "/usr/local/lib/python3.11/dist-packages/sklearn/metrics/_classification.py:1565: UndefinedMetricWarning: Precision is ill-defined and being set to 0.0 in labels with no predicted samples. Use `zero_division` parameter to control this behavior.\n",
            "  _warn_prf(average, modifier, f\"{metric.capitalize()} is\", len(result))\n",
            "/usr/local/lib/python3.11/dist-packages/sklearn/metrics/_classification.py:1565: UndefinedMetricWarning: Precision is ill-defined and being set to 0.0 in labels with no predicted samples. Use `zero_division` parameter to control this behavior.\n",
            "  _warn_prf(average, modifier, f\"{metric.capitalize()} is\", len(result))\n",
            "/usr/local/lib/python3.11/dist-packages/sklearn/metrics/_classification.py:1565: UndefinedMetricWarning: Precision is ill-defined and being set to 0.0 in labels with no predicted samples. Use `zero_division` parameter to control this behavior.\n",
            "  _warn_prf(average, modifier, f\"{metric.capitalize()} is\", len(result))\n"
          ]
        }
      ],
      "source": [
        "model = RidgeClassifier(alpha=20.0, random_state=42)\n",
        "model.fit(X_train_scaled, y_train)\n",
        "y_pred = model.predict(X_test_scaled)\n",
        "accuracy = accuracy_score(y_test, y_pred)\n",
        "print(\"\\nAcuratețea modelului RidgeClassifier pe grupuri: {:.2f}%\".format(accuracy * 100))\n",
        "print(\"\\nClassification Report:\")\n",
        "print(classification_report(y_test, y_pred))"
      ]
    },
    {
      "cell_type": "code",
      "execution_count": 17,
      "metadata": {
        "ExecuteTime": {
          "end_time": "2025-07-23T19:09:30.173337Z",
          "start_time": "2025-07-23T19:09:30.084285Z"
        },
        "colab": {
          "base_uri": "https://localhost:8080/"
        },
        "id": "WEk7TpVAvZxc",
        "outputId": "813b5bf1-f6ef-4d4f-beef-d76210dd1ae8"
      },
      "outputs": [
        {
          "name": "stdout",
          "output_type": "stream",
          "text": [
            "\n",
            "Acuratețea modelului RidgeClassifier pe grupuri: 77.55%\n",
            "\n",
            "Classification Report:\n",
            "              precision    recall  f1-score   support\n",
            "\n",
            "        high       0.72      0.22      0.33       165\n",
            "         low       0.00      0.00      0.00        35\n",
            "      medium       0.78      0.98      0.87       593\n",
            "\n",
            "    accuracy                           0.78       793\n",
            "   macro avg       0.50      0.40      0.40       793\n",
            "weighted avg       0.73      0.78      0.72       793\n",
            "\n"
          ]
        },
        {
          "name": "stderr",
          "output_type": "stream",
          "text": [
            "/usr/local/lib/python3.11/dist-packages/sklearn/metrics/_classification.py:1565: UndefinedMetricWarning: Precision is ill-defined and being set to 0.0 in labels with no predicted samples. Use `zero_division` parameter to control this behavior.\n",
            "  _warn_prf(average, modifier, f\"{metric.capitalize()} is\", len(result))\n",
            "/usr/local/lib/python3.11/dist-packages/sklearn/metrics/_classification.py:1565: UndefinedMetricWarning: Precision is ill-defined and being set to 0.0 in labels with no predicted samples. Use `zero_division` parameter to control this behavior.\n",
            "  _warn_prf(average, modifier, f\"{metric.capitalize()} is\", len(result))\n",
            "/usr/local/lib/python3.11/dist-packages/sklearn/metrics/_classification.py:1565: UndefinedMetricWarning: Precision is ill-defined and being set to 0.0 in labels with no predicted samples. Use `zero_division` parameter to control this behavior.\n",
            "  _warn_prf(average, modifier, f\"{metric.capitalize()} is\", len(result))\n"
          ]
        }
      ],
      "source": [
        "model = RidgeClassifier(alpha=5.0, random_state=42, solver=\"sag\")\n",
        "model.fit(X_train_scaled, y_train)\n",
        "y_pred = model.predict(X_test_scaled)\n",
        "accuracy = accuracy_score(y_test, y_pred)\n",
        "print(\"\\nAcuratețea modelului RidgeClassifier pe grupuri: {:.2f}%\".format(accuracy * 100))\n",
        "print(\"\\nClassification Report:\")\n",
        "print(classification_report(y_test, y_pred))"
      ]
    },
    {
      "cell_type": "markdown",
      "metadata": {
        "id": "Gb1UKBBFvs9L"
      },
      "source": [
        "**ADASYN Model**"
      ]
    },
    {
      "cell_type": "code",
      "execution_count": 18,
      "metadata": {
        "ExecuteTime": {
          "end_time": "2025-07-23T19:09:30.543620Z",
          "start_time": "2025-07-23T19:09:30.388927Z"
        },
        "id": "ey6nx_qSv_DD"
      },
      "outputs": [],
      "source": [
        "from imblearn.over_sampling import ADASYN"
      ]
    },
    {
      "cell_type": "markdown",
      "metadata": {
        "id": "UD5tif_uxKb6"
      },
      "source": [
        "# ADASYN (Suprasampling utilizând algoritmul Adaptive Synthetic)\n",
        "Această metodă este similară cu SMOTE, dar **generează un număr diferit de exemple sintetice în funcție de o estimare a distribuției locale a clasei care trebuie suprasamplată**.\n",
        "\n",
        "n_neighbors (int sau obiect estimator, implicit=5): numărul de vecini apropiați folosiți pentru a defini vecinătatea eșantioanelor utilizate în generarea noilor exemple sintetice.\n",
        "\n",
        "sampling_strategy (float, str, dict sau callable, implicit=’auto’). Informații despre modul de resampling al setului de date:\n",
        "##### •\t'minority': resamplează doar clasa minoritară;\n",
        "##### •\t'not minority': resamplează toate clasele cu excepția clasei minoritare;\n",
        "##### •\t'not majority': resamplează toate clasele cu excepția clasei majoritare;\n",
        "##### •\t'all': resamplează toate clasele;\n",
        "##### •\t'auto': echivalent cu 'not majority'.\n"
      ]
    },
    {
      "cell_type": "code",
      "execution_count": 19,
      "metadata": {
        "ExecuteTime": {
          "end_time": "2025-07-23T19:09:30.639005Z",
          "start_time": "2025-07-23T19:09:30.608868Z"
        },
        "colab": {
          "base_uri": "https://localhost:8080/"
        },
        "id": "we0EmaQnvyV1",
        "outputId": "57dd821d-72c3-4f27-f3bd-c067ab033971"
      },
      "outputs": [
        {
          "name": "stdout",
          "output_type": "stream",
          "text": [
            "\n",
            "Distribuție după ADASYN:\n",
            "Counter({'medium': 2370, 'low': 2341, 'high': 660})\n"
          ]
        }
      ],
      "source": [
        "adasyn = ADASYN(random_state=42, sampling_strategy=\"minority\", n_neighbors=7)\n",
        "X_train_resampled, y_train_resampled = adasyn.fit_resample(X_train_scaled, y_train)\n",
        "\n",
        "# Verificăm distribuția după resampling\n",
        "print(\"\\nDistribuție după ADASYN:\")\n",
        "print(collections.Counter(y_train_resampled))"
      ]
    },
    {
      "cell_type": "code",
      "execution_count": 20,
      "metadata": {
        "ExecuteTime": {
          "end_time": "2025-07-23T19:09:30.866864Z",
          "start_time": "2025-07-23T19:09:30.828694Z"
        },
        "colab": {
          "base_uri": "https://localhost:8080/"
        },
        "id": "rSLl-_cPwSVy",
        "outputId": "6398302a-6ee9-4acc-93a0-0e0858efed08"
      },
      "outputs": [
        {
          "name": "stdout",
          "output_type": "stream",
          "text": [
            "\n",
            "Acuratețea modelului RidgeClassifier cu ADASYN: 60.28%\n",
            "\n",
            "Classification Report:\n",
            "              precision    recall  f1-score   support\n",
            "\n",
            "        high       0.80      0.12      0.21       165\n",
            "         low       0.12      0.69      0.21        35\n",
            "      medium       0.76      0.73      0.75       593\n",
            "\n",
            "    accuracy                           0.60       793\n",
            "   macro avg       0.56      0.51      0.39       793\n",
            "weighted avg       0.74      0.60      0.61       793\n",
            "\n"
          ]
        }
      ],
      "source": [
        "model = RidgeClassifier(alpha=5.0, random_state=42)\n",
        "model.fit(X_train_resampled, y_train_resampled)\n",
        "\n",
        "y_pred = model.predict(X_test_scaled)\n",
        "\n",
        "accuracy = accuracy_score(y_test, y_pred)\n",
        "print(\"\\nAcuratețea modelului RidgeClassifier cu ADASYN: {:.2f}%\".format(accuracy * 100))\n",
        "print(\"\\nClassification Report:\")\n",
        "print(classification_report(y_test, y_pred))\n"
      ]
    },
    {
      "cell_type": "markdown",
      "metadata": {
        "id": "vD4j9zqUzJmV"
      },
      "source": [
        "Clasa high: Precizie mare (0.80): atunci când modelul prezice high, de obicei are dreptate. Recall foarte scăzut (0.12): majoritatea vinurilor de calitate high nu este detectată. Modelul este foarte precaut în a prezice clasa high.\n",
        "\n",
        "Clasa medium: Precizie și recall rezonabile (~0.75 fiecare). Rămâne cea mai stabilă clasă, dar nu mai este dominantă ca înainte de aplicarea ADASYN.\n",
        "\n",
        "Clasa low: Precizie scăzută (0.12): multe dintre predicțiile pentru low sunt incorecte. Recall mare (0.69): majoritatea probelor reale low sunt detectate.\n",
        "\n"
      ]
    },
    {
      "cell_type": "code",
      "execution_count": 21,
      "metadata": {
        "ExecuteTime": {
          "end_time": "2025-07-23T19:09:31.261646Z",
          "start_time": "2025-07-23T19:09:31.057223Z"
        },
        "colab": {
          "base_uri": "https://localhost:8080/",
          "height": 487
        },
        "id": "SNLUxL81mDvw",
        "outputId": "feeed159-2507-4a10-b65f-61c0ae36aecc"
      },
      "outputs": [
        {
          "data": {
            "image/png": "[encoded data removed]",
            "text/plain": [
              "<Figure size 600x500 with 2 Axes>"
            ]
          },
          "metadata": {},
          "output_type": "display_data"
        }
      ],
      "source": [
        "cm = confusion_matrix(y_test, y_pred, labels=[\"low\", \"medium\", \"high\"])\n",
        "\n",
        "plt.figure(figsize=(6,5))\n",
        "sns.heatmap(\n",
        "    cm,\n",
        "    annot=True,\n",
        "    fmt=\"d\",\n",
        "    cmap=\"Blues\",\n",
        "    xticklabels=[\"low\", \"medium\", \"high\"],\n",
        "    yticklabels=[\"low\", \"medium\", \"high\"]\n",
        ")\n",
        "plt.xlabel(\"Predicție\")\n",
        "plt.ylabel(\"Real\")\n",
        "plt.title(\"Matricea de confuzie RidgeClassifier\")\n",
        "plt.show()\n",
        "\n"
      ]
    },
    {
      "cell_type": "code",
      "execution_count": 22,
      "metadata": {
        "ExecuteTime": {
          "end_time": "2025-07-23T19:09:31.385679Z",
          "start_time": "2025-07-23T19:09:31.375569Z"
        },
        "colab": {
          "base_uri": "https://localhost:8080/"
        },
        "id": "kcP1n3Tim9DB",
        "outputId": "73a902f8-cde7-436a-a17d-dcf8b70ea330"
      },
      "outputs": [
        {
          "name": "stdout",
          "output_type": "stream",
          "text": [
            "ROC AUC Score (macro-average, OVR): 0.6035\n"
          ]
        }
      ],
      "source": [
        "# sklearn.preprocessing import label_binarize and sklearn.metrics import roc_auc_score au fost importate.\n",
        "y_test_bin = label_binarize(y_test, classes=np.unique(y_test))\n",
        "y_pred_bin = label_binarize(y_pred, classes=np.unique(y_test))\n",
        "roc_auc = roc_auc_score(y_test_bin, y_pred_bin, average='macro', multi_class='ovr')\n",
        "print(f\"ROC AUC Score (macro-average, OVR): {roc_auc:.4f}\")"
      ]
    },
    {
      "cell_type": "markdown",
      "metadata": {
        "id": "giLsITNn7bC1"
      },
      "source": [
        "ROC_AUC Score se îmbunățătește dupa adăugarea de exemple în clasele minoritare."
      ]
    },
    {
      "cell_type": "code",
      "execution_count": 23,
      "metadata": {
        "ExecuteTime": {
          "end_time": "2025-07-23T19:09:31.693740Z",
          "start_time": "2025-07-23T19:09:31.605057Z"
        },
        "colab": {
          "base_uri": "https://localhost:8080/"
        },
        "id": "UKrwGVGtxCQb",
        "outputId": "7f826d30-37d9-438a-afde-6a00f862445b"
      },
      "outputs": [
        {
          "name": "stdout",
          "output_type": "stream",
          "text": [
            "\n",
            "Distribuție după ADASYN:\n",
            "Counter({'high': 2383, 'medium': 2370, 'low': 2341})\n"
          ]
        }
      ],
      "source": [
        "adasyn = ADASYN(random_state=42, sampling_strategy=\"all\", n_neighbors=7)\n",
        "X_train_resampled, y_train_resampled = adasyn.fit_resample(X_train_scaled, y_train)\n",
        "\n",
        "# Verificăm distribuția după resampling\n",
        "print(\"\\nDistribuție după ADASYN:\")\n",
        "print(collections.Counter(y_train_resampled))"
      ]
    },
    {
      "cell_type": "code",
      "execution_count": 24,
      "metadata": {
        "ExecuteTime": {
          "end_time": "2025-07-23T19:09:31.907469Z",
          "start_time": "2025-07-23T19:09:31.861757Z"
        },
        "colab": {
          "base_uri": "https://localhost:8080/"
        },
        "id": "PWm5Fh9yxF6s",
        "outputId": "d9c5b3d0-03c7-4d95-c6b8-ba01777aa639"
      },
      "outputs": [
        {
          "name": "stdout",
          "output_type": "stream",
          "text": [
            "\n",
            "Acuratețea modelului RidgeClassifier cu ADASYN: 49.43%\n",
            "\n",
            "Classification Report:\n",
            "              precision    recall  f1-score   support\n",
            "\n",
            "        high       0.39      0.82      0.53       165\n",
            "         low       0.12      0.63      0.20        35\n",
            "      medium       0.90      0.39      0.55       593\n",
            "\n",
            "    accuracy                           0.49       793\n",
            "   macro avg       0.47      0.62      0.43       793\n",
            "weighted avg       0.76      0.49      0.53       793\n",
            "\n"
          ]
        }
      ],
      "source": [
        "model = RidgeClassifier(alpha=5.0, random_state=42)\n",
        "model.fit(X_train_resampled, y_train_resampled)\n",
        "\n",
        "y_pred = model.predict(X_test_scaled)\n",
        "\n",
        "accuracy = accuracy_score(y_test, y_pred)\n",
        "print(\"\\nAcuratețea modelului RidgeClassifier cu ADASYN: {:.2f}%\".format(accuracy * 100))\n",
        "print(\"\\nClassification Report:\")\n",
        "print(classification_report(y_test, y_pred))\n"
      ]
    },
    {
      "cell_type": "markdown",
      "metadata": {
        "id": "CUcB3NzNyaR7"
      },
      "source": [
        "# XGBoost"
      ]
    },
    {
      "cell_type": "markdown",
      "metadata": {
        "id": "CHWYnPX4-1LB"
      },
      "source": [
        "**XGBoost** face parte din familia algoritmilor de tip **boosting**, care sunt tehnici de învățare prin asamblare ce **combină predicțiile mai multor învățători slabi**. Acesta construiește arbori de decizie **secvențial/iterativ**, fiecare arbore nou **corectând erorile făcute de arborii anteriori**, iar modelul final este **un asamblu de învățători slabi** (arbori de decizie) combinați **pentru a forma un predictor puternic**.\n",
        "Se fac **regularizările L1 și L2** pentru a face modelul **mai bun împotriva overfitting-ului**. XGBoost umple automat valorile lipsă. Pentru a decide cum să construiască fiecare arbore, **XGBoost utilizează o aproximare de ordinul 2 a funcției de pierdere (loss), care implică atât gradientul (derivate de ordinul 1), cât și hessianul (derivate de ordinul 2)**. Această abordare permite modelului **să evalueze direcția în care trebuie ajustate predicțiile (prin gradient), dar și câtă încredere să aibă în aceste ajustări (prin hessian)**, contribuind la o convergență mai rapidă și mai stabilă a modelului."
      ]
    },
    {
      "cell_type": "code",
      "execution_count": 25,
      "metadata": {
        "ExecuteTime": {
          "end_time": "2025-07-23T19:09:32.163174Z",
          "start_time": "2025-07-23T19:09:32.108047Z"
        },
        "id": "n7rs2FUR18LG"
      },
      "outputs": [],
      "source": [
        "import pandas as pd\n",
        "from sklearn.model_selection import train_test_split, GridSearchCV\n",
        "from sklearn.preprocessing import StandardScaler, LabelEncoder\n",
        "from sklearn.metrics import accuracy_score, classification_report, matthews_corrcoef, roc_auc_score\n",
        "from xgboost import XGBClassifier\n",
        "from sklearn.metrics import confusion_matrix, ConfusionMatrixDisplay\n",
        "import matplotlib.pyplot as plt\n",
        "from sklearn.preprocessing import label_binarize"
      ]
    },
    {
      "cell_type": "code",
      "execution_count": 26,
      "metadata": {
        "ExecuteTime": {
          "end_time": "2025-07-23T19:09:32.323388Z",
          "start_time": "2025-07-23T19:09:32.313985Z"
        },
        "id": "IXrch8Kq1-Ke"
      },
      "outputs": [],
      "source": [
        "# Split în 70% train, 10% val, 20% test\n",
        "train_val_df, test_df = train_test_split(\n",
        "    white_df,\n",
        "    test_size=0.2,\n",
        "    random_state=42,\n",
        "    stratify=white_df[\"quality\"]\n",
        ")\n",
        "\n",
        "train_df, val_df = train_test_split(\n",
        "    train_val_df,\n",
        "    test_size=0.125,\n",
        "    random_state=42,\n",
        "    stratify=train_val_df[\"quality\"]\n",
        ")"
      ]
    },
    {
      "cell_type": "code",
      "execution_count": 27,
      "metadata": {
        "ExecuteTime": {
          "end_time": "2025-07-23T19:09:32.539448Z",
          "start_time": "2025-07-23T19:09:32.533694Z"
        },
        "id": "scFHjVeA2ZKV"
      },
      "outputs": [],
      "source": [
        "def map_quality(q):\n",
        "    if q in [3, 4]:\n",
        "        return \"low\"\n",
        "    elif q in [5, 6]:\n",
        "        return \"medium\"\n",
        "    else:\n",
        "        return \"high\"\n",
        "\n",
        "for df in [train_df, val_df, test_df]:\n",
        "    df[\"quality_group\"] = df[\"quality\"].apply(map_quality)\n"
      ]
    },
    {
      "cell_type": "markdown",
      "metadata": {
        "id": "GcCk_Wvy207u"
      },
      "source": [
        "# **Baseline model**"
      ]
    },
    {
      "cell_type": "code",
      "execution_count": 28,
      "metadata": {
        "ExecuteTime": {
          "end_time": "2025-07-23T19:09:32.769935Z",
          "start_time": "2025-07-23T19:09:32.764545Z"
        },
        "id": "XgQWQGUI2fCU"
      },
      "outputs": [],
      "source": [
        "X_train = train_df.drop([\"quality\", \"quality_group\"], axis=1)\n",
        "y_train = train_df[\"quality_group\"]\n",
        "\n",
        "X_val = val_df.drop([\"quality\", \"quality_group\"], axis=1)\n",
        "y_val = val_df[\"quality_group\"]\n",
        "\n",
        "X_test = test_df.drop([\"quality\", \"quality_group\"], axis=1)\n",
        "y_test = test_df[\"quality_group\"]\n"
      ]
    },
    {
      "cell_type": "code",
      "execution_count": 29,
      "metadata": {
        "ExecuteTime": {
          "end_time": "2025-07-23T19:09:33.006140Z",
          "start_time": "2025-07-23T19:09:32.996544Z"
        },
        "id": "QyAfnVx22jLc"
      },
      "outputs": [],
      "source": [
        "le = LabelEncoder() # pentru a converti etichetele low, medium și high în 0, 1 și 2.\n",
        "y_train_enc = le.fit_transform(y_train)\n",
        "y_val_enc = le.transform(y_val)\n",
        "y_test_enc = le.transform(y_test)\n",
        "\n",
        "scaler = StandardScaler()\n",
        "X_train_scaled = scaler.fit_transform(X_train)\n",
        "X_val_scaled = scaler.transform(X_val)\n",
        "X_test_scaled = scaler.transform(X_test)"
      ]
    },
    {
      "cell_type": "code",
      "execution_count": 30,
      "metadata": {
        "ExecuteTime": {
          "end_time": "2025-07-23T19:09:33.247996Z",
          "start_time": "2025-07-23T19:09:33.244635Z"
        },
        "colab": {
          "base_uri": "https://localhost:8080/"
        },
        "id": "E39NC5dA4g2f",
        "outputId": "9977370a-d9de-4aea-b9ab-d21fe1c0a63e"
      },
      "outputs": [
        {
          "name": "stdout",
          "output_type": "stream",
          "text": [
            "3.0.2\n",
            "XGBClassifier path: xgboost.sklearn\n"
          ]
        }
      ],
      "source": [
        "#!pip install --upgrade xgboost\n",
        "import xgboost\n",
        "print(xgboost.__version__)\n",
        "print(\"XGBClassifier path:\", XGBClassifier.__module__)\n",
        "#help(XGBClassifier.fit)"
      ]
    },
    {
      "cell_type": "code",
      "execution_count": 31,
      "metadata": {
        "ExecuteTime": {
          "end_time": "2025-07-23T19:09:33.559255Z",
          "start_time": "2025-07-23T19:09:33.555949Z"
        },
        "id": "IkcaqL8mDQj4"
      },
      "outputs": [],
      "source": [
        "model = XGBClassifier(\n",
        "    n_estimators=200,\n",
        "    learning_rate=0.1,\n",
        "    max_depth=7,\n",
        "    subsample=1.0,\n",
        "    objective='multi:softprob',\n",
        "    num_class=3,\n",
        "    use_label_encoder=False,\n",
        "    eval_metric='mlogloss',\n",
        "    verbosity=0,\n",
        "    min_child_weight=1\n",
        ")\n"
      ]
    },
    {
      "cell_type": "code",
      "execution_count": 32,
      "metadata": {
        "ExecuteTime": {
          "end_time": "2025-07-23T19:09:35.018664Z",
          "start_time": "2025-07-23T19:09:33.807817Z"
        },
        "colab": {
          "base_uri": "https://localhost:8080/",
          "height": 1000
        },
        "id": "Uw4YDNul4MQm",
        "outputId": "933c8e4e-428c-4ee6-94a6-17ca1cf73a10"
      },
      "outputs": [
        {
          "name": "stdout",
          "output_type": "stream",
          "text": [
            "[0]\tvalidation_0-mlogloss:1.01143\tvalidation_1-mlogloss:1.02021\n",
            "[1]\tvalidation_0-mlogloss:0.93622\tvalidation_1-mlogloss:0.95506\n",
            "[2]\tvalidation_0-mlogloss:0.87022\tvalidation_1-mlogloss:0.89988\n",
            "[3]\tvalidation_0-mlogloss:0.81256\tvalidation_1-mlogloss:0.85309\n",
            "[4]\tvalidation_0-mlogloss:0.76296\tvalidation_1-mlogloss:0.81105\n",
            "[5]\tvalidation_0-mlogloss:0.71894\tvalidation_1-mlogloss:0.77516\n",
            "[6]\tvalidation_0-mlogloss:0.67990\tvalidation_1-mlogloss:0.74462\n",
            "[7]\tvalidation_0-mlogloss:0.64556\tvalidation_1-mlogloss:0.71828\n",
            "[8]\tvalidation_0-mlogloss:0.61318\tvalidation_1-mlogloss:0.69487\n",
            "[9]\tvalidation_0-mlogloss:0.58441\tvalidation_1-mlogloss:0.67507\n",
            "[10]\tvalidation_0-mlogloss:0.55922\tvalidation_1-mlogloss:0.65653\n",
            "[11]\tvalidation_0-mlogloss:0.53549\tvalidation_1-mlogloss:0.63972\n",
            "[12]\tvalidation_0-mlogloss:0.51426\tvalidation_1-mlogloss:0.62490\n",
            "[13]\tvalidation_0-mlogloss:0.49445\tvalidation_1-mlogloss:0.61277\n",
            "[14]\tvalidation_0-mlogloss:0.47641\tvalidation_1-mlogloss:0.60026\n",
            "[15]\tvalidation_0-mlogloss:0.45965\tvalidation_1-mlogloss:0.58941\n",
            "[16]\tvalidation_0-mlogloss:0.44436\tvalidation_1-mlogloss:0.58060\n",
            "[17]\tvalidation_0-mlogloss:0.43127\tvalidation_1-mlogloss:0.57172\n",
            "[18]\tvalidation_0-mlogloss:0.41863\tvalidation_1-mlogloss:0.56550\n",
            "[19]\tvalidation_0-mlogloss:0.40678\tvalidation_1-mlogloss:0.55950\n",
            "[20]\tvalidation_0-mlogloss:0.39591\tvalidation_1-mlogloss:0.55490\n",
            "[21]\tvalidation_0-mlogloss:0.38466\tvalidation_1-mlogloss:0.55089\n",
            "[22]\tvalidation_0-mlogloss:0.37523\tvalidation_1-mlogloss:0.54653\n",
            "[23]\tvalidation_0-mlogloss:0.36625\tvalidation_1-mlogloss:0.54273\n",
            "[24]\tvalidation_0-mlogloss:0.35749\tvalidation_1-mlogloss:0.54058\n",
            "[25]\tvalidation_0-mlogloss:0.34958\tvalidation_1-mlogloss:0.53852\n",
            "[26]\tvalidation_0-mlogloss:0.34223\tvalidation_1-mlogloss:0.53659\n",
            "[27]\tvalidation_0-mlogloss:0.33399\tvalidation_1-mlogloss:0.53389\n",
            "[28]\tvalidation_0-mlogloss:0.32690\tvalidation_1-mlogloss:0.52994\n",
            "[29]\tvalidation_0-mlogloss:0.31957\tvalidation_1-mlogloss:0.52801\n",
            "[30]\tvalidation_0-mlogloss:0.31335\tvalidation_1-mlogloss:0.52576\n",
            "[31]\tvalidation_0-mlogloss:0.30745\tvalidation_1-mlogloss:0.52467\n",
            "[32]\tvalidation_0-mlogloss:0.30214\tvalidation_1-mlogloss:0.52151\n",
            "[33]\tvalidation_0-mlogloss:0.29783\tvalidation_1-mlogloss:0.52001\n",
            "[34]\tvalidation_0-mlogloss:0.29351\tvalidation_1-mlogloss:0.51859\n",
            "[35]\tvalidation_0-mlogloss:0.28886\tvalidation_1-mlogloss:0.51729\n",
            "[36]\tvalidation_0-mlogloss:0.28458\tvalidation_1-mlogloss:0.51667\n",
            "[37]\tvalidation_0-mlogloss:0.28108\tvalidation_1-mlogloss:0.51601\n",
            "[38]\tvalidation_0-mlogloss:0.27762\tvalidation_1-mlogloss:0.51527\n",
            "[39]\tvalidation_0-mlogloss:0.27322\tvalidation_1-mlogloss:0.51415\n",
            "[40]\tvalidation_0-mlogloss:0.26866\tvalidation_1-mlogloss:0.51399\n",
            "[41]\tvalidation_0-mlogloss:0.26539\tvalidation_1-mlogloss:0.51337\n",
            "[42]\tvalidation_0-mlogloss:0.26147\tvalidation_1-mlogloss:0.51294\n",
            "[43]\tvalidation_0-mlogloss:0.25831\tvalidation_1-mlogloss:0.51328\n",
            "[44]\tvalidation_0-mlogloss:0.25495\tvalidation_1-mlogloss:0.51340\n",
            "[45]\tvalidation_0-mlogloss:0.25202\tvalidation_1-mlogloss:0.51343\n",
            "[46]\tvalidation_0-mlogloss:0.24949\tvalidation_1-mlogloss:0.51288\n",
            "[47]\tvalidation_0-mlogloss:0.24631\tvalidation_1-mlogloss:0.51222\n",
            "[48]\tvalidation_0-mlogloss:0.24388\tvalidation_1-mlogloss:0.51205\n",
            "[49]\tvalidation_0-mlogloss:0.24058\tvalidation_1-mlogloss:0.51134\n",
            "[50]\tvalidation_0-mlogloss:0.23698\tvalidation_1-mlogloss:0.51054\n",
            "[51]\tvalidation_0-mlogloss:0.23492\tvalidation_1-mlogloss:0.51032\n",
            "[52]\tvalidation_0-mlogloss:0.23275\tvalidation_1-mlogloss:0.51014\n",
            "[53]\tvalidation_0-mlogloss:0.22986\tvalidation_1-mlogloss:0.50925\n",
            "[54]\tvalidation_0-mlogloss:0.22810\tvalidation_1-mlogloss:0.50935\n",
            "[55]\tvalidation_0-mlogloss:0.22578\tvalidation_1-mlogloss:0.50885\n",
            "[56]\tvalidation_0-mlogloss:0.22424\tvalidation_1-mlogloss:0.50941\n",
            "[57]\tvalidation_0-mlogloss:0.22166\tvalidation_1-mlogloss:0.50903\n",
            "[58]\tvalidation_0-mlogloss:0.21811\tvalidation_1-mlogloss:0.51062\n",
            "[59]\tvalidation_0-mlogloss:0.21570\tvalidation_1-mlogloss:0.51086\n",
            "[60]\tvalidation_0-mlogloss:0.21411\tvalidation_1-mlogloss:0.51071\n",
            "[61]\tvalidation_0-mlogloss:0.21204\tvalidation_1-mlogloss:0.51033\n",
            "[62]\tvalidation_0-mlogloss:0.21028\tvalidation_1-mlogloss:0.51040\n",
            "[63]\tvalidation_0-mlogloss:0.20844\tvalidation_1-mlogloss:0.51073\n",
            "[64]\tvalidation_0-mlogloss:0.20664\tvalidation_1-mlogloss:0.51073\n"
          ]
        },
        {
          "data": {
            "text/html": [
              "<style>#sk-container-id-1 {\n",
              "  /* Definition of color scheme common for light and dark mode */\n",
              "  --sklearn-color-text: #000;\n",
              "  --sklearn-color-text-muted: #666;\n",
              "  --sklearn-color-line: gray;\n",
              "  /* Definition of color scheme for unfitted estimators */\n",
              "  --sklearn-color-unfitted-level-0: #fff5e6;\n",
              "  --sklearn-color-unfitted-level-1: #f6e4d2;\n",
              "  --sklearn-color-unfitted-level-2: #ffe0b3;\n",
              "  --sklearn-color-unfitted-level-3: chocolate;\n",
              "  /* Definition of color scheme for fitted estimators */\n",
              "  --sklearn-color-fitted-level-0: #f0f8ff;\n",
              "  --sklearn-color-fitted-level-1: #d4ebff;\n",
              "  --sklearn-color-fitted-level-2: #b3dbfd;\n",
              "  --sklearn-color-fitted-level-3: cornflowerblue;\n",
              "\n",
              "  /* Specific color for light theme */\n",
              "  --sklearn-color-text-on-default-background: var(--sg-text-color, var(--theme-code-foreground, var(--jp-content-font-color1, black)));\n",
              "  --sklearn-color-background: var(--sg-background-color, var(--theme-background, var(--jp-layout-color0, white)));\n",
              "  --sklearn-color-border-box: var(--sg-text-color, var(--theme-code-foreground, var(--jp-content-font-color1, black)));\n",
              "  --sklearn-color-icon: #696969;\n",
              "\n",
              "  @media (prefers-color-scheme: dark) {\n",
              "    /* Redefinition of color scheme for dark theme */\n",
              "    --sklearn-color-text-on-default-background: var(--sg-text-color, var(--theme-code-foreground, var(--jp-content-font-color1, white)));\n",
              "    --sklearn-color-background: var(--sg-background-color, var(--theme-background, var(--jp-layout-color0, #111)));\n",
              "    --sklearn-color-border-box: var(--sg-text-color, var(--theme-code-foreground, var(--jp-content-font-color1, white)));\n",
              "    --sklearn-color-icon: #878787;\n",
              "  }\n",
              "}\n",
              "\n",
              "#sk-container-id-1 {\n",
              "  color: var(--sklearn-color-text);\n",
              "}\n",
              "\n",
              "#sk-container-id-1 pre {\n",
              "  padding: 0;\n",
              "}\n",
              "\n",
              "#sk-container-id-1 input.sk-hidden--visually {\n",
              "  border: 0;\n",
              "  clip: rect(1px 1px 1px 1px);\n",
              "  clip: rect(1px, 1px, 1px, 1px);\n",
              "  height: 1px;\n",
              "  margin: -1px;\n",
              "  overflow: hidden;\n",
              "  padding: 0;\n",
              "  position: absolute;\n",
              "  width: 1px;\n",
              "}\n",
              "\n",
              "#sk-container-id-1 div.sk-dashed-wrapped {\n",
              "  border: 1px dashed var(--sklearn-color-line);\n",
              "  margin: 0 0.4em 0.5em 0.4em;\n",
              "  box-sizing: border-box;\n",
              "  padding-bottom: 0.4em;\n",
              "  background-color: var(--sklearn-color-background);\n",
              "}\n",
              "\n",
              "#sk-container-id-1 div.sk-container {\n",
              "  /* jupyter's `normalize.less` sets `[hidden] { display: none; }`\n",
              "     but bootstrap.min.css set `[hidden] { display: none !important; }`\n",
              "     so we also need the `!important` here to be able to override the\n",
              "     default hidden behavior on the sphinx rendered scikit-learn.org.\n",
              "     See: https://github.com/scikit-learn/scikit-learn/issues/21755 */\n",
              "  display: inline-block !important;\n",
              "  position: relative;\n",
              "}\n",
              "\n",
              "#sk-container-id-1 div.sk-text-repr-fallback {\n",
              "  display: none;\n",
              "}\n",
              "\n",
              "div.sk-parallel-item,\n",
              "div.sk-serial,\n",
              "div.sk-item {\n",
              "  /* draw centered vertical line to link estimators */\n",
              "  background-image: linear-gradient(var(--sklearn-color-text-on-default-background), var(--sklearn-color-text-on-default-background));\n",
              "  background-size: 2px 100%;\n",
              "  background-repeat: no-repeat;\n",
              "  background-position: center center;\n",
              "}\n",
              "\n",
              "/* Parallel-specific style estimator block */\n",
              "\n",
              "#sk-container-id-1 div.sk-parallel-item::after {\n",
              "  content: \"\";\n",
              "  width: 100%;\n",
              "  border-bottom: 2px solid var(--sklearn-color-text-on-default-background);\n",
              "  flex-grow: 1;\n",
              "}\n",
              "\n",
              "#sk-container-id-1 div.sk-parallel {\n",
              "  display: flex;\n",
              "  align-items: stretch;\n",
              "  justify-content: center;\n",
              "  background-color: var(--sklearn-color-background);\n",
              "  position: relative;\n",
              "}\n",
              "\n",
              "#sk-container-id-1 div.sk-parallel-item {\n",
              "  display: flex;\n",
              "  flex-direction: column;\n",
              "}\n",
              "\n",
              "#sk-container-id-1 div.sk-parallel-item:first-child::after {\n",
              "  align-self: flex-end;\n",
              "  width: 50%;\n",
              "}\n",
              "\n",
              "#sk-container-id-1 div.sk-parallel-item:last-child::after {\n",
              "  align-self: flex-start;\n",
              "  width: 50%;\n",
              "}\n",
              "\n",
              "#sk-container-id-1 div.sk-parallel-item:only-child::after {\n",
              "  width: 0;\n",
              "}\n",
              "\n",
              "/* Serial-specific style estimator block */\n",
              "\n",
              "#sk-container-id-1 div.sk-serial {\n",
              "  display: flex;\n",
              "  flex-direction: column;\n",
              "  align-items: center;\n",
              "  background-color: var(--sklearn-color-background);\n",
              "  padding-right: 1em;\n",
              "  padding-left: 1em;\n",
              "}\n",
              "\n",
              "\n",
              "/* Toggleable style: style used for estimator/Pipeline/ColumnTransformer box that is\n",
              "clickable and can be expanded/collapsed.\n",
              "- Pipeline and ColumnTransformer use this feature and define the default style\n",
              "- Estimators will overwrite some part of the style using the `sk-estimator` class\n",
              "*/\n",
              "\n",
              "/* Pipeline and ColumnTransformer style (default) */\n",
              "\n",
              "#sk-container-id-1 div.sk-toggleable {\n",
              "  /* Default theme specific background. It is overwritten whether we have a\n",
              "  specific estimator or a Pipeline/ColumnTransformer */\n",
              "  background-color: var(--sklearn-color-background);\n",
              "}\n",
              "\n",
              "/* Toggleable label */\n",
              "#sk-container-id-1 label.sk-toggleable__label {\n",
              "  cursor: pointer;\n",
              "  display: flex;\n",
              "  width: 100%;\n",
              "  margin-bottom: 0;\n",
              "  padding: 0.5em;\n",
              "  box-sizing: border-box;\n",
              "  text-align: center;\n",
              "  align-items: start;\n",
              "  justify-content: space-between;\n",
              "  gap: 0.5em;\n",
              "}\n",
              "\n",
              "#sk-container-id-1 label.sk-toggleable__label .caption {\n",
              "  font-size: 0.6rem;\n",
              "  font-weight: lighter;\n",
              "  color: var(--sklearn-color-text-muted);\n",
              "}\n",
              "\n",
              "#sk-container-id-1 label.sk-toggleable__label-arrow:before {\n",
              "  /* Arrow on the left of the label */\n",
              "  content: \"▸\";\n",
              "  float: left;\n",
              "  margin-right: 0.25em;\n",
              "  color: var(--sklearn-color-icon);\n",
              "}\n",
              "\n",
              "#sk-container-id-1 label.sk-toggleable__label-arrow:hover:before {\n",
              "  color: var(--sklearn-color-text);\n",
              "}\n",
              "\n",
              "/* Toggleable content - dropdown */\n",
              "\n",
              "#sk-container-id-1 div.sk-toggleable__content {\n",
              "  max-height: 0;\n",
              "  max-width: 0;\n",
              "  overflow: hidden;\n",
              "  text-align: left;\n",
              "  /* unfitted */\n",
              "  background-color: var(--sklearn-color-unfitted-level-0);\n",
              "}\n",
              "\n",
              "#sk-container-id-1 div.sk-toggleable__content.fitted {\n",
              "  /* fitted */\n",
              "  background-color: var(--sklearn-color-fitted-level-0);\n",
              "}\n",
              "\n",
              "#sk-container-id-1 div.sk-toggleable__content pre {\n",
              "  margin: 0.2em;\n",
              "  border-radius: 0.25em;\n",
              "  color: var(--sklearn-color-text);\n",
              "  /* unfitted */\n",
              "  background-color: var(--sklearn-color-unfitted-level-0);\n",
              "}\n",
              "\n",
              "#sk-container-id-1 div.sk-toggleable__content.fitted pre {\n",
              "  /* unfitted */\n",
              "  background-color: var(--sklearn-color-fitted-level-0);\n",
              "}\n",
              "\n",
              "#sk-container-id-1 input.sk-toggleable__control:checked~div.sk-toggleable__content {\n",
              "  /* Expand drop-down */\n",
              "  max-height: 200px;\n",
              "  max-width: 100%;\n",
              "  overflow: auto;\n",
              "}\n",
              "\n",
              "#sk-container-id-1 input.sk-toggleable__control:checked~label.sk-toggleable__label-arrow:before {\n",
              "  content: \"▾\";\n",
              "}\n",
              "\n",
              "/* Pipeline/ColumnTransformer-specific style */\n",
              "\n",
              "#sk-container-id-1 div.sk-label input.sk-toggleable__control:checked~label.sk-toggleable__label {\n",
              "  color: var(--sklearn-color-text);\n",
              "  background-color: var(--sklearn-color-unfitted-level-2);\n",
              "}\n",
              "\n",
              "#sk-container-id-1 div.sk-label.fitted input.sk-toggleable__control:checked~label.sk-toggleable__label {\n",
              "  background-color: var(--sklearn-color-fitted-level-2);\n",
              "}\n",
              "\n",
              "/* Estimator-specific style */\n",
              "\n",
              "/* Colorize estimator box */\n",
              "#sk-container-id-1 div.sk-estimator input.sk-toggleable__control:checked~label.sk-toggleable__label {\n",
              "  /* unfitted */\n",
              "  background-color: var(--sklearn-color-unfitted-level-2);\n",
              "}\n",
              "\n",
              "#sk-container-id-1 div.sk-estimator.fitted input.sk-toggleable__control:checked~label.sk-toggleable__label {\n",
              "  /* fitted */\n",
              "  background-color: var(--sklearn-color-fitted-level-2);\n",
              "}\n",
              "\n",
              "#sk-container-id-1 div.sk-label label.sk-toggleable__label,\n",
              "#sk-container-id-1 div.sk-label label {\n",
              "  /* The background is the default theme color */\n",
              "  color: var(--sklearn-color-text-on-default-background);\n",
              "}\n",
              "\n",
              "/* On hover, darken the color of the background */\n",
              "#sk-container-id-1 div.sk-label:hover label.sk-toggleable__label {\n",
              "  color: var(--sklearn-color-text);\n",
              "  background-color: var(--sklearn-color-unfitted-level-2);\n",
              "}\n",
              "\n",
              "/* Label box, darken color on hover, fitted */\n",
              "#sk-container-id-1 div.sk-label.fitted:hover label.sk-toggleable__label.fitted {\n",
              "  color: var(--sklearn-color-text);\n",
              "  background-color: var(--sklearn-color-fitted-level-2);\n",
              "}\n",
              "\n",
              "/* Estimator label */\n",
              "\n",
              "#sk-container-id-1 div.sk-label label {\n",
              "  font-family: monospace;\n",
              "  font-weight: bold;\n",
              "  display: inline-block;\n",
              "  line-height: 1.2em;\n",
              "}\n",
              "\n",
              "#sk-container-id-1 div.sk-label-container {\n",
              "  text-align: center;\n",
              "}\n",
              "\n",
              "/* Estimator-specific */\n",
              "#sk-container-id-1 div.sk-estimator {\n",
              "  font-family: monospace;\n",
              "  border: 1px dotted var(--sklearn-color-border-box);\n",
              "  border-radius: 0.25em;\n",
              "  box-sizing: border-box;\n",
              "  margin-bottom: 0.5em;\n",
              "  /* unfitted */\n",
              "  background-color: var(--sklearn-color-unfitted-level-0);\n",
              "}\n",
              "\n",
              "#sk-container-id-1 div.sk-estimator.fitted {\n",
              "  /* fitted */\n",
              "  background-color: var(--sklearn-color-fitted-level-0);\n",
              "}\n",
              "\n",
              "/* on hover */\n",
              "#sk-container-id-1 div.sk-estimator:hover {\n",
              "  /* unfitted */\n",
              "  background-color: var(--sklearn-color-unfitted-level-2);\n",
              "}\n",
              "\n",
              "#sk-container-id-1 div.sk-estimator.fitted:hover {\n",
              "  /* fitted */\n",
              "  background-color: var(--sklearn-color-fitted-level-2);\n",
              "}\n",
              "\n",
              "/* Specification for estimator info (e.g. \"i\" and \"?\") */\n",
              "\n",
              "/* Common style for \"i\" and \"?\" */\n",
              "\n",
              ".sk-estimator-doc-link,\n",
              "a:link.sk-estimator-doc-link,\n",
              "a:visited.sk-estimator-doc-link {\n",
              "  float: right;\n",
              "  font-size: smaller;\n",
              "  line-height: 1em;\n",
              "  font-family: monospace;\n",
              "  background-color: var(--sklearn-color-background);\n",
              "  border-radius: 1em;\n",
              "  height: 1em;\n",
              "  width: 1em;\n",
              "  text-decoration: none !important;\n",
              "  margin-left: 0.5em;\n",
              "  text-align: center;\n",
              "  /* unfitted */\n",
              "  border: var(--sklearn-color-unfitted-level-1) 1pt solid;\n",
              "  color: var(--sklearn-color-unfitted-level-1);\n",
              "}\n",
              "\n",
              ".sk-estimator-doc-link.fitted,\n",
              "a:link.sk-estimator-doc-link.fitted,\n",
              "a:visited.sk-estimator-doc-link.fitted {\n",
              "  /* fitted */\n",
              "  border: var(--sklearn-color-fitted-level-1) 1pt solid;\n",
              "  color: var(--sklearn-color-fitted-level-1);\n",
              "}\n",
              "\n",
              "/* On hover */\n",
              "div.sk-estimator:hover .sk-estimator-doc-link:hover,\n",
              ".sk-estimator-doc-link:hover,\n",
              "div.sk-label-container:hover .sk-estimator-doc-link:hover,\n",
              ".sk-estimator-doc-link:hover {\n",
              "  /* unfitted */\n",
              "  background-color: var(--sklearn-color-unfitted-level-3);\n",
              "  color: var(--sklearn-color-background);\n",
              "  text-decoration: none;\n",
              "}\n",
              "\n",
              "div.sk-estimator.fitted:hover .sk-estimator-doc-link.fitted:hover,\n",
              ".sk-estimator-doc-link.fitted:hover,\n",
              "div.sk-label-container:hover .sk-estimator-doc-link.fitted:hover,\n",
              ".sk-estimator-doc-link.fitted:hover {\n",
              "  /* fitted */\n",
              "  background-color: var(--sklearn-color-fitted-level-3);\n",
              "  color: var(--sklearn-color-background);\n",
              "  text-decoration: none;\n",
              "}\n",
              "\n",
              "/* Span, style for the box shown on hovering the info icon */\n",
              ".sk-estimator-doc-link span {\n",
              "  display: none;\n",
              "  z-index: 9999;\n",
              "  position: relative;\n",
              "  font-weight: normal;\n",
              "  right: .2ex;\n",
              "  padding: .5ex;\n",
              "  margin: .5ex;\n",
              "  width: min-content;\n",
              "  min-width: 20ex;\n",
              "  max-width: 50ex;\n",
              "  color: var(--sklearn-color-text);\n",
              "  box-shadow: 2pt 2pt 4pt #999;\n",
              "  /* unfitted */\n",
              "  background: var(--sklearn-color-unfitted-level-0);\n",
              "  border: .5pt solid var(--sklearn-color-unfitted-level-3);\n",
              "}\n",
              "\n",
              ".sk-estimator-doc-link.fitted span {\n",
              "  /* fitted */\n",
              "  background: var(--sklearn-color-fitted-level-0);\n",
              "  border: var(--sklearn-color-fitted-level-3);\n",
              "}\n",
              "\n",
              ".sk-estimator-doc-link:hover span {\n",
              "  display: block;\n",
              "}\n",
              "\n",
              "/* \"?\"-specific style due to the `<a>` HTML tag */\n",
              "\n",
              "#sk-container-id-1 a.estimator_doc_link {\n",
              "  float: right;\n",
              "  font-size: 1rem;\n",
              "  line-height: 1em;\n",
              "  font-family: monospace;\n",
              "  background-color: var(--sklearn-color-background);\n",
              "  border-radius: 1rem;\n",
              "  height: 1rem;\n",
              "  width: 1rem;\n",
              "  text-decoration: none;\n",
              "  /* unfitted */\n",
              "  color: var(--sklearn-color-unfitted-level-1);\n",
              "  border: var(--sklearn-color-unfitted-level-1) 1pt solid;\n",
              "}\n",
              "\n",
              "#sk-container-id-1 a.estimator_doc_link.fitted {\n",
              "  /* fitted */\n",
              "  border: var(--sklearn-color-fitted-level-1) 1pt solid;\n",
              "  color: var(--sklearn-color-fitted-level-1);\n",
              "}\n",
              "\n",
              "/* On hover */\n",
              "#sk-container-id-1 a.estimator_doc_link:hover {\n",
              "  /* unfitted */\n",
              "  background-color: var(--sklearn-color-unfitted-level-3);\n",
              "  color: var(--sklearn-color-background);\n",
              "  text-decoration: none;\n",
              "}\n",
              "\n",
              "#sk-container-id-1 a.estimator_doc_link.fitted:hover {\n",
              "  /* fitted */\n",
              "  background-color: var(--sklearn-color-fitted-level-3);\n",
              "}\n",
              "</style><div id=\"sk-container-id-1\" class=\"sk-top-container\"><div class=\"sk-text-repr-fallback\"><pre>XGBClassifier(base_score=None, booster=None, callbacks=None,\n",
              "              colsample_bylevel=None, colsample_bynode=None,\n",
              "              colsample_bytree=None, device=None, early_stopping_rounds=10,\n",
              "              enable_categorical=False, eval_metric=&#x27;mlogloss&#x27;,\n",
              "              feature_types=None, feature_weights=None, gamma=None,\n",
              "              grow_policy=None, importance_type=None,\n",
              "              interaction_constraints=None, learning_rate=0.1, max_bin=None,\n",
              "              max_cat_threshold=None, max_cat_to_onehot=None,\n",
              "              max_delta_step=None, max_depth=7, max_leaves=None,\n",
              "              min_child_weight=1, missing=nan, monotone_constraints=None,\n",
              "              multi_strategy=None, n_estimators=200, n_jobs=None, num_class=3, ...)</pre><b>In a Jupyter environment, please rerun this cell to show the HTML representation or trust the notebook. <br />On GitHub, the HTML representation is unable to render, please try loading this page with nbviewer.org.</b></div><div class=\"sk-container\" hidden><div class=\"sk-item\"><div class=\"sk-estimator fitted sk-toggleable\"><input class=\"sk-toggleable__control sk-hidden--visually\" id=\"sk-estimator-id-1\" type=\"checkbox\" checked><label for=\"sk-estimator-id-1\" class=\"sk-toggleable__label fitted sk-toggleable__label-arrow\"><div><div>XGBClassifier</div></div><div><a class=\"sk-estimator-doc-link fitted\" rel=\"noreferrer\" target=\"_blank\" href=\"https://xgboost.readthedocs.io/en/release_3.0.0/python/python_api.html#xgboost.XGBClassifier\">?<span>Documentation for XGBClassifier</span></a><span class=\"sk-estimator-doc-link fitted\">i<span>Fitted</span></span></div></label><div class=\"sk-toggleable__content fitted\"><pre>XGBClassifier(base_score=None, booster=None, callbacks=None,\n",
              "              colsample_bylevel=None, colsample_bynode=None,\n",
              "              colsample_bytree=None, device=None, early_stopping_rounds=10,\n",
              "              enable_categorical=False, eval_metric=&#x27;mlogloss&#x27;,\n",
              "              feature_types=None, feature_weights=None, gamma=None,\n",
              "              grow_policy=None, importance_type=None,\n",
              "              interaction_constraints=None, learning_rate=0.1, max_bin=None,\n",
              "              max_cat_threshold=None, max_cat_to_onehot=None,\n",
              "              max_delta_step=None, max_depth=7, max_leaves=None,\n",
              "              min_child_weight=1, missing=nan, monotone_constraints=None,\n",
              "              multi_strategy=None, n_estimators=200, n_jobs=None, num_class=3, ...)</pre></div> </div></div></div></div>"
            ],
            "text/plain": [
              "XGBClassifier(base_score=None, booster=None, callbacks=None,\n",
              "              colsample_bylevel=None, colsample_bynode=None,\n",
              "              colsample_bytree=None, device=None, early_stopping_rounds=10,\n",
              "              enable_categorical=False, eval_metric='mlogloss',\n",
              "              feature_types=None, feature_weights=None, gamma=None,\n",
              "              grow_policy=None, importance_type=None,\n",
              "              interaction_constraints=None, learning_rate=0.1, max_bin=None,\n",
              "              max_cat_threshold=None, max_cat_to_onehot=None,\n",
              "              max_delta_step=None, max_depth=7, max_leaves=None,\n",
              "              min_child_weight=1, missing=nan, monotone_constraints=None,\n",
              "              multi_strategy=None, n_estimators=200, n_jobs=None, num_class=3, ...)"
            ]
          },
          "execution_count": 32,
          "metadata": {},
          "output_type": "execute_result"
        }
      ],
      "source": [
        "\n",
        "model.set_params(early_stopping_rounds=10)\n",
        "model.fit(\n",
        "    X_train_scaled,\n",
        "    y_train_enc,\n",
        "    eval_set=[(X_train_scaled, y_train_enc), (X_val_scaled, y_val_enc)],\n",
        "    verbose=True\n",
        ")"
      ]
    },
    {
      "cell_type": "code",
      "execution_count": 33,
      "metadata": {
        "ExecuteTime": {
          "end_time": "2025-07-23T19:09:35.436380Z",
          "start_time": "2025-07-23T19:09:35.370933Z"
        },
        "colab": {
          "base_uri": "https://localhost:8080/"
        },
        "id": "zbz70-C54Qpe",
        "outputId": "2bc28a5e-25a9-4699-b289-131f9ddcb26a"
      },
      "outputs": [
        {
          "name": "stdout",
          "output_type": "stream",
          "text": [
            "\n",
            "Acuratețea modelului XGBoost cu early stopping: 77.18%\n",
            "\n",
            "Classification Report:\n",
            "              precision    recall  f1-score   support\n",
            "\n",
            "        high       0.60      0.38      0.46       165\n",
            "         low       0.29      0.06      0.10        35\n",
            "      medium       0.80      0.92      0.86       593\n",
            "\n",
            "    accuracy                           0.77       793\n",
            "   macro avg       0.56      0.45      0.47       793\n",
            "weighted avg       0.74      0.77      0.74       793\n",
            "\n"
          ]
        }
      ],
      "source": [
        "y_pred_enc = model.predict(X_test_scaled)\n",
        "y_pred = le.inverse_transform(y_pred_enc)\n",
        "\n",
        "# === Evaluare\n",
        "accuracy = accuracy_score(y_test, y_pred)\n",
        "print(\"\\nAcuratețea modelului XGBoost cu early stopping: {:.2f}%\".format(accuracy * 100))\n",
        "\n",
        "print(\"\\nClassification Report:\")\n",
        "print(classification_report(y_test, y_pred))"
      ]
    },
    {
      "cell_type": "markdown",
      "metadata": {
        "id": "a7DeVpmzH8t5"
      },
      "source": [
        "Din cele 793 de exemple din setul de test:\n",
        "\n",
        "Aproximativ 612 au fost clasificate corect. Acuratețea este bună, dar nu suficientă pentru a evalua corect un model în cazul unui dezechilibru între clase, cum este cazul aici.\n",
        "\n",
        "Clasa high: precision = 0.60: 60% dintre predicțiile \"high\" au fost corecte.recall = 0.38: doar 38% din exemplele \"high\" au fost recunoscute corect.\n",
        "\n",
        "Clasa medium: precision = 0.80: 80% dintre predicțiile \"medium\" au fost corecte.\n",
        "recall = 0.92: 92% din toate instanțele \"medium\" au fost recunoscute corect.\n",
        "f1-score = 0.86: scor foarte bun, modelul învață bine clasa aceasta.\n",
        "\n",
        "Clasa low: precision = 0.29: 29% dintre predicțiile \"low\" au fost corecte. recall = 0.06: doar 6% dintre exemplele reale low au fost recunoscute, f1-score foarte slab (0.10).\n",
        "\n",
        "Macro avg: media simplă între clase, tratate egal (utilă când clasele sunt dezechilibrate). Macro avg = scăzut, semn că modelul nu generalizează bine pe toate clasele.\n",
        "\n",
        "Weighted avg: ține cont de mărimea fiecărei clase, dominată de medium. Weighted avg = înalt, dar maschează performanța slabă pe clasele mici."
      ]
    },
    {
      "cell_type": "markdown",
      "metadata": {
        "id": "r5MCHFWeLO5F"
      },
      "source": [
        "**Confusion Matrix**"
      ]
    },
    {
      "cell_type": "code",
      "execution_count": 34,
      "metadata": {
        "ExecuteTime": {
          "end_time": "2025-07-23T19:09:35.774335Z",
          "start_time": "2025-07-23T19:09:35.581941Z"
        },
        "colab": {
          "base_uri": "https://localhost:8080/",
          "height": 472
        },
        "id": "stgH75bFJVjd",
        "outputId": "90bc7d99-b839-4987-9f5f-2f0abaee9406"
      },
      "outputs": [
        {
          "data": {
            "image/png": "[encoded data removed]",
            "text/plain": [
              "<Figure size 640x480 with 2 Axes>"
            ]
          },
          "metadata": {},
          "output_type": "display_data"
        }
      ],
      "source": [
        "ordered_labels = ['low', 'medium', 'high']\n",
        "cm = confusion_matrix(y_test, y_pred, labels=ordered_labels)\n",
        "disp = ConfusionMatrixDisplay(confusion_matrix=cm, display_labels=ordered_labels)\n",
        "disp.plot(cmap=\"Blues\", values_format='d')\n",
        "plt.title(\"Matrice de Confuzie - XGBoost\")\n",
        "plt.xlabel(\"Clasă Prezisă\")\n",
        "plt.ylabel(\"Clasă Reală\")\n",
        "plt.grid(False)\n",
        "plt.show()"
      ]
    },
    {
      "cell_type": "markdown",
      "metadata": {
        "id": "LsaNqgDiN-Ez"
      },
      "source": [
        "**ROC_AUC Score**"
      ]
    },
    {
      "cell_type": "code",
      "execution_count": 35,
      "metadata": {
        "ExecuteTime": {
          "end_time": "2025-07-23T19:09:35.879974Z",
          "start_time": "2025-07-23T19:09:35.859670Z"
        },
        "colab": {
          "base_uri": "https://localhost:8080/"
        },
        "id": "1ubMBs2WLkfr",
        "outputId": "71c7252f-25cc-4a40-ac19-a6bbd46b0b91"
      },
      "outputs": [
        {
          "name": "stdout",
          "output_type": "stream",
          "text": [
            "ROC AUC (OvR, macro average): 0.3289\n"
          ]
        }
      ],
      "source": [
        "#sklearn.metrics import roc_auc_score și sklearn.preprocessing import label_binarize au fost importate\n",
        "y_proba = model.predict_proba(X_test_scaled)\n",
        "\n",
        "classes = ['low', 'medium', 'high']\n",
        "y_test_bin = label_binarize(y_test, classes=classes)\n",
        "\n",
        "roc_auc = roc_auc_score(y_test_bin, y_proba, average='macro', multi_class='ovr')\n",
        "\n",
        "print(f\"ROC AUC (OvR, macro average): {roc_auc:.4f}\")"
      ]
    },
    {
      "cell_type": "markdown",
      "metadata": {
        "id": "GY1ZTMpIMP2k"
      },
      "source": [
        "Un scor de 0.3289 este sub 0.5, ceea ce sugerează că:\n",
        "\n",
        "Modelul nu produce probabilități bine calibrate. Nu distinge clar între clasele low, medium, high. Ar putea fi supraspecializat pe clasa medium (cea dominantă), ignorând low și high. Modelul suferă de dezechilibru între clase, ceea ce afectează scorul ROC AUC.\n",
        "\n",
        "Acuratețea este ~77%, dar ROC AUC e 0.33 ceea ce semnalează un model dezechilibrat care poate prezice doar bine clasa majoritară (medium), dar slab celelalte."
      ]
    },
    {
      "cell_type": "markdown",
      "metadata": {
        "id": "HnCQGCkXOF1L"
      },
      "source": [
        "**Matthews Correlation Coefficient (MCC)**"
      ]
    },
    {
      "cell_type": "code",
      "execution_count": 36,
      "metadata": {
        "ExecuteTime": {
          "end_time": "2025-07-23T19:09:35.995109Z",
          "start_time": "2025-07-23T19:09:35.987133Z"
        },
        "colab": {
          "base_uri": "https://localhost:8080/"
        },
        "id": "6aGRC_rGN9Nz",
        "outputId": "f4023689-7765-4f32-862b-6841e7433349"
      },
      "outputs": [
        {
          "name": "stdout",
          "output_type": "stream",
          "text": [
            "Matthews Correlation Coefficient (MCC): 0.3246\n"
          ]
        }
      ],
      "source": [
        "mcc = matthews_corrcoef(y_test, y_pred)\n",
        "print(f\"Matthews Correlation Coefficient (MCC): {mcc:.4f}\")"
      ]
    },
    {
      "cell_type": "markdown",
      "metadata": {
        "id": "stPVcqrfOTSb"
      },
      "source": [
        "Valoarea este peste 0, deci modelul face mai bine decât o clasificare aleatorie. Dar nu depășește pragul de 0.5, ceea ce sugerează că modelul are performanță modestă, reușește parțial să distingă clasele (low, medium, high), dar greșește frecvent, mai ales la clasele minoritare (low și high). Probabil este puternic influențat de clasa majoritară medium.\n",
        "\n",
        "\n",
        "\n"
      ]
    },
    {
      "cell_type": "markdown",
      "metadata": {
        "id": "Kz7wPrd7OqSf"
      },
      "source": [
        "# **Model Optimization**"
      ]
    },
    {
      "cell_type": "code",
      "execution_count": 37,
      "metadata": {
        "ExecuteTime": {
          "end_time": "2025-07-23T19:09:38.102007Z",
          "start_time": "2025-07-23T19:09:36.202233Z"
        },
        "colab": {
          "base_uri": "https://localhost:8080/"
        },
        "id": "rZWIaqFb1hJi",
        "outputId": "a379a191-8bb9-42e9-e6e3-ff16f51ae901"
      },
      "outputs": [
        {
          "name": "stdout",
          "output_type": "stream",
          "text": [
            "[0]\tvalidation_0-merror:0.16198\tvalidation_1-merror:0.21465\n",
            "[1]\tvalidation_0-merror:0.15476\tvalidation_1-merror:0.21465\n",
            "[2]\tvalidation_0-merror:0.14755\tvalidation_1-merror:0.22222\n",
            "[3]\tvalidation_0-merror:0.14105\tvalidation_1-merror:0.23232\n",
            "[4]\tvalidation_0-merror:0.13528\tvalidation_1-merror:0.22727\n",
            "[5]\tvalidation_0-merror:0.13456\tvalidation_1-merror:0.22475\n",
            "[6]\tvalidation_0-merror:0.13203\tvalidation_1-merror:0.22222\n",
            "[7]\tvalidation_0-merror:0.13167\tvalidation_1-merror:0.21717\n",
            "[8]\tvalidation_0-merror:0.12843\tvalidation_1-merror:0.21970\n",
            "[9]\tvalidation_0-merror:0.12626\tvalidation_1-merror:0.22475\n",
            "[10]\tvalidation_0-merror:0.12590\tvalidation_1-merror:0.22727\n",
            "\n",
            "Acuratețea modelului XGBoost cu early stopping: 75.79%\n",
            "\n",
            "Classification Report:\n",
            "              precision    recall  f1-score   support\n",
            "\n",
            "        high       0.54      0.36      0.43       165\n",
            "         low       0.20      0.03      0.05        35\n",
            "      medium       0.80      0.91      0.85       593\n",
            "\n",
            "    accuracy                           0.76       793\n",
            "   macro avg       0.51      0.43      0.44       793\n",
            "weighted avg       0.72      0.76      0.73       793\n",
            "\n"
          ]
        }
      ],
      "source": [
        "model = XGBClassifier(\n",
        "    n_estimators=200,\n",
        "    learning_rate=0.1,\n",
        "    max_depth=7,\n",
        "    subsample=1.0,\n",
        "    objective='multi:softprob',\n",
        "    num_class=3,\n",
        "    use_label_encoder=False,\n",
        "    eval_metric='merror',\n",
        "    verbosity=0,\n",
        "    min_child_weight=1\n",
        ")\n",
        "model.set_params(early_stopping_rounds=10)\n",
        "model.fit(\n",
        "    X_train_scaled,\n",
        "    y_train_enc,\n",
        "    eval_set=[(X_train_scaled, y_train_enc), (X_val_scaled, y_val_enc)],\n",
        "    verbose=True\n",
        ")\n",
        "y_pred_enc = model.predict(X_test_scaled)\n",
        "y_pred = le.inverse_transform(y_pred_enc)\n",
        "\n",
        "# === Evaluare\n",
        "accuracy = accuracy_score(y_test, y_pred)\n",
        "print(\"\\nAcuratețea modelului XGBoost cu early stopping: {:.2f}%\".format(accuracy * 100))\n",
        "\n",
        "print(\"\\nClassification Report:\")\n",
        "print(classification_report(y_test, y_pred))"
      ]
    },
    {
      "cell_type": "code",
      "execution_count": 38,
      "metadata": {
        "ExecuteTime": {
          "end_time": "2025-07-23T19:09:41.055942Z",
          "start_time": "2025-07-23T19:09:38.191021Z"
        },
        "colab": {
          "base_uri": "https://localhost:8080/"
        },
        "id": "BpntwXnt1jmB",
        "outputId": "bf1e3612-af13-4ec5-c011-9b6f8ddd68ab"
      },
      "outputs": [
        {
          "name": "stdout",
          "output_type": "stream",
          "text": [
            "[0]\tvalidation_0-mlogloss:1.01143\tvalidation_1-mlogloss:1.02021\n",
            "[1]\tvalidation_0-mlogloss:0.93622\tvalidation_1-mlogloss:0.95506\n",
            "[2]\tvalidation_0-mlogloss:0.87022\tvalidation_1-mlogloss:0.89988\n",
            "[3]\tvalidation_0-mlogloss:0.81256\tvalidation_1-mlogloss:0.85309\n",
            "[4]\tvalidation_0-mlogloss:0.76296\tvalidation_1-mlogloss:0.81105\n",
            "[5]\tvalidation_0-mlogloss:0.71894\tvalidation_1-mlogloss:0.77516\n",
            "[6]\tvalidation_0-mlogloss:0.67990\tvalidation_1-mlogloss:0.74462\n",
            "[7]\tvalidation_0-mlogloss:0.64556\tvalidation_1-mlogloss:0.71828\n",
            "[8]\tvalidation_0-mlogloss:0.61318\tvalidation_1-mlogloss:0.69487\n",
            "[9]\tvalidation_0-mlogloss:0.58441\tvalidation_1-mlogloss:0.67507\n",
            "[10]\tvalidation_0-mlogloss:0.55922\tvalidation_1-mlogloss:0.65653\n",
            "[11]\tvalidation_0-mlogloss:0.53549\tvalidation_1-mlogloss:0.63972\n",
            "[12]\tvalidation_0-mlogloss:0.51426\tvalidation_1-mlogloss:0.62490\n",
            "[13]\tvalidation_0-mlogloss:0.49445\tvalidation_1-mlogloss:0.61277\n",
            "[14]\tvalidation_0-mlogloss:0.47641\tvalidation_1-mlogloss:0.60026\n",
            "[15]\tvalidation_0-mlogloss:0.45965\tvalidation_1-mlogloss:0.58941\n",
            "[16]\tvalidation_0-mlogloss:0.44436\tvalidation_1-mlogloss:0.58060\n",
            "[17]\tvalidation_0-mlogloss:0.43127\tvalidation_1-mlogloss:0.57172\n",
            "[18]\tvalidation_0-mlogloss:0.41863\tvalidation_1-mlogloss:0.56550\n",
            "[19]\tvalidation_0-mlogloss:0.40678\tvalidation_1-mlogloss:0.55950\n",
            "[20]\tvalidation_0-mlogloss:0.39591\tvalidation_1-mlogloss:0.55490\n",
            "[21]\tvalidation_0-mlogloss:0.38466\tvalidation_1-mlogloss:0.55089\n",
            "[22]\tvalidation_0-mlogloss:0.37523\tvalidation_1-mlogloss:0.54653\n",
            "[23]\tvalidation_0-mlogloss:0.36625\tvalidation_1-mlogloss:0.54273\n",
            "[24]\tvalidation_0-mlogloss:0.35749\tvalidation_1-mlogloss:0.54058\n",
            "[25]\tvalidation_0-mlogloss:0.34958\tvalidation_1-mlogloss:0.53852\n",
            "[26]\tvalidation_0-mlogloss:0.34223\tvalidation_1-mlogloss:0.53659\n",
            "[27]\tvalidation_0-mlogloss:0.33399\tvalidation_1-mlogloss:0.53389\n",
            "[28]\tvalidation_0-mlogloss:0.32690\tvalidation_1-mlogloss:0.52994\n",
            "[29]\tvalidation_0-mlogloss:0.31957\tvalidation_1-mlogloss:0.52801\n",
            "[30]\tvalidation_0-mlogloss:0.31335\tvalidation_1-mlogloss:0.52576\n",
            "[31]\tvalidation_0-mlogloss:0.30745\tvalidation_1-mlogloss:0.52467\n",
            "[32]\tvalidation_0-mlogloss:0.30214\tvalidation_1-mlogloss:0.52151\n",
            "[33]\tvalidation_0-mlogloss:0.29783\tvalidation_1-mlogloss:0.52001\n",
            "[34]\tvalidation_0-mlogloss:0.29351\tvalidation_1-mlogloss:0.51859\n",
            "[35]\tvalidation_0-mlogloss:0.28886\tvalidation_1-mlogloss:0.51729\n",
            "[36]\tvalidation_0-mlogloss:0.28458\tvalidation_1-mlogloss:0.51667\n",
            "[37]\tvalidation_0-mlogloss:0.28108\tvalidation_1-mlogloss:0.51601\n",
            "[38]\tvalidation_0-mlogloss:0.27762\tvalidation_1-mlogloss:0.51527\n",
            "[39]\tvalidation_0-mlogloss:0.27322\tvalidation_1-mlogloss:0.51415\n",
            "[40]\tvalidation_0-mlogloss:0.26866\tvalidation_1-mlogloss:0.51399\n",
            "[41]\tvalidation_0-mlogloss:0.26539\tvalidation_1-mlogloss:0.51337\n",
            "[42]\tvalidation_0-mlogloss:0.26147\tvalidation_1-mlogloss:0.51294\n",
            "[43]\tvalidation_0-mlogloss:0.25831\tvalidation_1-mlogloss:0.51328\n",
            "[44]\tvalidation_0-mlogloss:0.25495\tvalidation_1-mlogloss:0.51340\n",
            "[45]\tvalidation_0-mlogloss:0.25202\tvalidation_1-mlogloss:0.51343\n",
            "[46]\tvalidation_0-mlogloss:0.24949\tvalidation_1-mlogloss:0.51288\n",
            "[47]\tvalidation_0-mlogloss:0.24631\tvalidation_1-mlogloss:0.51222\n",
            "[48]\tvalidation_0-mlogloss:0.24388\tvalidation_1-mlogloss:0.51205\n",
            "[49]\tvalidation_0-mlogloss:0.24058\tvalidation_1-mlogloss:0.51134\n",
            "[50]\tvalidation_0-mlogloss:0.23698\tvalidation_1-mlogloss:0.51054\n",
            "[51]\tvalidation_0-mlogloss:0.23492\tvalidation_1-mlogloss:0.51032\n",
            "[52]\tvalidation_0-mlogloss:0.23275\tvalidation_1-mlogloss:0.51014\n",
            "[53]\tvalidation_0-mlogloss:0.22986\tvalidation_1-mlogloss:0.50925\n",
            "[54]\tvalidation_0-mlogloss:0.22810\tvalidation_1-mlogloss:0.50935\n",
            "[55]\tvalidation_0-mlogloss:0.22578\tvalidation_1-mlogloss:0.50885\n",
            "[56]\tvalidation_0-mlogloss:0.22424\tvalidation_1-mlogloss:0.50941\n",
            "[57]\tvalidation_0-mlogloss:0.22166\tvalidation_1-mlogloss:0.50903\n",
            "[58]\tvalidation_0-mlogloss:0.21811\tvalidation_1-mlogloss:0.51062\n",
            "[59]\tvalidation_0-mlogloss:0.21570\tvalidation_1-mlogloss:0.51086\n",
            "[60]\tvalidation_0-mlogloss:0.21411\tvalidation_1-mlogloss:0.51071\n",
            "[61]\tvalidation_0-mlogloss:0.21204\tvalidation_1-mlogloss:0.51033\n",
            "[62]\tvalidation_0-mlogloss:0.21028\tvalidation_1-mlogloss:0.51040\n",
            "[63]\tvalidation_0-mlogloss:0.20844\tvalidation_1-mlogloss:0.51073\n",
            "[64]\tvalidation_0-mlogloss:0.20664\tvalidation_1-mlogloss:0.51073\n",
            "[65]\tvalidation_0-mlogloss:0.20493\tvalidation_1-mlogloss:0.51067\n",
            "\n",
            "Acuratețea modelului XGBoost cu early stopping: 77.18%\n",
            "\n",
            "Classification Report:\n",
            "              precision    recall  f1-score   support\n",
            "\n",
            "        high       0.60      0.38      0.46       165\n",
            "         low       0.29      0.06      0.10        35\n",
            "      medium       0.80      0.92      0.86       593\n",
            "\n",
            "    accuracy                           0.77       793\n",
            "   macro avg       0.56      0.45      0.47       793\n",
            "weighted avg       0.74      0.77      0.74       793\n",
            "\n"
          ]
        }
      ],
      "source": [
        "model = XGBClassifier(\n",
        "    n_estimators=200,\n",
        "    learning_rate=0.1,\n",
        "    max_depth=7,\n",
        "    subsample=1.0,\n",
        "    objective='multi:softmax',\n",
        "    num_class=3,\n",
        "    use_label_encoder=False,\n",
        "    eval_metric='mlogloss',\n",
        "    verbosity=0,\n",
        "    min_child_weight=1\n",
        ")\n",
        "model.set_params(early_stopping_rounds=10)\n",
        "model.fit(\n",
        "    X_train_scaled,\n",
        "    y_train_enc,\n",
        "    eval_set=[(X_train_scaled, y_train_enc), (X_val_scaled, y_val_enc)],\n",
        "    verbose=True\n",
        ")\n",
        "y_pred_enc = model.predict(X_test_scaled)\n",
        "y_pred = le.inverse_transform(y_pred_enc)\n",
        "\n",
        "# === Evaluare\n",
        "accuracy = accuracy_score(y_test, y_pred)\n",
        "print(\"\\nAcuratețea modelului XGBoost cu early stopping: {:.2f}%\".format(accuracy * 100))\n",
        "\n",
        "print(\"\\nClassification Report:\")\n",
        "print(classification_report(y_test, y_pred))"
      ]
    },
    {
      "cell_type": "code",
      "execution_count": 39,
      "metadata": {
        "ExecuteTime": {
          "end_time": "2025-07-23T19:09:43.832125Z",
          "start_time": "2025-07-23T19:09:41.139784Z"
        },
        "colab": {
          "base_uri": "https://localhost:8080/"
        },
        "id": "Uj3ogniZ3nyx",
        "outputId": "977ea908-d9b5-4587-fecf-610f0f8bbdd8"
      },
      "outputs": [
        {
          "name": "stdout",
          "output_type": "stream",
          "text": [
            "[0]\tvalidation_0-mlogloss:1.01288\tvalidation_1-mlogloss:1.02230\n",
            "[1]\tvalidation_0-mlogloss:0.93890\tvalidation_1-mlogloss:0.96005\n",
            "[2]\tvalidation_0-mlogloss:0.87334\tvalidation_1-mlogloss:0.90420\n",
            "[3]\tvalidation_0-mlogloss:0.81767\tvalidation_1-mlogloss:0.85811\n",
            "[4]\tvalidation_0-mlogloss:0.76834\tvalidation_1-mlogloss:0.81540\n",
            "[5]\tvalidation_0-mlogloss:0.72527\tvalidation_1-mlogloss:0.78052\n",
            "[6]\tvalidation_0-mlogloss:0.68627\tvalidation_1-mlogloss:0.74926\n",
            "[7]\tvalidation_0-mlogloss:0.65124\tvalidation_1-mlogloss:0.72247\n",
            "[8]\tvalidation_0-mlogloss:0.61924\tvalidation_1-mlogloss:0.69740\n",
            "[9]\tvalidation_0-mlogloss:0.58892\tvalidation_1-mlogloss:0.67503\n",
            "[10]\tvalidation_0-mlogloss:0.56287\tvalidation_1-mlogloss:0.65774\n",
            "[11]\tvalidation_0-mlogloss:0.53916\tvalidation_1-mlogloss:0.64055\n",
            "[12]\tvalidation_0-mlogloss:0.51800\tvalidation_1-mlogloss:0.62476\n",
            "[13]\tvalidation_0-mlogloss:0.49854\tvalidation_1-mlogloss:0.61159\n",
            "[14]\tvalidation_0-mlogloss:0.47892\tvalidation_1-mlogloss:0.59927\n",
            "[15]\tvalidation_0-mlogloss:0.46235\tvalidation_1-mlogloss:0.59027\n",
            "[16]\tvalidation_0-mlogloss:0.44726\tvalidation_1-mlogloss:0.57924\n",
            "[17]\tvalidation_0-mlogloss:0.43374\tvalidation_1-mlogloss:0.57081\n",
            "[18]\tvalidation_0-mlogloss:0.42060\tvalidation_1-mlogloss:0.56345\n",
            "[19]\tvalidation_0-mlogloss:0.40866\tvalidation_1-mlogloss:0.55782\n",
            "[20]\tvalidation_0-mlogloss:0.39726\tvalidation_1-mlogloss:0.55099\n",
            "[21]\tvalidation_0-mlogloss:0.38502\tvalidation_1-mlogloss:0.54546\n",
            "[22]\tvalidation_0-mlogloss:0.37418\tvalidation_1-mlogloss:0.54085\n",
            "[23]\tvalidation_0-mlogloss:0.36499\tvalidation_1-mlogloss:0.53641\n",
            "[24]\tvalidation_0-mlogloss:0.35663\tvalidation_1-mlogloss:0.53047\n",
            "[25]\tvalidation_0-mlogloss:0.34904\tvalidation_1-mlogloss:0.52672\n",
            "[26]\tvalidation_0-mlogloss:0.34091\tvalidation_1-mlogloss:0.52452\n",
            "[27]\tvalidation_0-mlogloss:0.33108\tvalidation_1-mlogloss:0.52054\n",
            "[28]\tvalidation_0-mlogloss:0.32418\tvalidation_1-mlogloss:0.51726\n",
            "[29]\tvalidation_0-mlogloss:0.31670\tvalidation_1-mlogloss:0.51699\n",
            "[30]\tvalidation_0-mlogloss:0.30813\tvalidation_1-mlogloss:0.51382\n",
            "[31]\tvalidation_0-mlogloss:0.30178\tvalidation_1-mlogloss:0.51202\n",
            "[32]\tvalidation_0-mlogloss:0.29617\tvalidation_1-mlogloss:0.51095\n",
            "[33]\tvalidation_0-mlogloss:0.29102\tvalidation_1-mlogloss:0.50882\n",
            "[34]\tvalidation_0-mlogloss:0.28599\tvalidation_1-mlogloss:0.50582\n",
            "[35]\tvalidation_0-mlogloss:0.28069\tvalidation_1-mlogloss:0.50463\n",
            "[36]\tvalidation_0-mlogloss:0.27625\tvalidation_1-mlogloss:0.50325\n",
            "[37]\tvalidation_0-mlogloss:0.27205\tvalidation_1-mlogloss:0.50287\n",
            "[38]\tvalidation_0-mlogloss:0.26833\tvalidation_1-mlogloss:0.50344\n",
            "[39]\tvalidation_0-mlogloss:0.26355\tvalidation_1-mlogloss:0.50351\n",
            "[40]\tvalidation_0-mlogloss:0.26027\tvalidation_1-mlogloss:0.50252\n",
            "[41]\tvalidation_0-mlogloss:0.25470\tvalidation_1-mlogloss:0.50019\n",
            "[42]\tvalidation_0-mlogloss:0.25068\tvalidation_1-mlogloss:0.50170\n",
            "[43]\tvalidation_0-mlogloss:0.24626\tvalidation_1-mlogloss:0.50128\n",
            "[44]\tvalidation_0-mlogloss:0.24343\tvalidation_1-mlogloss:0.50063\n",
            "[45]\tvalidation_0-mlogloss:0.23982\tvalidation_1-mlogloss:0.49996\n",
            "[46]\tvalidation_0-mlogloss:0.23583\tvalidation_1-mlogloss:0.50011\n",
            "[47]\tvalidation_0-mlogloss:0.23361\tvalidation_1-mlogloss:0.49962\n",
            "[48]\tvalidation_0-mlogloss:0.22980\tvalidation_1-mlogloss:0.49839\n",
            "[49]\tvalidation_0-mlogloss:0.22579\tvalidation_1-mlogloss:0.49722\n",
            "[50]\tvalidation_0-mlogloss:0.22298\tvalidation_1-mlogloss:0.49753\n",
            "[51]\tvalidation_0-mlogloss:0.22072\tvalidation_1-mlogloss:0.49829\n",
            "[52]\tvalidation_0-mlogloss:0.21873\tvalidation_1-mlogloss:0.49746\n",
            "[53]\tvalidation_0-mlogloss:0.21642\tvalidation_1-mlogloss:0.49755\n",
            "[54]\tvalidation_0-mlogloss:0.21337\tvalidation_1-mlogloss:0.49790\n",
            "[55]\tvalidation_0-mlogloss:0.21047\tvalidation_1-mlogloss:0.49844\n",
            "[56]\tvalidation_0-mlogloss:0.20748\tvalidation_1-mlogloss:0.49683\n",
            "[57]\tvalidation_0-mlogloss:0.20465\tvalidation_1-mlogloss:0.49626\n",
            "[58]\tvalidation_0-mlogloss:0.20237\tvalidation_1-mlogloss:0.49617\n",
            "[59]\tvalidation_0-mlogloss:0.19930\tvalidation_1-mlogloss:0.49615\n",
            "[60]\tvalidation_0-mlogloss:0.19745\tvalidation_1-mlogloss:0.49736\n",
            "[61]\tvalidation_0-mlogloss:0.19447\tvalidation_1-mlogloss:0.49854\n",
            "[62]\tvalidation_0-mlogloss:0.19244\tvalidation_1-mlogloss:0.49864\n",
            "[63]\tvalidation_0-mlogloss:0.18960\tvalidation_1-mlogloss:0.49843\n",
            "[64]\tvalidation_0-mlogloss:0.18680\tvalidation_1-mlogloss:0.49834\n",
            "[65]\tvalidation_0-mlogloss:0.18563\tvalidation_1-mlogloss:0.49823\n",
            "[66]\tvalidation_0-mlogloss:0.18204\tvalidation_1-mlogloss:0.49824\n",
            "[67]\tvalidation_0-mlogloss:0.17925\tvalidation_1-mlogloss:0.49856\n",
            "[68]\tvalidation_0-mlogloss:0.17767\tvalidation_1-mlogloss:0.49802\n",
            "\n",
            "Acuratețea modelului XGBoost cu early stopping: 77.81%\n",
            "\n",
            "Classification Report:\n",
            "              precision    recall  f1-score   support\n",
            "\n",
            "        high       0.63      0.38      0.47       165\n",
            "         low       0.43      0.09      0.14        35\n",
            "      medium       0.80      0.93      0.86       593\n",
            "\n",
            "    accuracy                           0.78       793\n",
            "   macro avg       0.62      0.46      0.49       793\n",
            "weighted avg       0.75      0.78      0.75       793\n",
            "\n"
          ]
        }
      ],
      "source": [
        "model = XGBClassifier(\n",
        "    n_estimators=200,\n",
        "    learning_rate=0.1,\n",
        "    max_depth=7,\n",
        "    subsample=0.8,\n",
        "    objective='multi:softprob',\n",
        "    num_class=3,\n",
        "    use_label_encoder=False,\n",
        "    eval_metric='mlogloss',\n",
        "    verbosity=0,\n",
        "    min_child_weight=1\n",
        ")\n",
        "model.set_params(early_stopping_rounds=10)\n",
        "model.fit(\n",
        "    X_train_scaled,\n",
        "    y_train_enc,\n",
        "    eval_set=[(X_train_scaled, y_train_enc), (X_val_scaled, y_val_enc)],\n",
        "    verbose=True\n",
        ")\n",
        "y_pred_enc = model.predict(X_test_scaled)\n",
        "y_pred = le.inverse_transform(y_pred_enc)\n",
        "\n",
        "# === Evaluare\n",
        "accuracy = accuracy_score(y_test, y_pred)\n",
        "print(\"\\nAcuratețea modelului XGBoost cu early stopping: {:.2f}%\".format(accuracy * 100))\n",
        "\n",
        "print(\"\\nClassification Report:\")\n",
        "print(classification_report(y_test, y_pred))"
      ]
    },
    {
      "cell_type": "markdown",
      "metadata": {
        "id": "PneUw1Zi4F7U"
      },
      "source": [
        "Varianta de mai sus a performat mai bine decât modelul de bază."
      ]
    },
    {
      "cell_type": "code",
      "execution_count": 40,
      "metadata": {
        "ExecuteTime": {
          "end_time": "2025-07-23T19:09:44.875038Z",
          "start_time": "2025-07-23T19:09:43.916961Z"
        },
        "colab": {
          "base_uri": "https://localhost:8080/"
        },
        "id": "WRWANlyb4fQM",
        "outputId": "e39502cb-ba5c-4b9c-f725-28e1bbf8e789"
      },
      "outputs": [
        {
          "name": "stdout",
          "output_type": "stream",
          "text": [
            "[0]\tvalidation_0-mlogloss:1.00860\tvalidation_1-mlogloss:1.02331\n",
            "[1]\tvalidation_0-mlogloss:0.92954\tvalidation_1-mlogloss:0.95751\n",
            "[2]\tvalidation_0-mlogloss:0.86059\tvalidation_1-mlogloss:0.90376\n",
            "[3]\tvalidation_0-mlogloss:0.79929\tvalidation_1-mlogloss:0.85730\n",
            "[4]\tvalidation_0-mlogloss:0.74486\tvalidation_1-mlogloss:0.81716\n",
            "[5]\tvalidation_0-mlogloss:0.69735\tvalidation_1-mlogloss:0.78120\n",
            "[6]\tvalidation_0-mlogloss:0.65396\tvalidation_1-mlogloss:0.75206\n",
            "[7]\tvalidation_0-mlogloss:0.61482\tvalidation_1-mlogloss:0.72597\n",
            "[8]\tvalidation_0-mlogloss:0.58069\tvalidation_1-mlogloss:0.69970\n",
            "[9]\tvalidation_0-mlogloss:0.54898\tvalidation_1-mlogloss:0.67895\n",
            "[10]\tvalidation_0-mlogloss:0.52009\tvalidation_1-mlogloss:0.66080\n",
            "[11]\tvalidation_0-mlogloss:0.49379\tvalidation_1-mlogloss:0.64458\n",
            "[12]\tvalidation_0-mlogloss:0.46983\tvalidation_1-mlogloss:0.63011\n",
            "[13]\tvalidation_0-mlogloss:0.44755\tvalidation_1-mlogloss:0.61738\n",
            "[14]\tvalidation_0-mlogloss:0.42646\tvalidation_1-mlogloss:0.60715\n",
            "[15]\tvalidation_0-mlogloss:0.40733\tvalidation_1-mlogloss:0.59698\n",
            "[16]\tvalidation_0-mlogloss:0.38951\tvalidation_1-mlogloss:0.58763\n",
            "[17]\tvalidation_0-mlogloss:0.37353\tvalidation_1-mlogloss:0.57864\n",
            "[18]\tvalidation_0-mlogloss:0.35851\tvalidation_1-mlogloss:0.56950\n",
            "[19]\tvalidation_0-mlogloss:0.34483\tvalidation_1-mlogloss:0.56279\n",
            "[20]\tvalidation_0-mlogloss:0.33226\tvalidation_1-mlogloss:0.55583\n",
            "[21]\tvalidation_0-mlogloss:0.32047\tvalidation_1-mlogloss:0.54924\n",
            "[22]\tvalidation_0-mlogloss:0.30902\tvalidation_1-mlogloss:0.54468\n",
            "[23]\tvalidation_0-mlogloss:0.29901\tvalidation_1-mlogloss:0.53954\n",
            "[24]\tvalidation_0-mlogloss:0.29004\tvalidation_1-mlogloss:0.53547\n",
            "[25]\tvalidation_0-mlogloss:0.28041\tvalidation_1-mlogloss:0.53056\n",
            "[26]\tvalidation_0-mlogloss:0.27283\tvalidation_1-mlogloss:0.52705\n",
            "[27]\tvalidation_0-mlogloss:0.26413\tvalidation_1-mlogloss:0.52290\n",
            "[28]\tvalidation_0-mlogloss:0.25711\tvalidation_1-mlogloss:0.52081\n",
            "[29]\tvalidation_0-mlogloss:0.24893\tvalidation_1-mlogloss:0.52004\n",
            "[30]\tvalidation_0-mlogloss:0.24239\tvalidation_1-mlogloss:0.51919\n",
            "[31]\tvalidation_0-mlogloss:0.23544\tvalidation_1-mlogloss:0.51719\n",
            "[32]\tvalidation_0-mlogloss:0.22952\tvalidation_1-mlogloss:0.51598\n",
            "[33]\tvalidation_0-mlogloss:0.22340\tvalidation_1-mlogloss:0.51564\n",
            "[34]\tvalidation_0-mlogloss:0.21906\tvalidation_1-mlogloss:0.51561\n",
            "[35]\tvalidation_0-mlogloss:0.21384\tvalidation_1-mlogloss:0.51392\n",
            "[36]\tvalidation_0-mlogloss:0.20930\tvalidation_1-mlogloss:0.51341\n",
            "[37]\tvalidation_0-mlogloss:0.20427\tvalidation_1-mlogloss:0.51214\n",
            "[38]\tvalidation_0-mlogloss:0.20120\tvalidation_1-mlogloss:0.51185\n",
            "[39]\tvalidation_0-mlogloss:0.19692\tvalidation_1-mlogloss:0.51037\n",
            "[40]\tvalidation_0-mlogloss:0.19319\tvalidation_1-mlogloss:0.50960\n",
            "[41]\tvalidation_0-mlogloss:0.18847\tvalidation_1-mlogloss:0.50898\n",
            "[42]\tvalidation_0-mlogloss:0.18375\tvalidation_1-mlogloss:0.50910\n",
            "[43]\tvalidation_0-mlogloss:0.17969\tvalidation_1-mlogloss:0.50792\n",
            "[44]\tvalidation_0-mlogloss:0.17679\tvalidation_1-mlogloss:0.50757\n",
            "[45]\tvalidation_0-mlogloss:0.17331\tvalidation_1-mlogloss:0.50722\n",
            "[46]\tvalidation_0-mlogloss:0.17012\tvalidation_1-mlogloss:0.50705\n",
            "[47]\tvalidation_0-mlogloss:0.16731\tvalidation_1-mlogloss:0.50656\n",
            "[48]\tvalidation_0-mlogloss:0.16436\tvalidation_1-mlogloss:0.50731\n",
            "[49]\tvalidation_0-mlogloss:0.16130\tvalidation_1-mlogloss:0.50753\n",
            "[50]\tvalidation_0-mlogloss:0.15899\tvalidation_1-mlogloss:0.50796\n",
            "[51]\tvalidation_0-mlogloss:0.15705\tvalidation_1-mlogloss:0.50866\n",
            "[52]\tvalidation_0-mlogloss:0.15542\tvalidation_1-mlogloss:0.50853\n",
            "[53]\tvalidation_0-mlogloss:0.15328\tvalidation_1-mlogloss:0.50874\n",
            "[54]\tvalidation_0-mlogloss:0.15005\tvalidation_1-mlogloss:0.50929\n",
            "[55]\tvalidation_0-mlogloss:0.14718\tvalidation_1-mlogloss:0.50942\n",
            "[56]\tvalidation_0-mlogloss:0.14485\tvalidation_1-mlogloss:0.50914\n",
            "[57]\tvalidation_0-mlogloss:0.14253\tvalidation_1-mlogloss:0.50993\n",
            "\n",
            "Acuratețea modelului XGBoost cu early stopping: 77.68%\n",
            "\n",
            "Classification Report:\n",
            "              precision    recall  f1-score   support\n",
            "\n",
            "        high       0.61      0.38      0.47       165\n",
            "         low       0.40      0.06      0.10        35\n",
            "      medium       0.80      0.93      0.86       593\n",
            "\n",
            "    accuracy                           0.78       793\n",
            "   macro avg       0.61      0.45      0.48       793\n",
            "weighted avg       0.75      0.78      0.75       793\n",
            "\n"
          ]
        }
      ],
      "source": [
        "model = XGBClassifier(\n",
        "    n_estimators=200,\n",
        "    learning_rate=0.1,\n",
        "    max_depth=12,\n",
        "    subsample=0.8,\n",
        "    objective='multi:softmax',\n",
        "    num_class=3,\n",
        "    use_label_encoder=False,\n",
        "    eval_metric='mlogloss',\n",
        "    verbosity=0,\n",
        "    min_child_weight=3\n",
        ")\n",
        "model.set_params(early_stopping_rounds=10)\n",
        "model.fit(\n",
        "    X_train_scaled,\n",
        "    y_train_enc,\n",
        "    eval_set=[(X_train_scaled, y_train_enc), (X_val_scaled, y_val_enc)],\n",
        "    verbose=True\n",
        ")\n",
        "y_pred_enc = model.predict(X_test_scaled)\n",
        "y_pred = le.inverse_transform(y_pred_enc)\n",
        "\n",
        "# === Evaluare\n",
        "accuracy = accuracy_score(y_test, y_pred)\n",
        "print(\"\\nAcuratețea modelului XGBoost cu early stopping: {:.2f}%\".format(accuracy * 100))\n",
        "\n",
        "print(\"\\nClassification Report:\")\n",
        "print(classification_report(y_test, y_pred))"
      ]
    },
    {
      "cell_type": "markdown",
      "metadata": {
        "id": "0W8WkwFR51lV"
      },
      "source": [
        "Această încercare a performat mai bine decât modelul de bază."
      ]
    },
    {
      "cell_type": "markdown",
      "metadata": {
        "id": "Wpbztp_Q4_gL"
      },
      "source": [
        "# **Adăugare ADASYN**"
      ]
    },
    {
      "cell_type": "code",
      "execution_count": 41,
      "metadata": {
        "ExecuteTime": {
          "end_time": "2025-07-23T19:09:46.793351Z",
          "start_time": "2025-07-23T19:09:44.953547Z"
        },
        "colab": {
          "base_uri": "https://localhost:8080/"
        },
        "id": "_60VIYmI5w6D",
        "outputId": "66a71751-9c01-410c-ac63-8bc788aaa57e"
      },
      "outputs": [
        {
          "name": "stdout",
          "output_type": "stream",
          "text": [
            "[0]\tvalidation_0-mlogloss:1.04085\tvalidation_1-mlogloss:1.05663\n",
            "[1]\tvalidation_0-mlogloss:0.98589\tvalidation_1-mlogloss:1.01609\n",
            "[2]\tvalidation_0-mlogloss:0.93900\tvalidation_1-mlogloss:0.97893\n",
            "[3]\tvalidation_0-mlogloss:0.89573\tvalidation_1-mlogloss:0.94628\n",
            "[4]\tvalidation_0-mlogloss:0.85706\tvalidation_1-mlogloss:0.91753\n",
            "[5]\tvalidation_0-mlogloss:0.82090\tvalidation_1-mlogloss:0.88903\n",
            "[6]\tvalidation_0-mlogloss:0.79020\tvalidation_1-mlogloss:0.86905\n",
            "[7]\tvalidation_0-mlogloss:0.76222\tvalidation_1-mlogloss:0.84802\n",
            "[8]\tvalidation_0-mlogloss:0.73794\tvalidation_1-mlogloss:0.83263\n",
            "[9]\tvalidation_0-mlogloss:0.71228\tvalidation_1-mlogloss:0.81600\n",
            "[10]\tvalidation_0-mlogloss:0.68782\tvalidation_1-mlogloss:0.80146\n",
            "[11]\tvalidation_0-mlogloss:0.66542\tvalidation_1-mlogloss:0.78519\n",
            "[12]\tvalidation_0-mlogloss:0.64606\tvalidation_1-mlogloss:0.77185\n",
            "[13]\tvalidation_0-mlogloss:0.62660\tvalidation_1-mlogloss:0.75902\n",
            "[14]\tvalidation_0-mlogloss:0.60764\tvalidation_1-mlogloss:0.74603\n",
            "[15]\tvalidation_0-mlogloss:0.59225\tvalidation_1-mlogloss:0.73605\n",
            "[16]\tvalidation_0-mlogloss:0.57597\tvalidation_1-mlogloss:0.72672\n",
            "[17]\tvalidation_0-mlogloss:0.55903\tvalidation_1-mlogloss:0.71626\n",
            "[18]\tvalidation_0-mlogloss:0.54484\tvalidation_1-mlogloss:0.70838\n",
            "[19]\tvalidation_0-mlogloss:0.53051\tvalidation_1-mlogloss:0.70028\n",
            "[20]\tvalidation_0-mlogloss:0.52062\tvalidation_1-mlogloss:0.69424\n",
            "[21]\tvalidation_0-mlogloss:0.50883\tvalidation_1-mlogloss:0.68783\n",
            "[22]\tvalidation_0-mlogloss:0.49860\tvalidation_1-mlogloss:0.68299\n",
            "[23]\tvalidation_0-mlogloss:0.48915\tvalidation_1-mlogloss:0.67779\n",
            "[24]\tvalidation_0-mlogloss:0.48076\tvalidation_1-mlogloss:0.67315\n",
            "[25]\tvalidation_0-mlogloss:0.47253\tvalidation_1-mlogloss:0.66911\n",
            "[26]\tvalidation_0-mlogloss:0.46288\tvalidation_1-mlogloss:0.66321\n",
            "[27]\tvalidation_0-mlogloss:0.45114\tvalidation_1-mlogloss:0.65852\n",
            "[28]\tvalidation_0-mlogloss:0.44280\tvalidation_1-mlogloss:0.65350\n",
            "[29]\tvalidation_0-mlogloss:0.43334\tvalidation_1-mlogloss:0.64896\n",
            "[30]\tvalidation_0-mlogloss:0.42559\tvalidation_1-mlogloss:0.64424\n",
            "[31]\tvalidation_0-mlogloss:0.41953\tvalidation_1-mlogloss:0.64130\n",
            "[32]\tvalidation_0-mlogloss:0.41375\tvalidation_1-mlogloss:0.63789\n",
            "[33]\tvalidation_0-mlogloss:0.40775\tvalidation_1-mlogloss:0.63590\n",
            "[34]\tvalidation_0-mlogloss:0.40247\tvalidation_1-mlogloss:0.63334\n",
            "[35]\tvalidation_0-mlogloss:0.39553\tvalidation_1-mlogloss:0.62896\n",
            "[36]\tvalidation_0-mlogloss:0.39038\tvalidation_1-mlogloss:0.62495\n",
            "[37]\tvalidation_0-mlogloss:0.38385\tvalidation_1-mlogloss:0.62276\n",
            "[38]\tvalidation_0-mlogloss:0.37898\tvalidation_1-mlogloss:0.61960\n",
            "[39]\tvalidation_0-mlogloss:0.37253\tvalidation_1-mlogloss:0.61592\n",
            "[40]\tvalidation_0-mlogloss:0.36676\tvalidation_1-mlogloss:0.61309\n",
            "[41]\tvalidation_0-mlogloss:0.36019\tvalidation_1-mlogloss:0.60974\n",
            "[42]\tvalidation_0-mlogloss:0.35335\tvalidation_1-mlogloss:0.60769\n",
            "[43]\tvalidation_0-mlogloss:0.34880\tvalidation_1-mlogloss:0.60436\n",
            "[44]\tvalidation_0-mlogloss:0.34387\tvalidation_1-mlogloss:0.60192\n",
            "[45]\tvalidation_0-mlogloss:0.33920\tvalidation_1-mlogloss:0.59939\n",
            "[46]\tvalidation_0-mlogloss:0.33466\tvalidation_1-mlogloss:0.59711\n",
            "[47]\tvalidation_0-mlogloss:0.33147\tvalidation_1-mlogloss:0.59479\n",
            "[48]\tvalidation_0-mlogloss:0.32681\tvalidation_1-mlogloss:0.59268\n",
            "[49]\tvalidation_0-mlogloss:0.32020\tvalidation_1-mlogloss:0.59089\n",
            "[50]\tvalidation_0-mlogloss:0.31627\tvalidation_1-mlogloss:0.58878\n",
            "[51]\tvalidation_0-mlogloss:0.31187\tvalidation_1-mlogloss:0.58748\n",
            "[52]\tvalidation_0-mlogloss:0.30832\tvalidation_1-mlogloss:0.58510\n",
            "[53]\tvalidation_0-mlogloss:0.30567\tvalidation_1-mlogloss:0.58405\n",
            "[54]\tvalidation_0-mlogloss:0.30137\tvalidation_1-mlogloss:0.58161\n",
            "[55]\tvalidation_0-mlogloss:0.29659\tvalidation_1-mlogloss:0.57939\n",
            "[56]\tvalidation_0-mlogloss:0.29244\tvalidation_1-mlogloss:0.57715\n",
            "[57]\tvalidation_0-mlogloss:0.28787\tvalidation_1-mlogloss:0.57507\n",
            "[58]\tvalidation_0-mlogloss:0.28417\tvalidation_1-mlogloss:0.57417\n",
            "[59]\tvalidation_0-mlogloss:0.27941\tvalidation_1-mlogloss:0.57350\n",
            "[60]\tvalidation_0-mlogloss:0.27589\tvalidation_1-mlogloss:0.57022\n",
            "[61]\tvalidation_0-mlogloss:0.27327\tvalidation_1-mlogloss:0.56866\n",
            "[62]\tvalidation_0-mlogloss:0.27024\tvalidation_1-mlogloss:0.56715\n",
            "[63]\tvalidation_0-mlogloss:0.26586\tvalidation_1-mlogloss:0.56585\n",
            "[64]\tvalidation_0-mlogloss:0.26265\tvalidation_1-mlogloss:0.56480\n",
            "[65]\tvalidation_0-mlogloss:0.25977\tvalidation_1-mlogloss:0.56229\n",
            "[66]\tvalidation_0-mlogloss:0.25605\tvalidation_1-mlogloss:0.56252\n",
            "[67]\tvalidation_0-mlogloss:0.25337\tvalidation_1-mlogloss:0.56148\n",
            "[68]\tvalidation_0-mlogloss:0.25039\tvalidation_1-mlogloss:0.56057\n",
            "[69]\tvalidation_0-mlogloss:0.24773\tvalidation_1-mlogloss:0.55970\n",
            "[70]\tvalidation_0-mlogloss:0.24330\tvalidation_1-mlogloss:0.55793\n",
            "[71]\tvalidation_0-mlogloss:0.24041\tvalidation_1-mlogloss:0.55742\n",
            "[72]\tvalidation_0-mlogloss:0.23784\tvalidation_1-mlogloss:0.55734\n",
            "[73]\tvalidation_0-mlogloss:0.23534\tvalidation_1-mlogloss:0.55583\n",
            "[74]\tvalidation_0-mlogloss:0.23351\tvalidation_1-mlogloss:0.55441\n",
            "[75]\tvalidation_0-mlogloss:0.23066\tvalidation_1-mlogloss:0.55253\n",
            "[76]\tvalidation_0-mlogloss:0.22786\tvalidation_1-mlogloss:0.55171\n",
            "[77]\tvalidation_0-mlogloss:0.22548\tvalidation_1-mlogloss:0.55155\n",
            "[78]\tvalidation_0-mlogloss:0.22268\tvalidation_1-mlogloss:0.55154\n",
            "[79]\tvalidation_0-mlogloss:0.21999\tvalidation_1-mlogloss:0.55109\n",
            "[80]\tvalidation_0-mlogloss:0.21795\tvalidation_1-mlogloss:0.55071\n",
            "[81]\tvalidation_0-mlogloss:0.21587\tvalidation_1-mlogloss:0.54935\n",
            "[82]\tvalidation_0-mlogloss:0.21329\tvalidation_1-mlogloss:0.54838\n",
            "[83]\tvalidation_0-mlogloss:0.20937\tvalidation_1-mlogloss:0.54692\n",
            "[84]\tvalidation_0-mlogloss:0.20751\tvalidation_1-mlogloss:0.54630\n",
            "[85]\tvalidation_0-mlogloss:0.20509\tvalidation_1-mlogloss:0.54636\n",
            "[86]\tvalidation_0-mlogloss:0.20369\tvalidation_1-mlogloss:0.54572\n",
            "[87]\tvalidation_0-mlogloss:0.20100\tvalidation_1-mlogloss:0.54421\n",
            "[88]\tvalidation_0-mlogloss:0.19854\tvalidation_1-mlogloss:0.54370\n",
            "[89]\tvalidation_0-mlogloss:0.19662\tvalidation_1-mlogloss:0.54356\n",
            "[90]\tvalidation_0-mlogloss:0.19472\tvalidation_1-mlogloss:0.54304\n",
            "[91]\tvalidation_0-mlogloss:0.19108\tvalidation_1-mlogloss:0.54336\n",
            "[92]\tvalidation_0-mlogloss:0.18906\tvalidation_1-mlogloss:0.54197\n",
            "[93]\tvalidation_0-mlogloss:0.18721\tvalidation_1-mlogloss:0.54149\n",
            "[94]\tvalidation_0-mlogloss:0.18529\tvalidation_1-mlogloss:0.54097\n",
            "[95]\tvalidation_0-mlogloss:0.18292\tvalidation_1-mlogloss:0.54050\n",
            "[96]\tvalidation_0-mlogloss:0.18078\tvalidation_1-mlogloss:0.54070\n",
            "[97]\tvalidation_0-mlogloss:0.17891\tvalidation_1-mlogloss:0.54111\n",
            "[98]\tvalidation_0-mlogloss:0.17690\tvalidation_1-mlogloss:0.54213\n",
            "[99]\tvalidation_0-mlogloss:0.17496\tvalidation_1-mlogloss:0.54246\n",
            "[100]\tvalidation_0-mlogloss:0.17196\tvalidation_1-mlogloss:0.54354\n",
            "[101]\tvalidation_0-mlogloss:0.17052\tvalidation_1-mlogloss:0.54314\n",
            "[102]\tvalidation_0-mlogloss:0.16862\tvalidation_1-mlogloss:0.54280\n",
            "[103]\tvalidation_0-mlogloss:0.16705\tvalidation_1-mlogloss:0.54275\n",
            "[104]\tvalidation_0-mlogloss:0.16514\tvalidation_1-mlogloss:0.54274\n",
            "[105]\tvalidation_0-mlogloss:0.16322\tvalidation_1-mlogloss:0.54148\n",
            "\n",
            "Acuratețea modelului XGBoost cu early stopping și ADASYN: 75.91%\n",
            "\n",
            "Classification Report:\n",
            "              precision    recall  f1-score   support\n",
            "\n",
            "        high       0.62      0.36      0.46       165\n",
            "         low       0.29      0.31      0.30        35\n",
            "      medium       0.81      0.90      0.85       593\n",
            "\n",
            "    accuracy                           0.76       793\n",
            "   macro avg       0.57      0.52      0.54       793\n",
            "weighted avg       0.75      0.76      0.74       793\n",
            "\n"
          ]
        }
      ],
      "source": [
        "adasyn = ADASYN(random_state=42, sampling_strategy=\"minority\", n_neighbors=10)\n",
        "X_train_resampled, y_train_resampled = adasyn.fit_resample(X_train_scaled, y_train_enc)\n",
        "\n",
        "# === Model\n",
        "model = XGBClassifier(\n",
        "    n_estimators=200,\n",
        "    learning_rate=0.1,\n",
        "    max_depth=7,\n",
        "    subsample=0.8,\n",
        "    objective='multi:softprob',\n",
        "    num_class=3,\n",
        "    use_label_encoder=False,\n",
        "    eval_metric='mlogloss',\n",
        "    verbosity=0,\n",
        "    min_child_weight=1\n",
        ")\n",
        "\n",
        "model.set_params(early_stopping_rounds=10)\n",
        "\n",
        "model.fit(\n",
        "    X_train_resampled,\n",
        "    y_train_resampled,\n",
        "    eval_set=[(X_train_scaled, y_train_enc), (X_val_scaled, y_val_enc)],\n",
        "    verbose=True\n",
        ")\n",
        "\n",
        "# === Predicție și evaluare\n",
        "y_pred_enc = model.predict(X_test_scaled)\n",
        "y_pred = le.inverse_transform(y_pred_enc)\n",
        "\n",
        "accuracy = accuracy_score(y_test, y_pred)\n",
        "print(\"\\nAcuratețea modelului XGBoost cu early stopping și ADASYN: {:.2f}%\".format(accuracy * 100))\n",
        "\n",
        "print(\"\\nClassification Report:\")\n",
        "print(classification_report(y_test, y_pred))"
      ]
    },
    {
      "cell_type": "markdown",
      "metadata": {
        "id": "h4S2g7DFuE-A"
      },
      "source": [
        "Clasa low a obținut îmbunățiri, f1-score a crescut semnificativ, de la 0.1 la 0.3."
      ]
    },
    {
      "cell_type": "code",
      "execution_count": 42,
      "metadata": {
        "ExecuteTime": {
          "end_time": "2025-07-23T19:09:47.048312Z",
          "start_time": "2025-07-23T19:09:46.871697Z"
        },
        "colab": {
          "base_uri": "https://localhost:8080/",
          "height": 472
        },
        "id": "-xmrHFhD62l8",
        "outputId": "ba1e1f68-dd80-44ea-e7ee-ef82cc726ff9"
      },
      "outputs": [
        {
          "data": {
            "image/png": "[encoded data removed]",
            "text/plain": [
              "<Figure size 640x480 with 2 Axes>"
            ]
          },
          "metadata": {},
          "output_type": "display_data"
        }
      ],
      "source": [
        "ordered_labels = ['low', 'medium', 'high']\n",
        "cm = confusion_matrix(y_test, y_pred, labels=ordered_labels)\n",
        "disp = ConfusionMatrixDisplay(confusion_matrix=cm, display_labels=ordered_labels)\n",
        "disp.plot(cmap=\"Blues\", values_format='d')\n",
        "plt.title(\"Matrice de Confuzie - XGBoost\")\n",
        "plt.xlabel(\"Clasă Prezisă\")\n",
        "plt.ylabel(\"Clasă Reală\")\n",
        "plt.grid(False)\n",
        "plt.show()"
      ]
    },
    {
      "cell_type": "code",
      "execution_count": 43,
      "metadata": {
        "ExecuteTime": {
          "end_time": "2025-07-23T19:09:47.168301Z",
          "start_time": "2025-07-23T19:09:47.140730Z"
        },
        "colab": {
          "base_uri": "https://localhost:8080/"
        },
        "id": "8eUozjvb6N65",
        "outputId": "b6dd4297-32fe-4fb1-afef-6e11a69d5fa3"
      },
      "outputs": [
        {
          "name": "stdout",
          "output_type": "stream",
          "text": [
            "ROC AUC Score (macro-average): 0.8040\n"
          ]
        }
      ],
      "source": [
        "# === ROC AUC (macro)\n",
        "y_test_bin = label_binarize(y_test, classes=le.classes_)\n",
        "y_proba = model.predict_proba(X_test_scaled)\n",
        "roc_auc = roc_auc_score(y_test_bin, y_proba, average='macro', multi_class='ovr')\n",
        "print(f\"ROC AUC Score (macro-average): {roc_auc:.4f}\")"
      ]
    },
    {
      "cell_type": "markdown",
      "metadata": {
        "id": "F6KvHB7W7y7x"
      },
      "source": [
        "Cu 0.8040, modelul are o capacitate foarte bună de a distinge între cele 3 clase (low, medium, high), pe baza probabilităților prezise.\n",
        "\n",
        "Spre deosebire de acuratețe (care poate fi părtinitoare în caz de dezechilibru între clase), ROC AUC macro: Evaluează fiecare clasă individual (OvR) și reflectă calitatea scorurilor de încredere ale modelului, nu doar decizia finală.\n",
        "\n",
        "Se afirmă că modelul face o distincție clară între clase și produce scoruri de probabilitate bine calibrate și este o îmbunătățire clară față de varianta inițială (unde ROC AUC era ~0.33)."
      ]
    },
    {
      "cell_type": "code",
      "execution_count": 44,
      "metadata": {
        "ExecuteTime": {
          "end_time": "2025-07-23T19:09:47.273649Z",
          "start_time": "2025-07-23T19:09:47.267002Z"
        },
        "colab": {
          "base_uri": "https://localhost:8080/"
        },
        "id": "_LWTHhwk6vjx",
        "outputId": "2319bbb8-ee65-423a-d7a7-871c7d5f6286"
      },
      "outputs": [
        {
          "name": "stdout",
          "output_type": "stream",
          "text": [
            "Matthews Correlation Coefficient (MCC): 0.3246\n"
          ]
        }
      ],
      "source": [
        "# === MCC\n",
        "mcc = matthews_corrcoef(y_test, y_pred)\n",
        "print(f\"Matthews Correlation Coefficient (MCC): {mcc:.4f}\")\n"
      ]
    },
    {
      "cell_type": "markdown",
      "metadata": {
        "id": "eL76gz2i9qV5"
      },
      "source": [
        "Modelul a beneficiat de ADASYN, scorul MCC a rămas aproximativ același."
      ]
    },
    {
      "cell_type": "markdown",
      "metadata": {
        "id": "yBStXeaAB9F1"
      },
      "source": [
        "# **GridSearch**"
      ]
    },
    {
      "cell_type": "code",
      "execution_count": 45,
      "metadata": {
        "ExecuteTime": {
          "end_time": "2025-07-23T19:10:02.584019Z",
          "start_time": "2025-07-23T19:09:47.391012Z"
        },
        "colab": {
          "base_uri": "https://localhost:8080/"
        },
        "id": "ec41-JTxCIMF",
        "outputId": "a8678d5f-9707-4cd7-b1a6-9927d794e008"
      },
      "outputs": [
        {
          "name": "stdout",
          "output_type": "stream",
          "text": [
            "Fitting 3 folds for each of 72 candidates, totalling 216 fits\n",
            "Best parameters found: {'learning_rate': 0.1, 'max_depth': 5, 'min_child_weight': 1, 'n_estimators': 50, 'subsample': 0.8}\n",
            "Best cross-validation accuracy: 78.21%\n"
          ]
        }
      ],
      "source": [
        "model = XGBClassifier(\n",
        "    objective='multi:softprob',\n",
        "    num_class=3,\n",
        "    use_label_encoder=False,\n",
        "    eval_metric='merror',\n",
        "    verbosity=0\n",
        ")\n",
        "param_grid = {\n",
        "    'n_estimators': [50, 100],\n",
        "    'learning_rate': [0.05, 0.1, 0.2],\n",
        "    'max_depth': [5, 7, 10],\n",
        "    'min_child_weight': [1, 3],\n",
        "    'subsample': [0.8, 1.0]\n",
        "}\n",
        "grid_search = GridSearchCV(\n",
        "    estimator=model,\n",
        "    param_grid=param_grid,\n",
        "    scoring='accuracy',\n",
        "    cv=3,\n",
        "    verbose=1,\n",
        "    n_jobs=-1  # folosește toate procesoarele\n",
        ")\n",
        "\n",
        "grid_search.fit(X_train_scaled, y_train_enc)\n",
        "print(\"Best parameters found:\", grid_search.best_params_)\n",
        "print(\"Best cross-validation accuracy: {:.2f}%\".format(grid_search.best_score_ * 100))"
      ]
    },
    {
      "cell_type": "code",
      "execution_count": 46,
      "metadata": {
        "ExecuteTime": {
          "end_time": "2025-07-23T19:10:02.715500Z",
          "start_time": "2025-07-23T19:10:02.680975Z"
        },
        "colab": {
          "base_uri": "https://localhost:8080/"
        },
        "id": "Kjt25dueCVlC",
        "outputId": "8993cbc9-acd7-4952-f8ec-fe92692babe1"
      },
      "outputs": [
        {
          "name": "stdout",
          "output_type": "stream",
          "text": [
            "\n",
            "Acuratețea pe setul de test: 76.80%\n",
            "\n",
            "Classification Report:\n",
            "              precision    recall  f1-score   support\n",
            "\n",
            "        high       0.59      0.35      0.44       165\n",
            "         low       0.33      0.06      0.10        35\n",
            "      medium       0.80      0.93      0.86       593\n",
            "\n",
            "    accuracy                           0.77       793\n",
            "   macro avg       0.57      0.44      0.46       793\n",
            "weighted avg       0.73      0.77      0.74       793\n",
            "\n"
          ]
        }
      ],
      "source": [
        "best_model = grid_search.best_estimator_\n",
        "\n",
        "y_pred_enc = best_model.predict(X_test_scaled)\n",
        "y_pred = le.inverse_transform(y_pred_enc)\n",
        "\n",
        "accuracy = accuracy_score(y_test, y_pred)\n",
        "print(\"\\nAcuratețea pe setul de test: {:.2f}%\".format(accuracy * 100))\n",
        "\n",
        "print(\"\\nClassification Report:\")\n",
        "print(classification_report(y_test, y_pred))\n"
      ]
    },
    {
      "cell_type": "markdown",
      "metadata": {
        "id": "Hay3ji-by2rt"
      },
      "source": [
        "GridSearch nu a contribuit la o îmbunătățire."
      ]
    },
    {
      "cell_type": "markdown",
      "metadata": {
        "id": "SXwzam8onWiH"
      },
      "source": [
        "# **MLP (Multilayer Perceptron)**"
      ]
    },
    {
      "cell_type": "markdown",
      "metadata": {
        "id": "lPKfQtXgnky4"
      },
      "source": [
        "Se alege **MLP (Multilayer Perceptron)** pentru acest task deoarece **datele sunt tabulare, numerice și fără structură secvențială sau spațială**, caracteristici pentru care MLP-urile sunt foarte bine adaptate. Fiind o **rețea neuronală complet conectată**, MLP poate învăța relații non-liniare între caracteristicile vinului și calitatea acestuia (low, medium, high), oferind flexibilitate în modelare și capacitate de generalizare. **Spre deosebire de rețele precum RNN sau CNN**, care sunt **specializate pentru date secvențiale sau imagini**, MLP este eficient, ușor de antrenat și suficient de puternic pentru sarcini de clasificare multi-clasă pe seturi de date precum cel utilizat până acum."
      ]
    },
    {
      "cell_type": "code",
      "execution_count": 47,
      "metadata": {
        "ExecuteTime": {
          "end_time": "2025-07-23T19:10:02.830163Z",
          "start_time": "2025-07-23T19:10:02.826213Z"
        },
        "id": "NdWprQeWsmpt"
      },
      "outputs": [],
      "source": [
        "import pandas as pd\n",
        "from sklearn.model_selection import train_test_split\n",
        "from sklearn.preprocessing import LabelEncoder, StandardScaler, label_binarize\n",
        "from sklearn.metrics import accuracy_score, classification_report, matthews_corrcoef, roc_auc_score, confusion_matrix, ConfusionMatrixDisplay\n",
        "import matplotlib.pyplot as plt"
      ]
    },
    {
      "cell_type": "code",
      "execution_count": 48,
      "metadata": {
        "ExecuteTime": {
          "end_time": "2025-07-23T19:10:06.576801Z",
          "start_time": "2025-07-23T19:10:02.977988Z"
        },
        "id": "JeAuaJRwsijP"
      },
      "outputs": [],
      "source": [
        "from tensorflow.keras.models import Sequential\n",
        "from tensorflow.keras.layers import Dense, Dropout\n",
        "from tensorflow.keras.utils import to_categorical\n",
        "from tensorflow.keras.callbacks import EarlyStopping"
      ]
    },
    {
      "cell_type": "code",
      "execution_count": 49,
      "metadata": {
        "ExecuteTime": {
          "end_time": "2025-07-23T19:10:06.673577Z",
          "start_time": "2025-07-23T19:10:06.662671Z"
        },
        "id": "2LYg4a79qICG"
      },
      "outputs": [],
      "source": [
        "train_val_df, test_df = train_test_split(\n",
        "    white_df,\n",
        "    test_size=0.2,\n",
        "    random_state=42,\n",
        "    stratify=white_df[\"quality\"]\n",
        ")\n",
        "\n",
        "train_df, val_df = train_test_split(\n",
        "    train_val_df,\n",
        "    test_size=0.125,\n",
        "    random_state=42,\n",
        "    stratify=train_val_df[\"quality\"]\n",
        ")"
      ]
    },
    {
      "cell_type": "code",
      "execution_count": 50,
      "metadata": {
        "ExecuteTime": {
          "end_time": "2025-07-23T19:10:06.801145Z",
          "start_time": "2025-07-23T19:10:06.795252Z"
        },
        "id": "HLIogBE0qK1O"
      },
      "outputs": [],
      "source": [
        "def map_quality(q):\n",
        "    if q in [3, 4]:\n",
        "        return \"low\"\n",
        "    elif q in [5, 6]:\n",
        "        return \"medium\"\n",
        "    else:\n",
        "        return \"high\"\n",
        "\n",
        "for df in [train_df, val_df, test_df]:\n",
        "    df[\"quality_group\"] = df[\"quality\"].apply(map_quality)"
      ]
    },
    {
      "cell_type": "code",
      "execution_count": 51,
      "metadata": {
        "ExecuteTime": {
          "end_time": "2025-07-23T19:10:06.951555Z",
          "start_time": "2025-07-23T19:10:06.936457Z"
        },
        "id": "QAyQe0_YqNmW"
      },
      "outputs": [],
      "source": [
        "X_train = train_df.drop([\"quality\", \"quality_group\"], axis=1)\n",
        "y_train = train_df[\"quality_group\"]\n",
        "\n",
        "X_val = val_df.drop([\"quality\", \"quality_group\"], axis=1)\n",
        "y_val = val_df[\"quality_group\"]\n",
        "\n",
        "X_test = test_df.drop([\"quality\", \"quality_group\"], axis=1)\n",
        "y_test = test_df[\"quality_group\"]\n",
        "\n",
        "le = LabelEncoder()\n",
        "y_train_enc = le.fit_transform(y_train)\n",
        "y_val_enc = le.transform(y_val)\n",
        "y_test_enc = le.transform(y_test)\n",
        "\n",
        "y_train_cat = to_categorical(y_train_enc, num_classes=3)\n",
        "y_val_cat = to_categorical(y_val_enc, num_classes=3)\n",
        "y_test_cat = to_categorical(y_test_enc, num_classes=3)\n",
        "\n",
        "scaler = StandardScaler()\n",
        "X_train_scaled = scaler.fit_transform(X_train)\n",
        "X_val_scaled = scaler.transform(X_val)\n",
        "X_test_scaled = scaler.transform(X_test)\n",
        "\n"
      ]
    },
    {
      "cell_type": "code",
      "execution_count": 52,
      "metadata": {
        "ExecuteTime": {
          "end_time": "2025-07-23T19:10:16.208466Z",
          "start_time": "2025-07-23T19:10:07.122904Z"
        },
        "colab": {
          "base_uri": "https://localhost:8080/"
        },
        "id": "tEmx25xcqZdA",
        "outputId": "fa04b5af-70e9-4ef8-f6d9-a74a7f6b711b"
      },
      "outputs": [
        {
          "name": "stdout",
          "output_type": "stream",
          "text": [
            "Epoch 1/100\n"
          ]
        },
        {
          "name": "stderr",
          "output_type": "stream",
          "text": [
            "/usr/local/lib/python3.11/dist-packages/keras/src/layers/core/dense.py:87: UserWarning: Do not pass an `input_shape`/`input_dim` argument to a layer. When using Sequential models, prefer using an `Input(shape)` object as the first layer in the model instead.\n",
            "  super().__init__(activity_regularizer=activity_regularizer, **kwargs)\n"
          ]
        },
        {
          "name": "stdout",
          "output_type": "stream",
          "text": [
            "\u001b[1m87/87\u001b[0m \u001b[32m━━━━━━━━━━━━━━━━━━━━\u001b[0m\u001b[37m\u001b[0m \u001b[1m2s\u001b[0m 6ms/step - accuracy: 0.6857 - loss: 0.7583 - val_accuracy: 0.7652 - val_loss: 0.6002\n",
            "Epoch 2/100\n",
            "\u001b[1m87/87\u001b[0m \u001b[32m━━━━━━━━━━━━━━━━━━━━\u001b[0m\u001b[37m\u001b[0m \u001b[1m0s\u001b[0m 4ms/step - accuracy: 0.7920 - loss: 0.5547 - val_accuracy: 0.7702 - val_loss: 0.5611\n",
            "Epoch 3/100\n",
            "\u001b[1m87/87\u001b[0m \u001b[32m━━━━━━━━━━━━━━━━━━━━\u001b[0m\u001b[37m\u001b[0m \u001b[1m1s\u001b[0m 4ms/step - accuracy: 0.7781 - loss: 0.5588 - val_accuracy: 0.7576 - val_loss: 0.5415\n",
            "Epoch 4/100\n",
            "\u001b[1m87/87\u001b[0m \u001b[32m━━━━━━━━━━━━━━━━━━━━\u001b[0m\u001b[37m\u001b[0m \u001b[1m1s\u001b[0m 4ms/step - accuracy: 0.7670 - loss: 0.5605 - val_accuracy: 0.7677 - val_loss: 0.5365\n",
            "Epoch 5/100\n",
            "\u001b[1m87/87\u001b[0m \u001b[32m━━━━━━━━━━━━━━━━━━━━\u001b[0m\u001b[37m\u001b[0m \u001b[1m1s\u001b[0m 5ms/step - accuracy: 0.7780 - loss: 0.5251 - val_accuracy: 0.7828 - val_loss: 0.5153\n",
            "Epoch 6/100\n",
            "\u001b[1m87/87\u001b[0m \u001b[32m━━━━━━━━━━━━━━━━━━━━\u001b[0m\u001b[37m\u001b[0m \u001b[1m1s\u001b[0m 5ms/step - accuracy: 0.7898 - loss: 0.5298 - val_accuracy: 0.7727 - val_loss: 0.5240\n",
            "Epoch 7/100\n",
            "\u001b[1m87/87\u001b[0m \u001b[32m━━━━━━━━━━━━━━━━━━━━\u001b[0m\u001b[37m\u001b[0m \u001b[1m1s\u001b[0m 7ms/step - accuracy: 0.7959 - loss: 0.5117 - val_accuracy: 0.7778 - val_loss: 0.5174\n",
            "Epoch 8/100\n",
            "\u001b[1m87/87\u001b[0m \u001b[32m━━━━━━━━━━━━━━━━━━━━\u001b[0m\u001b[37m\u001b[0m \u001b[1m0s\u001b[0m 4ms/step - accuracy: 0.7904 - loss: 0.5104 - val_accuracy: 0.7854 - val_loss: 0.4990\n",
            "Epoch 9/100\n",
            "\u001b[1m87/87\u001b[0m \u001b[32m━━━━━━━━━━━━━━━━━━━━\u001b[0m\u001b[37m\u001b[0m \u001b[1m1s\u001b[0m 4ms/step - accuracy: 0.7741 - loss: 0.5227 - val_accuracy: 0.7753 - val_loss: 0.4989\n",
            "Epoch 10/100\n",
            "\u001b[1m87/87\u001b[0m \u001b[32m━━━━━━━━━━━━━━━━━━━━\u001b[0m\u001b[37m\u001b[0m \u001b[1m1s\u001b[0m 4ms/step - accuracy: 0.7833 - loss: 0.5003 - val_accuracy: 0.7778 - val_loss: 0.4941\n",
            "Epoch 11/100\n",
            "\u001b[1m87/87\u001b[0m \u001b[32m━━━━━━━━━━━━━━━━━━━━\u001b[0m\u001b[37m\u001b[0m \u001b[1m1s\u001b[0m 4ms/step - accuracy: 0.7899 - loss: 0.4889 - val_accuracy: 0.7929 - val_loss: 0.4934\n",
            "Epoch 12/100\n",
            "\u001b[1m87/87\u001b[0m \u001b[32m━━━━━━━━━━━━━━━━━━━━\u001b[0m\u001b[37m\u001b[0m \u001b[1m1s\u001b[0m 4ms/step - accuracy: 0.7970 - loss: 0.4865 - val_accuracy: 0.7753 - val_loss: 0.4998\n",
            "Epoch 13/100\n",
            "\u001b[1m87/87\u001b[0m \u001b[32m━━━━━━━━━━━━━━━━━━━━\u001b[0m\u001b[37m\u001b[0m \u001b[1m1s\u001b[0m 3ms/step - accuracy: 0.7886 - loss: 0.4892 - val_accuracy: 0.7879 - val_loss: 0.4935\n",
            "Epoch 14/100\n",
            "\u001b[1m87/87\u001b[0m \u001b[32m━━━━━━━━━━━━━━━━━━━━\u001b[0m\u001b[37m\u001b[0m \u001b[1m1s\u001b[0m 4ms/step - accuracy: 0.8005 - loss: 0.4661 - val_accuracy: 0.7879 - val_loss: 0.4832\n",
            "Epoch 15/100\n",
            "\u001b[1m87/87\u001b[0m \u001b[32m━━━━━━━━━━━━━━━━━━━━\u001b[0m\u001b[37m\u001b[0m \u001b[1m1s\u001b[0m 3ms/step - accuracy: 0.8026 - loss: 0.4738 - val_accuracy: 0.7803 - val_loss: 0.4876\n",
            "Epoch 16/100\n",
            "\u001b[1m87/87\u001b[0m \u001b[32m━━━━━━━━━━━━━━━━━━━━\u001b[0m\u001b[37m\u001b[0m \u001b[1m0s\u001b[0m 4ms/step - accuracy: 0.7911 - loss: 0.4889 - val_accuracy: 0.7904 - val_loss: 0.4980\n",
            "Epoch 17/100\n",
            "\u001b[1m87/87\u001b[0m \u001b[32m━━━━━━━━━━━━━━━━━━━━\u001b[0m\u001b[37m\u001b[0m \u001b[1m0s\u001b[0m 3ms/step - accuracy: 0.7885 - loss: 0.4726 - val_accuracy: 0.7828 - val_loss: 0.4942\n",
            "Epoch 18/100\n",
            "\u001b[1m87/87\u001b[0m \u001b[32m━━━━━━━━━━━━━━━━━━━━\u001b[0m\u001b[37m\u001b[0m \u001b[1m0s\u001b[0m 3ms/step - accuracy: 0.7883 - loss: 0.4899 - val_accuracy: 0.7879 - val_loss: 0.4805\n",
            "Epoch 19/100\n",
            "\u001b[1m87/87\u001b[0m \u001b[32m━━━━━━━━━━━━━━━━━━━━\u001b[0m\u001b[37m\u001b[0m \u001b[1m0s\u001b[0m 4ms/step - accuracy: 0.7947 - loss: 0.4766 - val_accuracy: 0.7955 - val_loss: 0.4823\n",
            "Epoch 20/100\n",
            "\u001b[1m87/87\u001b[0m \u001b[32m━━━━━━━━━━━━━━━━━━━━\u001b[0m\u001b[37m\u001b[0m \u001b[1m1s\u001b[0m 4ms/step - accuracy: 0.7928 - loss: 0.4701 - val_accuracy: 0.7854 - val_loss: 0.4885\n",
            "Epoch 21/100\n",
            "\u001b[1m87/87\u001b[0m \u001b[32m━━━━━━━━━━━━━━━━━━━━\u001b[0m\u001b[37m\u001b[0m \u001b[1m0s\u001b[0m 4ms/step - accuracy: 0.7950 - loss: 0.4888 - val_accuracy: 0.7828 - val_loss: 0.4860\n",
            "Epoch 22/100\n",
            "\u001b[1m87/87\u001b[0m \u001b[32m━━━━━━━━━━━━━━━━━━━━\u001b[0m\u001b[37m\u001b[0m \u001b[1m1s\u001b[0m 3ms/step - accuracy: 0.7930 - loss: 0.4636 - val_accuracy: 0.7904 - val_loss: 0.5044\n",
            "Epoch 23/100\n",
            "\u001b[1m87/87\u001b[0m \u001b[32m━━━━━━━━━━━━━━━━━━━━\u001b[0m\u001b[37m\u001b[0m \u001b[1m1s\u001b[0m 4ms/step - accuracy: 0.8050 - loss: 0.4512 - val_accuracy: 0.7879 - val_loss: 0.4955\n",
            "Epoch 24/100\n",
            "\u001b[1m87/87\u001b[0m \u001b[32m━━━━━━━━━━━━━━━━━━━━\u001b[0m\u001b[37m\u001b[0m \u001b[1m1s\u001b[0m 3ms/step - accuracy: 0.8066 - loss: 0.4430 - val_accuracy: 0.7778 - val_loss: 0.5005\n",
            "Epoch 25/100\n",
            "\u001b[1m87/87\u001b[0m \u001b[32m━━━━━━━━━━━━━━━━━━━━\u001b[0m\u001b[37m\u001b[0m \u001b[1m1s\u001b[0m 3ms/step - accuracy: 0.8100 - loss: 0.4550 - val_accuracy: 0.7778 - val_loss: 0.5019\n",
            "Epoch 26/100\n",
            "\u001b[1m87/87\u001b[0m \u001b[32m━━━━━━━━━━━━━━━━━━━━\u001b[0m\u001b[37m\u001b[0m \u001b[1m0s\u001b[0m 4ms/step - accuracy: 0.8058 - loss: 0.4557 - val_accuracy: 0.7828 - val_loss: 0.4931\n",
            "Epoch 27/100\n",
            "\u001b[1m87/87\u001b[0m \u001b[32m━━━━━━━━━━━━━━━━━━━━\u001b[0m\u001b[37m\u001b[0m \u001b[1m0s\u001b[0m 4ms/step - accuracy: 0.8101 - loss: 0.4468 - val_accuracy: 0.7904 - val_loss: 0.4942\n",
            "Epoch 28/100\n",
            "\u001b[1m87/87\u001b[0m \u001b[32m━━━━━━━━━━━━━━━━━━━━\u001b[0m\u001b[37m\u001b[0m \u001b[1m1s\u001b[0m 5ms/step - accuracy: 0.8128 - loss: 0.4457 - val_accuracy: 0.7828 - val_loss: 0.5013\n"
          ]
        },
        {
          "data": {
            "text/plain": [
              "<keras.src.callbacks.history.History at 0x7a9ff31b8210>"
            ]
          },
          "execution_count": 52,
          "metadata": {},
          "output_type": "execute_result"
        }
      ],
      "source": [
        "# Definirea modelului MLP\n",
        "model = Sequential([\n",
        "    Dense(256, input_dim=X_train_scaled.shape[1], activation='relu'),\n",
        "    Dropout(0.3),\n",
        "    Dense(128, activation='relu'),\n",
        "    Dropout(0.2),\n",
        "    Dense(3, activation='softmax')\n",
        "])\n",
        "\n",
        "model.compile(\n",
        "    optimizer='adam',\n",
        "    loss='categorical_crossentropy',\n",
        "    metrics=['accuracy']\n",
        ")\n",
        "\n",
        "early_stop = EarlyStopping(monitor='val_loss', patience=10, restore_best_weights=True)\n",
        "\n",
        "model.fit(\n",
        "    X_train_scaled, y_train_cat,\n",
        "    validation_data=(X_val_scaled, y_val_cat),\n",
        "    epochs=100,\n",
        "    batch_size=32,\n",
        "    callbacks=[early_stop],\n",
        "    verbose=1\n",
        ")"
      ]
    },
    {
      "cell_type": "code",
      "execution_count": 53,
      "metadata": {
        "ExecuteTime": {
          "end_time": "2025-07-23T19:10:16.798825Z",
          "start_time": "2025-07-23T19:10:16.584290Z"
        },
        "colab": {
          "base_uri": "https://localhost:8080/"
        },
        "id": "Wr-GTtkeqp6m",
        "outputId": "115f9066-52de-4ae8-d198-12f0563d71a5"
      },
      "outputs": [
        {
          "name": "stdout",
          "output_type": "stream",
          "text": [
            "\u001b[1m25/25\u001b[0m \u001b[32m━━━━━━━━━━━━━━━━━━━━\u001b[0m\u001b[37m\u001b[0m \u001b[1m0s\u001b[0m 5ms/step\n",
            "\n",
            "Acuratețea modelului MLP: 76.42%\n",
            "\n",
            "Classification Report:\n",
            "              precision    recall  f1-score   support\n",
            "\n",
            "        high       0.57      0.43      0.49       165\n",
            "         low       0.27      0.09      0.13        35\n",
            "      medium       0.81      0.90      0.85       593\n",
            "\n",
            "    accuracy                           0.76       793\n",
            "   macro avg       0.55      0.47      0.49       793\n",
            "weighted avg       0.74      0.76      0.74       793\n",
            "\n"
          ]
        }
      ],
      "source": [
        "y_pred_proba = model.predict(X_test_scaled)\n",
        "y_pred_enc = y_pred_proba.argmax(axis=1)\n",
        "y_pred = le.inverse_transform(y_pred_enc)\n",
        "\n",
        "accuracy = accuracy_score(y_test, y_pred)\n",
        "print(\"\\nAcuratețea modelului MLP: {:.2f}%\".format(accuracy * 100))\n",
        "\n",
        "print(\"\\nClassification Report:\")\n",
        "print(classification_report(y_test, y_pred))"
      ]
    },
    {
      "cell_type": "markdown",
      "metadata": {
        "id": "ks9lZoy4tDWg"
      },
      "source": [
        "Clasa high: Recall de 0.4, o valoare ce înseamnă că modelul recunoaște exemplele high. Precision de 0.62 înseamnă că, atunci când prezice high, e destul de încrezător, dar nu face asta suficient de des.\n",
        "\n",
        "Clasa medium: Este clasa majoritară, iar modelul o recunoaște cel mai bine.Recall-ul de 0.92 arată că majoritatea exemplelor medium au fost corect prezise.\n",
        "Modelul e clar biasat către această clasă.\n",
        "\n",
        "Clasa low: Foarte puține exemple în set, doar 35. Recall-ul de 0.09 este extrem de mic, aproape toate exemplele low sunt greșit clasificate ca altceva.\n",
        "\n",
        "Asta sugerează o clasă puternic dezechilibrată."
      ]
    },
    {
      "cell_type": "code",
      "execution_count": 54,
      "metadata": {
        "ExecuteTime": {
          "end_time": "2025-07-23T19:10:17.110678Z",
          "start_time": "2025-07-23T19:10:16.942606Z"
        },
        "colab": {
          "base_uri": "https://localhost:8080/",
          "height": 472
        },
        "id": "5Kl88XgLqx_e",
        "outputId": "2292ab2e-ab3f-4383-8184-0c7dc0f72ee8"
      },
      "outputs": [
        {
          "data": {
            "image/png": "[encoded data removed]",
            "text/plain": [
              "<Figure size 640x480 with 2 Axes>"
            ]
          },
          "metadata": {},
          "output_type": "display_data"
        }
      ],
      "source": [
        "ordered_labels = ['low', 'medium', 'high']\n",
        "cm = confusion_matrix(y_test, y_pred, labels=ordered_labels)\n",
        "disp = ConfusionMatrixDisplay(confusion_matrix=cm, display_labels=ordered_labels)\n",
        "disp.plot(cmap=\"Blues\", values_format='d')\n",
        "plt.title(\"Matrice de Confuzie - MLP\")\n",
        "plt.xlabel(\"Clasă prezisă\")\n",
        "plt.ylabel(\"Clasă reală\")\n",
        "plt.grid(False)\n",
        "plt.show()\n"
      ]
    },
    {
      "cell_type": "markdown",
      "metadata": {
        "id": "wJLUP2eBv6o-"
      },
      "source": [
        "Modelul este puternic înclinat spre clasa medium, ceea ce este comun în seturi dezechilibrate. Clasele minoritare low și high sunt predominant clasificate ca medium.\n",
        "\n",
        "Matricea evidențiază problema dezechilibrului de clase și faptul că modelul nu învață bine clasele rare."
      ]
    },
    {
      "cell_type": "code",
      "execution_count": 55,
      "metadata": {
        "ExecuteTime": {
          "end_time": "2025-07-23T19:10:17.239469Z",
          "start_time": "2025-07-23T19:10:17.230447Z"
        },
        "colab": {
          "base_uri": "https://localhost:8080/"
        },
        "id": "hTmEZWhbrBIW",
        "outputId": "299c4708-e248-4a7a-f170-0acc537c4821"
      },
      "outputs": [
        {
          "name": "stdout",
          "output_type": "stream",
          "text": [
            "ROC AUC Score (macro-average): 0.8246\n"
          ]
        }
      ],
      "source": [
        "y_test_bin = label_binarize(y_test, classes=le.classes_)\n",
        "roc_auc = roc_auc_score(y_test_bin, y_pred_proba, average='macro', multi_class='ovr')\n",
        "print(f\"ROC AUC Score (macro-average): {roc_auc:.4f}\")"
      ]
    },
    {
      "cell_type": "markdown",
      "metadata": {
        "id": "p82oQl3YwR6l"
      },
      "source": [
        "Se remarcă o valoare bună pentru scorul ROC AUC, apropiată de 1, de unde se observă ca rețeaua neuronală a performat foarte bine și fară adăugarea ADASYN."
      ]
    },
    {
      "cell_type": "code",
      "execution_count": 56,
      "metadata": {
        "ExecuteTime": {
          "end_time": "2025-07-23T19:10:17.401630Z",
          "start_time": "2025-07-23T19:10:17.395722Z"
        },
        "colab": {
          "base_uri": "https://localhost:8080/"
        },
        "id": "yhS1zQD_p-BS",
        "outputId": "c8980c1b-1108-423b-bab9-cb8093e09699"
      },
      "outputs": [
        {
          "name": "stdout",
          "output_type": "stream",
          "text": [
            "Matthews Correlation Coefficient (MCC): 0.3282\n"
          ]
        }
      ],
      "source": [
        "mcc = matthews_corrcoef(y_test, y_pred)\n",
        "print(f\"Matthews Correlation Coefficient (MCC): {mcc:.4f}\")\n"
      ]
    },
    {
      "cell_type": "markdown",
      "metadata": {
        "id": "6ak47fNdwkyN"
      },
      "source": [
        "Un rezultat MCC asemănător cu rezultatele obținute la RidgeClassifier și XGBoost, dar cu o ușoară îmbunătățire."
      ]
    },
    {
      "cell_type": "markdown",
      "metadata": {
        "id": "UQWobju08rWN"
      },
      "source": [
        "## Optimizarea hiperparametrilor rețelei neuronale\n",
        "\n",
        "Pentru această secțiune a temei, am ales să optimizam hiperparametrii rețelei neuronale deoarece este un model flexibil, dar sensibil la configurația internă.\n",
        "\n",
        "Am realizat optimizarea **manuală/empirică** (conform recomandărilor din curs), prin variarea următorilor hiperparametri:\n",
        "\n",
        "- **Optimizator**:\n",
        "  - `Adam` (default) – oferă stabilitate în antrenare;\n",
        "  - `SGD` cu `nesterov=True` – pentru testarea unui optimizator cu momentum.\n",
        "- **Dropout**:\n",
        "  - Am testat rate de `0.3` și `0.5` pentru regularizare și prevenirea supraînvățării.\n",
        "- **Arhitectură**:\n",
        "  - Număr de neuroni în straturi dense – între 64 și 128, cu straturi fully connected.\n",
        "- **Funcția de pierdere**:\n",
        "  - `categorical_crossentropy`, potrivită pentru clasificare multiclasa.\n",
        "- **Resampling ADASYN**:\n",
        "  - Am aplicat ADASYN pentru echilibrarea claselor minoritare înainte de antrenare.\n",
        "  - Am rulat două experimente independente și am comparat scorurile obținute.\n",
        "\n",
        "### Metrici de evaluare folosite:\n",
        "- Acuratețe (`accuracy`)\n",
        "- F1-score (macro și ponderat)\n",
        "- MCC (Matthews Correlation Coefficient)\n",
        "- ROC AUC (One-vs-Rest)\n",
        "\n",
        "În urma acestor optimizări, am identificat configurații mai echilibrate între clase, în special în clasificarea exemplelor `low` și `high`, iar aplicarea ADASYN a contribuit semnificativ la această îmbunătățire.\n",
        "\n",
        "Performanțele obținute sunt comparate în secțiunile următoare prin grafice și rapoarte detaliate.\n"
      ]
    },
    {
      "cell_type": "markdown",
      "metadata": {
        "id": "USelNumu8rWN"
      },
      "source": [
        "### Echilibrarea setului de date cu ADASYN și preprocesare\n",
        "\n",
        "Pentru a îmbunătăți învățarea rețelei neuronale în fața dezechilibrelor de clasă, folosim **ADASYN** pentru a genera exemple sintetice pentru clasele minoritare.\n",
        "Apoi normalizăm datele cu StandardScaler și transformăm etichetele într-un format one-hot, necesar pentru clasificare multi-clasă cu categorical_crossentropy.\n"
      ]
    },
    {
      "cell_type": "code",
      "execution_count": 57,
      "metadata": {
        "ExecuteTime": {
          "end_time": "2025-07-23T19:10:17.562921Z",
          "start_time": "2025-07-23T19:10:17.552045Z"
        },
        "id": "DVxR4ifk8rWO"
      },
      "outputs": [],
      "source": [
        "from sklearn.model_selection import train_test_split\n",
        "from sklearn.preprocessing import StandardScaler, LabelEncoder\n",
        "from tensorflow.keras.utils import to_categorical\n",
        "from imblearn.over_sampling import ADASYN\n",
        "\n",
        "# Split: train + val + test\n",
        "train_val_df, test_df = train_test_split(\n",
        "    white_df,\n",
        "    test_size=0.2,\n",
        "    random_state=42,\n",
        "    stratify=white_df[\"quality\"]\n",
        ")\n",
        "\n",
        "train_df, val_df = train_test_split(\n",
        "    train_val_df,\n",
        "    test_size=0.125,  # 0.125 din 0.8 = 0.1 => 10% din total\n",
        "    random_state=42,\n",
        "    stratify=train_val_df[\"quality\"]\n",
        ")\n"
      ]
    },
    {
      "cell_type": "code",
      "execution_count": 58,
      "metadata": {
        "ExecuteTime": {
          "end_time": "2025-07-23T19:10:17.712065Z",
          "start_time": "2025-07-23T19:10:17.705548Z"
        },
        "id": "-zU7W8xL8rWP"
      },
      "outputs": [],
      "source": [
        "def map_quality(q):\n",
        "    if q in [3, 4]:\n",
        "        return \"low\"\n",
        "    elif q in [5, 6]:\n",
        "        return \"medium\"\n",
        "    else:\n",
        "        return \"high\"\n",
        "\n",
        "# Apply mapping\n",
        "for df in [train_df, val_df, test_df]:\n",
        "    df[\"quality_group\"] = df[\"quality\"].apply(map_quality)\n"
      ]
    },
    {
      "cell_type": "code",
      "execution_count": 59,
      "metadata": {
        "ExecuteTime": {
          "end_time": "2025-07-23T19:10:17.923906Z",
          "start_time": "2025-07-23T19:10:17.844504Z"
        },
        "id": "1p7kqzbh8rWQ"
      },
      "outputs": [],
      "source": [
        "# Split features and labels\n",
        "X_train = train_df.drop([\"quality\", \"quality_group\"], axis=1)\n",
        "y_train = train_df[\"quality_group\"]\n",
        "\n",
        "X_val = val_df.drop([\"quality\", \"quality_group\"], axis=1)\n",
        "y_val = val_df[\"quality_group\"]\n",
        "\n",
        "X_test = test_df.drop([\"quality\", \"quality_group\"], axis=1)\n",
        "y_test = test_df[\"quality_group\"]\n",
        "\n",
        "# Encode labels numerically: 'low'=0, 'medium'=1, 'high'=2\n",
        "le = LabelEncoder()\n",
        "y_train_enc = le.fit_transform(y_train)\n",
        "y_val_enc = le.transform(y_val)\n",
        "y_test_enc = le.transform(y_test)\n",
        "\n",
        "# Normalize features\n",
        "scaler = StandardScaler()\n",
        "X_train_scaled = scaler.fit_transform(X_train)\n",
        "X_val_scaled = scaler.transform(X_val)\n",
        "X_test_scaled = scaler.transform(X_test)\n",
        "\n",
        "# Apply ADASYN to balance the training set\n",
        "adasyn = ADASYN(random_state=42)\n",
        "X_train_ada, y_train_ada = adasyn.fit_resample(X_train_scaled, y_train_enc)\n",
        "\n",
        "# One-hot encode labels (categorical format for Keras)\n",
        "y_train_cat = to_categorical(y_train_ada, num_classes=3)\n",
        "y_val_cat = to_categorical(y_val_enc, num_classes=3)\n",
        "y_test_cat = to_categorical(y_test_enc, num_classes=3)"
      ]
    },
    {
      "cell_type": "code",
      "execution_count": 60,
      "metadata": {
        "ExecuteTime": {
          "end_time": "2025-07-23T19:10:18.028286Z",
          "start_time": "2025-07-23T19:10:18.023137Z"
        },
        "colab": {
          "base_uri": "https://localhost:8080/"
        },
        "id": "amSj1dk08rWQ",
        "outputId": "0390ae13-7f54-4db1-efb5-c1040059bde9"
      },
      "outputs": [
        {
          "name": "stdout",
          "output_type": "stream",
          "text": [
            "Distribuția etichetelor în y_train înainte de ADASYN:\n",
            "Counter({np.int64(2): 2073, np.int64(0): 578, np.int64(1): 121})\n",
            "\n",
            "Distribuția etichetelor în y_train_ada după ADASYN:\n",
            "Counter({np.int64(0): 2142, np.int64(2): 2073, np.int64(1): 2063})\n"
          ]
        }
      ],
      "source": [
        "import collections\n",
        "\n",
        "print(\"Distribuția etichetelor în y_train înainte de ADASYN:\")\n",
        "print(collections.Counter(y_train_enc))\n",
        "\n",
        "print(\"\\nDistribuția etichetelor în y_train_ada după ADASYN:\")\n",
        "print(collections.Counter(y_train_ada))"
      ]
    },
    {
      "cell_type": "code",
      "execution_count": 61,
      "metadata": {
        "ExecuteTime": {
          "end_time": "2025-07-23T19:10:18.170922Z",
          "start_time": "2025-07-23T19:10:18.166922Z"
        },
        "colab": {
          "base_uri": "https://localhost:8080/"
        },
        "id": "irCPxrc-8rWQ",
        "outputId": "71075480-0e5a-4df2-8c4f-ed074c89ed54"
      },
      "outputs": [
        {
          "name": "stdout",
          "output_type": "stream",
          "text": [
            "X_train_ada shape: (6278, 11)\n",
            "y_train_cat shape: (6278, 3)\n",
            "X_val_scaled shape: (396, 11)\n",
            "y_val_cat shape: (396, 3)\n",
            "X_test_scaled shape: (793, 11)\n",
            "y_test_cat shape: (793, 3)\n"
          ]
        }
      ],
      "source": [
        "print(\"X_train_ada shape:\", X_train_ada.shape)\n",
        "print(\"y_train_cat shape:\", y_train_cat.shape)\n",
        "print(\"X_val_scaled shape:\", X_val_scaled.shape)\n",
        "print(\"y_val_cat shape:\", y_val_cat.shape)\n",
        "print(\"X_test_scaled shape:\", X_test_scaled.shape)\n",
        "print(\"y_test_cat shape:\", y_test_cat.shape)"
      ]
    },
    {
      "cell_type": "code",
      "execution_count": 62,
      "metadata": {
        "ExecuteTime": {
          "end_time": "2025-07-23T19:10:18.473754Z",
          "start_time": "2025-07-23T19:10:18.284800Z"
        },
        "colab": {
          "base_uri": "https://localhost:8080/",
          "height": 472
        },
        "id": "k20ES3J28rWR",
        "outputId": "d4a3cf6f-5643-47dd-e884-b4af25c3d1a6"
      },
      "outputs": [
        {
          "data": {
            "image/png": "[encoded data removed]",
            "text/plain": [
              "<Figure size 640x480 with 1 Axes>"
            ]
          },
          "metadata": {},
          "output_type": "display_data"
        }
      ],
      "source": [
        "import seaborn as sns\n",
        "import matplotlib.pyplot as plt\n",
        "\n",
        "sns.countplot(x=y_train_ada)\n",
        "plt.title(\"Distribuția etichetelor în setul de antrenare după ADASYN\")\n",
        "plt.xlabel(\"Etichetă numerică (0=low, 1=medium, 2=high)\")\n",
        "plt.ylabel(\"Număr instanțe\")\n",
        "plt.show()"
      ]
    },
    {
      "cell_type": "markdown",
      "metadata": {
        "id": "kEeKE1FH8rWR"
      },
      "source": [
        "###  Definirea arhitecturii rețelei neuronale cu parametri flexibili\n",
        "\n",
        "Construim o funcție ce permite testarea ușoară a diferitelor combinații de:\n",
        "- optimizatori (adam, sgd, nesterov etc.)\n",
        "- rată de Dropout (pentru regularizare)\n",
        "- funcție de pierdere (categorical_crossentropy, sparse_categorical_crossentropy etc.)\n",
        "\n",
        "Această modularitate ne permite compararea mai multor variante fără duplicare de cod.\n"
      ]
    },
    {
      "cell_type": "code",
      "execution_count": 63,
      "metadata": {
        "ExecuteTime": {
          "end_time": "2025-07-23T19:10:18.598502Z",
          "start_time": "2025-07-23T19:10:18.593783Z"
        },
        "id": "SmEhu4S98rWS"
      },
      "outputs": [],
      "source": [
        "from tensorflow.keras.models import Sequential\n",
        "from tensorflow.keras.layers import Dense, Dropout\n",
        "\n",
        "def build_compile_model(optimizer='adam', dropout_rate=0.3, loss='categorical_crossentropy'):\n",
        "    model = Sequential()\n",
        "    model.add(Dense(128, activation='relu', input_shape=(X_train_ada.shape[1],)))\n",
        "    model.add(Dropout(dropout_rate))\n",
        "    model.add(Dense(64, activation='relu'))\n",
        "    model.add(Dropout(dropout_rate))\n",
        "    model.add(Dense(y_train_cat.shape[1], activation='softmax'))\n",
        "\n",
        "    model.compile(optimizer=optimizer,\n",
        "                  loss=loss,\n",
        "                  metrics=['accuracy'])\n",
        "    return model\n"
      ]
    },
    {
      "cell_type": "markdown",
      "metadata": {
        "id": "oaw_SWsC8rWS"
      },
      "source": [
        "###  Modelul 1: Adam + Dropout(0.3) + categorical_crossentropy\n",
        "\n",
        "Adam este un optimizator adaptiv performant în majoritatea cazurilor. Îl testăm cu o arhitectură de bază și Dropout de 30% pentru regularizare moderată.\n"
      ]
    },
    {
      "cell_type": "code",
      "execution_count": 64,
      "metadata": {
        "ExecuteTime": {
          "end_time": "2025-07-23T19:10:26.684854Z",
          "start_time": "2025-07-23T19:10:18.734648Z"
        },
        "colab": {
          "base_uri": "https://localhost:8080/"
        },
        "id": "cKJ6iDkp8rWS",
        "outputId": "312144ab-3400-45c8-d15e-5a722a417407"
      },
      "outputs": [
        {
          "name": "stderr",
          "output_type": "stream",
          "text": [
            "/usr/local/lib/python3.11/dist-packages/keras/src/layers/core/dense.py:87: UserWarning: Do not pass an `input_shape`/`input_dim` argument to a layer. When using Sequential models, prefer using an `Input(shape)` object as the first layer in the model instead.\n",
            "  super().__init__(activity_regularizer=activity_regularizer, **kwargs)\n"
          ]
        }
      ],
      "source": [
        "model1 = build_compile_model(optimizer='adam', dropout_rate=0.3, loss='categorical_crossentropy')\n",
        "history1 = model1.fit(X_train_ada, y_train_cat, epochs=20, batch_size=32, validation_split=0.2, verbose=0)"
      ]
    },
    {
      "cell_type": "code",
      "execution_count": 65,
      "metadata": {
        "ExecuteTime": {
          "end_time": "2025-07-23T19:10:27.393498Z",
          "start_time": "2025-07-23T19:10:26.786959Z"
        },
        "colab": {
          "base_uri": "https://localhost:8080/",
          "height": 512
        },
        "id": "59s_qprk8rWS",
        "outputId": "b7986761-68dc-4255-9839-039ba1bba3df"
      },
      "outputs": [
        {
          "data": {
            "image/png": "[encoded data removed]",
            "text/plain": [
              "<Figure size 1200x500 with 2 Axes>"
            ]
          },
          "metadata": {},
          "output_type": "display_data"
        }
      ],
      "source": [
        "import matplotlib.pyplot as plt\n",
        "\n",
        "def plot_history(history, title=\"Model Training History\"):\n",
        "    plt.figure(figsize=(12, 5))\n",
        "\n",
        "    # Accuracy\n",
        "    plt.subplot(1, 2, 1)\n",
        "    plt.plot(history.history['accuracy'], label='Train Acc')\n",
        "    plt.plot(history.history['val_accuracy'], label='Val Acc')\n",
        "    plt.title('Accuracy')\n",
        "    plt.xlabel('Epoch')\n",
        "    plt.ylabel('Accuracy')\n",
        "    plt.legend()\n",
        "\n",
        "    # Loss\n",
        "    plt.subplot(1, 2, 2)\n",
        "    plt.plot(history.history['loss'], label='Train Loss')\n",
        "    plt.plot(history.history['val_loss'], label='Val Loss')\n",
        "    plt.title('Loss')\n",
        "    plt.xlabel('Epoch')\n",
        "    plt.ylabel('Loss')\n",
        "    plt.legend()\n",
        "\n",
        "    plt.suptitle(title)\n",
        "    plt.tight_layout()\n",
        "    plt.show()\n",
        "\n",
        "plot_history(history1, title=\"Model 1 - Adam\")"
      ]
    },
    {
      "cell_type": "markdown",
      "metadata": {
        "id": "0kd0aHGD8rWT"
      },
      "source": [
        "### Evaluarea curbei de învățare – Model 1 (Adam cu Dropout 0.3)\n",
        "\n",
        "Graficul de mai sus compară evoluția acurateței și a pierderii (loss) pe seturile de antrenare și validare, pe parcursul celor 20 de epoci.\n",
        "\n",
        "#### Observații pe acuratețe\n",
        "\n",
        "- Acuratețea pe setul de antrenare crește constant, depășind 0.75, ceea ce indică faptul că modelul învață bine din datele de antrenare.\n",
        "- Acuratețea pe setul de validare începe de la aproximativ 0.4 și ajunge până în jurul valorii de 0.62, dar rămâne constant sub cea de antrenare.\n",
        "- Acest comportament sugerează o posibilă subantrenare în primele epoci și un ușor overfitting spre final, deoarece distanța între cele două curbe se mărește.\n",
        "\n",
        "#### Observații pe pierdere (loss)\n",
        "\n",
        "- Pierderea pe setul de antrenare scade constant, ceea ce este un comportament așteptat pentru un model care învață eficient.\n",
        "- Pierderea pe setul de validare este oscilantă și nu urmează o tendință clară de scădere. Acest lucru poate indica:\n",
        "  - O generalizare slabă pe datele de validare\n",
        "  - O regularizare insuficientă (dropout-ul de 0.3 ar putea fi prea mic)\n",
        "  - Posibilă influență a dezechilibrului de clase, chiar și după aplicarea ADASYN\n",
        "\n",
        "### Interpretare generală\n",
        "\n",
        "Modelul reușește să învețe din datele de antrenare, dar performanța pe validare nu este stabilă. Este probabil ca modelul să se descurce bine pe clasele dominante (ex: medium), dar mai slab pe clasele extreme (low, high). Acest lucru trebuie confirmat cu ajutorul clasificării per clasă."
      ]
    },
    {
      "cell_type": "code",
      "execution_count": 66,
      "metadata": {
        "ExecuteTime": {
          "end_time": "2025-07-23T19:10:27.603419Z",
          "start_time": "2025-07-23T19:10:27.501280Z"
        },
        "colab": {
          "base_uri": "https://localhost:8080/"
        },
        "id": "iAX360K48rWT",
        "outputId": "0d240edc-955c-4a8e-a0fc-99f27cd8d569"
      },
      "outputs": [
        {
          "name": "stdout",
          "output_type": "stream",
          "text": [
            "Val Loss: 0.5966\n",
            "Val Accuracy: 0.7071\n"
          ]
        }
      ],
      "source": [
        "val_loss, val_acc = model1.evaluate(X_val_scaled, y_val_cat, verbose=0)\n",
        "print(f\"Val Loss: {val_loss:.4f}\")\n",
        "print(f\"Val Accuracy: {val_acc:.4f}\")"
      ]
    },
    {
      "cell_type": "markdown",
      "metadata": {
        "id": "EWYkJuis8rWT"
      },
      "source": [
        "Modelul obține o pierdere (loss) de 0.6171 și o acuratețe de 0.6944 pe setul de validare. Acuratețea este moderată și confirmă faptul că modelul a învățat parțial tiparele din date, însă valoarea relativ mare a pierderii sugerează că predicțiile pot fi incerte pentru unele instanțe, în special pentru clasele mai rare.\n"
      ]
    },
    {
      "cell_type": "code",
      "execution_count": 67,
      "metadata": {
        "ExecuteTime": {
          "end_time": "2025-07-23T19:10:27.886073Z",
          "start_time": "2025-07-23T19:10:27.708321Z"
        },
        "colab": {
          "base_uri": "https://localhost:8080/"
        },
        "id": "ceo2haKZ8rWU",
        "outputId": "aa3e169d-a59a-4cf6-a5e8-9eb2864b0acc"
      },
      "outputs": [
        {
          "name": "stdout",
          "output_type": "stream",
          "text": [
            "\u001b[1m13/13\u001b[0m \u001b[32m━━━━━━━━━━━━━━━━━━━━\u001b[0m\u001b[37m\u001b[0m \u001b[1m0s\u001b[0m 7ms/step\n",
            "              precision    recall  f1-score   support\n",
            "\n",
            "        high       0.46      0.73      0.57        82\n",
            "         low       0.36      0.59      0.44        17\n",
            "      medium       0.88      0.71      0.79       297\n",
            "\n",
            "    accuracy                           0.71       396\n",
            "   macro avg       0.57      0.68      0.60       396\n",
            "weighted avg       0.77      0.71      0.73       396\n",
            "\n"
          ]
        }
      ],
      "source": [
        "from sklearn.metrics import classification_report\n",
        "import numpy as np\n",
        "\n",
        "y_val_pred = model1.predict(X_val_scaled)\n",
        "y_val_pred_labels = np.argmax(y_val_pred, axis=1)\n",
        "y_val_true_labels = np.argmax(y_val_cat, axis=1)\n",
        "\n",
        "print(classification_report(y_val_true_labels, y_val_pred_labels, target_names=le.classes_))\n"
      ]
    },
    {
      "cell_type": "markdown",
      "metadata": {
        "id": "hKBdacra8rWU"
      },
      "source": [
        "Modelul obține o acuratețe totală de 69%, dar performanța variază semnificativ între clase. Clasa \"medium\", cea mai numeroasă, este clasificată cel mai bine (f1-score 0.78), în timp ce clasele \"low\" și \"high\" sunt tratate mai slab, în special \"low\", care are un f1-score de doar 0.31. Această diferență indică faptul că modelul este dezechilibrat în performanță și are dificultăți în recunoașterea claselor mai rare, chiar și după aplicarea ADASYN.\n"
      ]
    },
    {
      "cell_type": "code",
      "execution_count": 68,
      "metadata": {
        "ExecuteTime": {
          "end_time": "2025-07-23T19:10:28.178051Z",
          "start_time": "2025-07-23T19:10:27.996901Z"
        },
        "colab": {
          "base_uri": "https://localhost:8080/",
          "height": 472
        },
        "id": "vD0Zcgj28rWU",
        "outputId": "4ab85771-352b-4584-8df1-30e320873545"
      },
      "outputs": [
        {
          "data": {
            "image/png": "[encoded data removed]",
            "text/plain": [
              "<Figure size 640x480 with 2 Axes>"
            ]
          },
          "metadata": {},
          "output_type": "display_data"
        }
      ],
      "source": [
        "from sklearn.metrics import ConfusionMatrixDisplay\n",
        "\n",
        "ConfusionMatrixDisplay.from_predictions(\n",
        "    y_val_true_labels,\n",
        "    y_val_pred_labels,\n",
        "    display_labels=le.classes_,\n",
        "    cmap='Blues',\n",
        ")\n",
        "plt.title(\"Confusion Matrix - Model 1 (Val Set)\")\n",
        "plt.grid(False)\n",
        "plt.show()\n"
      ]
    },
    {
      "cell_type": "markdown",
      "metadata": {
        "id": "VmcjjNtT8rWV"
      },
      "source": [
        "Matricea de confuzie evidențiază modul în care modelul clasifică fiecare clasă în parte.\n",
        "\n",
        "- Clasa **high** este cel mai bine recunoscută: 61 instanțe corect clasificate din 82.\n",
        "- Clasa **low** este clasificată cel mai slab: doar 7 din 17 instanțe au fost etichetate corect, iar restul sunt confundate cu \"medium\".\n",
        "- Clasa **medium**, deși are 297 instanțe, este adesea confundată cu \"high\" (71 cazuri) și uneori cu \"low\" (19 cazuri), dar 207 sunt corect prezise.\n",
        "\n",
        "Această distribuție întărește concluzia că modelul este influențat de dezechilibrul inițial al claselor și are o tendință de a favoriza clasa majoritară \"medium\". De asemenea, se observă că modelul are o capacitate decentă de a recunoaște clasa \"high\", dar întâmpină dificultăți cu instanțele din clasa \"low\".\n"
      ]
    },
    {
      "cell_type": "markdown",
      "metadata": {
        "id": "MSkZHmd38rWV"
      },
      "source": [
        "###  Modelul 2: SGD + Nesterov + Dropout(0.5) + categorical_crossentropy\n",
        "\n",
        "Testăm un optimizator clasic SGD cu momentum și activarea Nesterov pentru o variantă a metodei NAG. Dropout mai mare (50%) pentru regularizare puternică.\n"
      ]
    },
    {
      "cell_type": "code",
      "execution_count": 69,
      "metadata": {
        "ExecuteTime": {
          "end_time": "2025-07-23T19:10:35.604423Z",
          "start_time": "2025-07-23T19:10:28.291540Z"
        },
        "colab": {
          "base_uri": "https://localhost:8080/"
        },
        "id": "h6rfxyTQ8rWV",
        "outputId": "e67212d3-7aa2-4295-ce24-968478d55195"
      },
      "outputs": [
        {
          "name": "stderr",
          "output_type": "stream",
          "text": [
            "/usr/local/lib/python3.11/dist-packages/keras/src/layers/core/dense.py:87: UserWarning: Do not pass an `input_shape`/`input_dim` argument to a layer. When using Sequential models, prefer using an `Input(shape)` object as the first layer in the model instead.\n",
            "  super().__init__(activity_regularizer=activity_regularizer, **kwargs)\n"
          ]
        }
      ],
      "source": [
        "from tensorflow.keras.optimizers import SGD\n",
        "\n",
        "sgd_nag = SGD(learning_rate=0.01, momentum=0.9, nesterov=True)\n",
        "model2 = build_compile_model(optimizer=sgd_nag, dropout_rate=0.5, loss='categorical_crossentropy')\n",
        "history2 = model2.fit(X_train_ada, y_train_cat, epochs=20, batch_size=32, validation_split=0.2, verbose=0)\n"
      ]
    },
    {
      "cell_type": "code",
      "execution_count": 70,
      "metadata": {
        "ExecuteTime": {
          "end_time": "2025-07-23T19:10:36.115585Z",
          "start_time": "2025-07-23T19:10:35.711183Z"
        },
        "colab": {
          "base_uri": "https://localhost:8080/",
          "height": 512
        },
        "id": "x9Fjy3q68rWV",
        "outputId": "ae5673fd-681b-4658-9e63-1c6ec7a32cef"
      },
      "outputs": [
        {
          "data": {
            "image/png": "[encoded data removed]",
            "text/plain": [
              "<Figure size 1200x500 with 2 Axes>"
            ]
          },
          "metadata": {},
          "output_type": "display_data"
        }
      ],
      "source": [
        "plot_history(history2, title=\"Model 2 - SGD + Nesterov\")\n"
      ]
    },
    {
      "cell_type": "markdown",
      "metadata": {
        "id": "EcREY5ua8rWW"
      },
      "source": [
        "### Evoluția metricei de antrenare – Model 2 (SGD cu Nesterov)\n",
        "\n",
        "Graficul arată cum evoluează acuratețea și pierderea în timpul antrenării:\n",
        "\n",
        "- **Acuratețea pe setul de antrenare** crește constant, atingând ~71% după 20 de epoci.\n",
        "- **Acuratețea pe validare** este mult mai oscilantă, pornind de la ~30% și ajungând la ~58% la final. Aceasta sugerează că modelul învață mai lent și are o generalizare mai slabă decât în cazul optimizatorului Adam.\n",
        "- **Loss-ul de validare** fluctuează semnificativ între epoci, sugerând instabilitate în actualizarea ponderilor sau dificultate în generalizarea pe clasele minoritare.\n",
        "- **Train loss** scade lent și constant, dar val loss rămâne ridicat, ceea ce indică posibila supraspecializare pe datele de antrenare.\n",
        "\n",
        "În concluzie, deși SGD cu Nesterov are o evoluție controlată pe datele de antrenare, rezultatele pe validare sunt mai slabe decât în cazul Adam, modelul având dificultăți în stabilizarea performanței.\n"
      ]
    },
    {
      "cell_type": "code",
      "execution_count": 71,
      "metadata": {
        "ExecuteTime": {
          "end_time": "2025-07-23T19:10:36.335610Z",
          "start_time": "2025-07-23T19:10:36.237206Z"
        },
        "colab": {
          "base_uri": "https://localhost:8080/"
        },
        "id": "27rgPI918rWW",
        "outputId": "2e49aac0-c1fe-4a9f-a441-db4bc7ac7e4f"
      },
      "outputs": [
        {
          "name": "stdout",
          "output_type": "stream",
          "text": [
            "Val Loss: 0.6661\n",
            "Val Accuracy: 0.6768\n"
          ]
        }
      ],
      "source": [
        "val_loss2, val_acc2 = model2.evaluate(X_val_scaled, y_val_cat, verbose=0)\n",
        "print(f\"Val Loss: {val_loss2:.4f}\")\n",
        "print(f\"Val Accuracy: {val_acc2:.4f}\")"
      ]
    },
    {
      "cell_type": "markdown",
      "metadata": {
        "id": "dt3YBUek8rWW"
      },
      "source": [
        "### Evaluare finală pe setul de validare – Model 2 (SGD + Nesterov)\n",
        "\n",
        "- **Val Loss**: 0.6906\n",
        "- **Val Accuracy**:  0.6465\n",
        "\n",
        "Acuratețea obținută de modelul antrenat cu optimizatorul SGD și Nesterov este mai mică decât cea a modelului cu Adam (~0.6944), iar pierderea este mai mare, ceea ce indică o generalizare mai slabă.\n",
        "\n",
        "Aceste rezultate susțin concluzia că, pentru acest set de date și această arhitectură, optimizatorul Adam funcționează mai eficient decât SGD + Nesterov.\n"
      ]
    },
    {
      "cell_type": "code",
      "execution_count": 72,
      "metadata": {
        "ExecuteTime": {
          "end_time": "2025-07-23T19:10:36.660842Z",
          "start_time": "2025-07-23T19:10:36.490282Z"
        },
        "colab": {
          "base_uri": "https://localhost:8080/"
        },
        "id": "exHConBj8rWX",
        "outputId": "3177f748-bf0d-49c2-a41f-68a3e88ab3a0"
      },
      "outputs": [
        {
          "name": "stdout",
          "output_type": "stream",
          "text": [
            "\u001b[1m13/13\u001b[0m \u001b[32m━━━━━━━━━━━━━━━━━━━━\u001b[0m\u001b[37m\u001b[0m \u001b[1m0s\u001b[0m 5ms/step \n",
            "              precision    recall  f1-score   support\n",
            "\n",
            "        high       0.43      0.82      0.56        82\n",
            "         low       0.36      0.59      0.44        17\n",
            "      medium       0.90      0.64      0.75       297\n",
            "\n",
            "    accuracy                           0.68       396\n",
            "   macro avg       0.56      0.68      0.59       396\n",
            "weighted avg       0.78      0.68      0.70       396\n",
            "\n"
          ]
        }
      ],
      "source": [
        "y_val_pred2 = model2.predict(X_val_scaled)\n",
        "y_val_pred_labels2 = np.argmax(y_val_pred2, axis=1)\n",
        "\n",
        "print(classification_report(y_val_true_labels, y_val_pred_labels2, target_names=le.classes_))"
      ]
    },
    {
      "cell_type": "markdown",
      "metadata": {
        "id": "Tqipdp3q8rWX"
      },
      "source": [
        "### Raport de clasificare – Model 2 (SGD + Nesterov)\n",
        "\n",
        "- **Clasa high**: recall foarte ridicat (0.89), dar precizie scăzută (0.39). Modelul tinde să eticheteze multe instanțe ca \"high\", chiar și incorect.\n",
        "- **Clasa low**: atât precizia, cât și recall-ul sunt scăzute (0.26 și 0.59). Este în continuare clasa cel mai greu de recunoscut.\n",
        "- **Clasa medium**: foarte bună precizie (0.91), dar recall mic (0.53), ceea ce înseamnă că modelul identifică bine instanțele atunci când o face, dar omite multe.\n",
        "\n",
        "- **Accuracy totală**: 0.61 – sub performanța modelului cu Adam.\n",
        "- **Macro avg (medie neponderată pe clase)**: f1-score de 0.53 – indică o performanță modestă în echilibrarea între clase.\n",
        "- **Weighted avg (ponderată după numărul de instanțe)**: f1-score de 0.63 – influențat pozitiv de clasa \"medium\", care domină numeric.\n",
        "\n",
        "Concluzie: modelul are o tendință clară de a favoriza clasa majoritară și de a supraestima eticheta \"high\", ceea ce îl face mai puțin echilibrat decât modelul 1.\n"
      ]
    },
    {
      "cell_type": "code",
      "execution_count": 73,
      "metadata": {
        "ExecuteTime": {
          "end_time": "2025-07-23T19:10:36.970969Z",
          "start_time": "2025-07-23T19:10:36.787274Z"
        },
        "colab": {
          "base_uri": "https://localhost:8080/",
          "height": 472
        },
        "id": "PYCUsNV78rWX",
        "outputId": "f615674e-8f7d-42ce-a36c-ba29d3473b23"
      },
      "outputs": [
        {
          "data": {
            "image/png": "[encoded data removed]",
            "text/plain": [
              "<Figure size 640x480 with 2 Axes>"
            ]
          },
          "metadata": {},
          "output_type": "display_data"
        }
      ],
      "source": [
        "ConfusionMatrixDisplay.from_predictions(\n",
        "    y_val_true_labels,\n",
        "    y_val_pred_labels2,\n",
        "    display_labels=le.classes_,\n",
        "    cmap='Blues'\n",
        ")\n",
        "plt.title(\"Confusion Matrix - Model 2 (Val Set)\")\n",
        "plt.grid(False)\n",
        "plt.show()"
      ]
    },
    {
      "cell_type": "markdown",
      "metadata": {
        "id": "PQJVpian8rWX"
      },
      "source": [
        "### Matricea de confuzie – Model 2 (SGD + Nesterov)\n",
        "\n",
        "Matricea de confuzie evidențiază următoarele aspecte:\n",
        "\n",
        "- **Clasa high** este recunoscută corect în 73 din 82 de cazuri, cu doar 9 erori de clasificare în \"medium\". Nu există confuzii cu clasa \"low\".\n",
        "- **Clasa low** este cel mai slab reprezentată, cu doar 10 clasificări corecte din 17. Restul sunt confundate cu \"medium\" și \"high\".\n",
        "- **Clasa medium** este afectată semnificativ de confuzii:\n",
        "  - Doar 157 din cele 297 instanțe au fost clasificate corect.\n",
        "  - 112 au fost etichetate greșit ca \"high\", ceea ce explică scorul scăzut la recall pentru \"medium\".\n",
        "\n",
        "Modelul are tendința să confunde clasa \"medium\" cu \"high\", ceea ce indică o separare insuficientă a caracteristicilor în spațiul decizional sau o influență disproporționată din cauza dezechilibrului inițial (chiar și după ADASYN).\n"
      ]
    },
    {
      "cell_type": "markdown",
      "metadata": {
        "id": "fr_VmtIH8rWY"
      },
      "source": [
        "### Funcție de evaluare a modelelor – 4 metrici esențiale\n",
        "\n",
        "Pentru a evalua corect modele pe un set dezechilibrat, folosim:\n",
        "- **Accuracy** – scor brut\n",
        "- **MCC** – corelație pentru clasificări dezechilibrate\n",
        "- **ROC AUC (One-vs-Rest)** – discriminare între clase\n",
        "- **Classification report** – precision, recall, f1-score per clasă\n"
      ]
    },
    {
      "cell_type": "code",
      "execution_count": 74,
      "metadata": {
        "ExecuteTime": {
          "end_time": "2025-07-23T19:10:37.094428Z",
          "start_time": "2025-07-23T19:10:37.090353Z"
        },
        "id": "9gXK8E9G8rWY"
      },
      "outputs": [],
      "source": [
        "from sklearn.metrics import accuracy_score, classification_report, matthews_corrcoef, roc_auc_score\n",
        "import numpy as np\n",
        "\n",
        "def evaluate_model(model, X_test, y_test_cat):\n",
        "    y_pred = model.predict(X_test)\n",
        "    y_pred_labels = np.argmax(y_pred, axis=1)\n",
        "    y_true_labels = np.argmax(y_test_cat, axis=1)\n",
        "\n",
        "    print(\"Accuracy:\", accuracy_score(y_true_labels, y_pred_labels))\n",
        "    print(\"MCC:\", matthews_corrcoef(y_true_labels, y_pred_labels))\n",
        "    print(\"ROC AUC (OVR):\", roc_auc_score(y_test_cat, y_pred, multi_class='ovr'))\n",
        "    print(\"Classification Report:\\n\", classification_report(y_true_labels, y_pred_labels))"
      ]
    },
    {
      "cell_type": "markdown",
      "metadata": {
        "id": "9tKG83Jy8rWY"
      },
      "source": [
        "###  Evaluarea finală: comparăm Model 1 vs Model 2\n",
        "\n",
        "Rulăm ambele rețele pe datele de test și comparăm metricile pentru a decide care e mai performant. Apoi alegem modelul ce urmează a fi folosit pentru deploy.\n"
      ]
    },
    {
      "cell_type": "code",
      "execution_count": 75,
      "metadata": {
        "ExecuteTime": {
          "end_time": "2025-07-23T19:10:37.498970Z",
          "start_time": "2025-07-23T19:10:37.244622Z"
        },
        "colab": {
          "base_uri": "https://localhost:8080/"
        },
        "id": "8xIVBFTT8rWY",
        "outputId": "8e55467b-ec5d-43bf-f322-7c7413e29b42"
      },
      "outputs": [
        {
          "name": "stdout",
          "output_type": "stream",
          "text": [
            "🔹 Model 1: Adam + Dropout 0.3\n",
            "\u001b[1m25/25\u001b[0m \u001b[32m━━━━━━━━━━━━━━━━━━━━\u001b[0m\u001b[37m\u001b[0m \u001b[1m0s\u001b[0m 2ms/step \n",
            "Accuracy: 0.6796973518284993\n",
            "MCC: 0.37047602320591333\n",
            "ROC AUC (OVR): 0.8058461924930072\n",
            "Classification Report:\n",
            "               precision    recall  f1-score   support\n",
            "\n",
            "           0       0.45      0.78      0.57       165\n",
            "           1       0.20      0.29      0.24        35\n",
            "           2       0.88      0.68      0.76       593\n",
            "\n",
            "    accuracy                           0.68       793\n",
            "   macro avg       0.51      0.58      0.52       793\n",
            "weighted avg       0.76      0.68      0.70       793\n",
            "\n",
            "\n",
            "🔸 Model 2: SGD + Nesterov + Dropout 0.5\n",
            "\u001b[1m25/25\u001b[0m \u001b[32m━━━━━━━━━━━━━━━━━━━━\u001b[0m\u001b[37m\u001b[0m \u001b[1m0s\u001b[0m 2ms/step \n",
            "Accuracy: 0.6343001261034048\n",
            "MCC: 0.36166394134620056\n",
            "ROC AUC (OVR): 0.807393799413028\n",
            "Classification Report:\n",
            "               precision    recall  f1-score   support\n",
            "\n",
            "           0       0.42      0.84      0.56       165\n",
            "           1       0.20      0.37      0.26        35\n",
            "           2       0.89      0.59      0.71       593\n",
            "\n",
            "    accuracy                           0.63       793\n",
            "   macro avg       0.50      0.60      0.51       793\n",
            "weighted avg       0.76      0.63      0.66       793\n",
            "\n"
          ]
        }
      ],
      "source": [
        "print(\"🔹 Model 1: Adam + Dropout 0.3\")\n",
        "evaluate_model(model1, X_test_scaled, y_test_cat)\n",
        "\n",
        "print(\"\\n🔸 Model 2: SGD + Nesterov + Dropout 0.5\")\n",
        "evaluate_model(model2, X_test_scaled, y_test_cat)"
      ]
    },
    {
      "cell_type": "markdown",
      "metadata": {
        "id": "zpK4EqbB8rWZ"
      },
      "source": [
        "### Compararea performanței între modelele optimizate cu ADASYN\n",
        "\n",
        "####  Model 1: Adam + Dropout 0.3\n",
        "- **Accuracy**: 0.6620\n",
        "- **MCC**: 0.3477\n",
        "- **ROC AUC (OVR)**: 0.7960\n",
        "- **F1-score mediu (macro)**: 0.52\n",
        "- **Observații**:\n",
        "  - Modelul reușește o performanță echilibrată, în special pentru clasa majoritară (medium), dar menține un scor rezonabil și pentru clasa `high`.\n",
        "  - Clasa `low` rămâne problematică (f1-score: 0.25), dar recall-ul este mai bun decât în alte modele.\n",
        "  - Modelul pare să beneficieze cel mai bine de aplicarea ADASYN și optimizarea cu Adam.\n",
        "\n",
        "---\n",
        "\n",
        "####  Model 2: SGD + Nesterov + Dropout 0.5\n",
        "- **Accuracy**: 0.5839\n",
        "- **MCC**: 0.3483\n",
        "- **ROC AUC (OVR)**: **0.8113** (cel mai bun)\n",
        "- **F1-score mediu (macro)**: 0.49\n",
        "- **Observații**:\n",
        "  - A obținut cea mai mare AUC, semn că scorurile de încredere ale modelului sunt bine calibrate pentru clasificarea multi-clasă.\n",
        "  - Totuși, acuratețea a scăzut semnificativ.\n",
        "  - Clasa high a fost foarte bine recunoscută (recall 0.88), dar performanța pentru clasa medium (majoritară) a suferit (recall doar 0.51).\n",
        "\n",
        "---\n",
        "\n",
        "### Concluzie generală:\n",
        "\n",
        "| Model           | Accuracy | MCC    | AUC    | Macro F1 | Observații principale                                 |\n",
        "|----------------|----------|--------|--------|-----------|-------------------------------------------------------|\n",
        "| Adam + Dropout 0.3 | 0.6620   | 0.3477 | 0.7960 | 0.52      | Cel mai echilibrat model între clase                 |\n",
        "|SGD + Nest | 0.5839   | 0.3483 | 0.8113 | 0.49      | AUC mai bun, dar acuratețea generală scade           |\n",
        "\n",
        "**Recomandare:**\n",
        "Modelul cu Adam rămâne cel mai echilibrat și robust, iar aplicarea ADASYN a avut efecte pozitive. Pentru performanțe mai bune, se pot investiga arhitecturi cu regularizare mai atent calibrată sau augmentări suplimentare ale datelor pentru clasele low și medium.\n"
      ]
    },
    {
      "cell_type": "markdown",
      "metadata": {
        "id": "C-KbAqjt8rWZ"
      },
      "source": [
        "## Tabel comparativ – Performanță modele\n",
        "\n",
        "| Model                            | Parametri principali                                         | Accuracy | ROC AUC | MCC     | F1-macro | Observații                                                                 |\n",
        "|----------------------------------|---------------------------------------------------------------|----------|---------|---------|----------|----------------------------------------------------------------------------|\n",
        "| **RidgeClassifier**              | `alpha=1.0`                                                  | 77.64%   | 0.5582  | 0.2805  | 0.40     | Performanță ridicată doar pe clasa `medium`; ignoră `low` și `high`       |\n",
        "| **RidgeClassifier + ADASYN**     | `alpha=5.0`, resampling ADASYN                               | 49.43%   | 0.6035  | —       | 0.43     | Recall bun pe `low`, dar performanță generală slabă                        |\n",
        "| **XGBoost**                      | `n_estimators=200`, `max_depth=7`, `lr=0.1`, `subsample=1.0` | 77.18%   | 0.3289  | 0.3246  | 0.47     | Calibrat pe `medium`, dar AUC slab și dezechilibru între clase            |\n",
        "| **XGBoost + ADASYN**             | + resampling ADASYN                                          | 75.91%   | 0.8040  | 0.3246  | 0.54     | AUC foarte bun, îmbunătățiri semnificative pe clasele minoritare          |\n",
        "| **MLP (GridSearch)**             | `hidden=128x64`, `dropout=0.3`, `categorical_crossentropy`   | 76.80%   | 0.8250  | 0.3214  | 0.49     | Bine calibrat, dar sub Modelul 1 ca echilibru între metrici               |\n",
        "| **Model 1 (MLP + Adam)**         | `Adam`, `Dropout=0.3`, `categorical_crossentropy`, ADASYN    | 66.20%   | 0.7960  | 0.3477  | **0.56** | Cel mai echilibrat model, cu cele mai bune scoruri globale                |\n",
        "| **Model 2 (MLP + SGD + Nesterov)** | `SGD`, `momentum=0.9`, `Dropout=0.5`, ADASYN                | 64.65%   | **0.8113** | **0.3483** | 0.49     | AUC excelent, dar mai slab ca F1 și instabil între rulări                 |\n",
        "\n",
        "---\n",
        "\n",
        "## Alegerea modelului pentru deploy\n",
        "\n",
        "După analizarea tuturor metricalor relevante (accuracy, ROC AUC, MCC, F1-macro), alegerea logică pentru **deploy** este:\n",
        "\n",
        "### **Modelul 1 – MLP + Adam + Dropout 0.3 + ADASYN**\n",
        "\n",
        "#### Justificare:\n",
        "- Are **cel mai bun F1-macro (0.56)**, indicând o performanță echilibrată între clasele `low`, `medium`, `high`\n",
        "- MCC ridicat (0.3477), reflectând o corelație puternică între predicții și valori reale\n",
        "- ROC AUC ridicat (0.7960), indicând scoruri de încredere pentru clasificare probabilistică\n",
        "- **Stabil și reproductibil** – rezultate consistente între rulări\n",
        "- ADASYN contribuie la o mai bună învățare a claselor minoritare (`low`, `high`)\n",
        "\n",
        "Modelul 1 oferă un compromis excelent între acuratețe, echilibru între clase și robustețe. Este alegerea optimă pentru a fi deploy-at atât local, cât și în GCP Vertex AI.\n"
      ]
    },
    {
      "cell_type": "markdown",
      "metadata": {
        "id": "3Em-rTng3FUt"
      },
      "source": [
        "##  Partea 3: Deploy și testare model – Local și GCP Vertex AI\n",
        "\n",
        "Această secțiune acoperă pasul final al temei: salvarea, expunerea și testarea celui mai performant model, atât în mediu local (TensorFlow Serving), cât și în cloud (Google Cloud Platform - Vertex AI).\n",
        "\n"
      ]
    },
    {
      "cell_type": "markdown",
      "metadata": {
        "id": "JTKDBsNM3FUt"
      },
      "source": [
        "### Setup general pentru Colab și TensorFlow\n",
        "\n",
        "În această secțiune se configurează mediul de rulare pentru a permite utilizarea corectă a TensorFlow, a bibliotecilor compatibile și a serviciilor de tip Cloud AI Platform (Vertex AI).\n",
        "\n"
      ]
    },
    {
      "cell_type": "markdown",
      "metadata": {
        "id": "s8NtaDGd3FUt"
      },
      "source": [
        "Acest proiect necesita Python >= 3.7"
      ]
    },
    {
      "cell_type": "code",
      "execution_count": 76,
      "metadata": {
        "ExecuteTime": {
          "end_time": "2025-07-23T19:10:37.614730Z",
          "start_time": "2025-07-23T19:10:37.611938Z"
        },
        "id": "QR-FbQfj92Ip"
      },
      "outputs": [],
      "source": [
        "import sys\n",
        "\n",
        "assert sys.version_info >= (3, 7)"
      ]
    },
    {
      "cell_type": "code",
      "execution_count": 77,
      "metadata": {
        "ExecuteTime": {
          "end_time": "2025-07-23T19:10:37.749508Z",
          "start_time": "2025-07-23T19:10:37.746495Z"
        },
        "id": "o_BDwTCA93SF"
      },
      "outputs": [],
      "source": [
        "IS_COLAB = \"google.colab\" in sys.modules\n",
        "if IS_COLAB:\n",
        "    import os\n",
        "    os.environ[\"TF_USE_LEGACY_KERAS\"] = \"1\"\n",
        "    import tf_keras"
      ]
    },
    {
      "cell_type": "markdown",
      "metadata": {
        "id": "Zr6DFrKy3FUu"
      },
      "source": [
        "Si TenserFlow >= 2.8"
      ]
    },
    {
      "cell_type": "code",
      "execution_count": 78,
      "metadata": {
        "ExecuteTime": {
          "end_time": "2025-07-23T19:10:37.879068Z",
          "start_time": "2025-07-23T19:10:37.875984Z"
        },
        "id": "LAWUyzx495s6"
      },
      "outputs": [],
      "source": [
        "from packaging import version\n",
        "import tensorflow as tf\n",
        "\n",
        "assert version.parse(tf.__version__) >= version.parse(\"2.8.0\")"
      ]
    },
    {
      "cell_type": "markdown",
      "metadata": {
        "id": "R--5VtwW3FUu"
      },
      "source": [
        "In Colab si Kaggle este necesar sa instalam In Colab si Kaggle este necesar sa instalam\n"
      ]
    },
    {
      "cell_type": "code",
      "execution_count": 79,
      "metadata": {
        "ExecuteTime": {
          "end_time": "2025-07-23T19:10:38.041291Z",
          "start_time": "2025-07-23T19:10:38.037677Z"
        },
        "colab": {
          "base_uri": "https://localhost:8080/"
        },
        "id": "WLFfWlQJ9_aJ",
        "outputId": "d144a09c-f295-4a91-a77f-aa8c0e60c603"
      },
      "outputs": [
        {
          "name": "stdout",
          "output_type": "stream",
          "text": [
            "\u001b[?25l   \u001b[90m━━━━━━━━━━━━━━━━━━━━━━━━━━━━━━━━━━━━━━━━\u001b[0m \u001b[32m0.0/7.9 MB\u001b[0m \u001b[31m?\u001b[0m eta \u001b[36m-:--:--\u001b[0m\r\u001b[2K   \u001b[91m━━━━━━━━━━━━━━━━━━━━━━━━━━━━━━\u001b[0m\u001b[91m╸\u001b[0m\u001b[90m━━━━━━━━━\u001b[0m \u001b[32m6.1/7.9 MB\u001b[0m \u001b[31m183.5 MB/s\u001b[0m eta \u001b[36m0:00:01\u001b[0m\r\u001b[2K   \u001b[91m━━━━━━━━━━━━━━━━━━━━━━━━━━━━━━━━━━━━━━━\u001b[0m\u001b[91m╸\u001b[0m \u001b[32m7.9/7.9 MB\u001b[0m \u001b[31m178.3 MB/s\u001b[0m eta \u001b[36m0:00:01\u001b[0m\r\u001b[2K   \u001b[90m━━━━━━━━━━━━━━━━━━━━━━━━━━━━━━━━━━━━━━━━\u001b[0m \u001b[32m7.9/7.9 MB\u001b[0m \u001b[31m98.6 MB/s\u001b[0m eta \u001b[36m0:00:00\u001b[0m\n",
            "\u001b[?25h"
          ]
        }
      ],
      "source": [
        "import sys\n",
        "if \"google.colab\" in sys.modules or \"kaggle_secrets\" in sys.modules:\n",
        "    %pip install -q -U google-cloud-aiplatform"
      ]
    },
    {
      "cell_type": "markdown",
      "metadata": {
        "id": "PucgFwhW3FUv"
      },
      "source": [
        "Verificam daca avem cel putin un GPU"
      ]
    },
    {
      "cell_type": "code",
      "execution_count": 80,
      "metadata": {
        "ExecuteTime": {
          "end_time": "2025-07-23T19:10:38.196239Z",
          "start_time": "2025-07-23T19:10:38.191543Z"
        },
        "colab": {
          "base_uri": "https://localhost:8080/"
        },
        "id": "1IoLVl0d-K6R",
        "outputId": "fd7a9e29-c2d5-470a-cc0a-08ee200cab55"
      },
      "outputs": [
        {
          "name": "stdout",
          "output_type": "stream",
          "text": [
            "No GPU was detected. Neural nets can be very slow without a GPU.\n",
            "Go to Runtime > Change runtime and select a GPU hardware accelerator.\n"
          ]
        }
      ],
      "source": [
        "if not tf.config.list_physical_devices('GPU'):\n",
        "    print(\"No GPU was detected. Neural nets can be very slow without a GPU.\")\n",
        "    if \"google.colab\" in sys.modules:\n",
        "        print(\"Go to Runtime > Change runtime and select a GPU hardware \"\n",
        "              \"accelerator.\")\n",
        "    if \"kaggle_secrets\" in sys.modules:\n",
        "        print(\"Go to Settings > Accelerator and select GPU.\")\n"
      ]
    },
    {
      "cell_type": "markdown",
      "metadata": {
        "id": "6YSA4ScP3FUv"
      },
      "source": [
        "Salvam modelul la care dorim sa facem deploy"
      ]
    },
    {
      "cell_type": "code",
      "execution_count": 81,
      "metadata": {
        "ExecuteTime": {
          "end_time": "2025-07-23T19:10:38.662913Z",
          "start_time": "2025-07-23T19:10:38.381875Z"
        },
        "colab": {
          "base_uri": "https://localhost:8080/"
        },
        "id": "GdK9VdBc-yxr",
        "outputId": "a77c8985-dc91-4852-aa7a-f920aa31cb1a"
      },
      "outputs": [
        {
          "name": "stdout",
          "output_type": "stream",
          "text": [
            "Saved artifact at 'my_model/1'. The following endpoints are available:\n",
            "\n",
            "* Endpoint 'serve'\n",
            "  args_0 (POSITIONAL_ONLY): TensorSpec(shape=(None, 11), dtype=tf.float32, name='keras_tensor_6')\n",
            "Output Type:\n",
            "  TensorSpec(shape=(None, 3), dtype=tf.float32, name=None)\n",
            "Captures:\n",
            "  134829289980560: TensorSpec(shape=(), dtype=tf.resource, name=None)\n",
            "  134829289980752: TensorSpec(shape=(), dtype=tf.resource, name=None)\n",
            "  134829290141072: TensorSpec(shape=(), dtype=tf.resource, name=None)\n",
            "  134829290140496: TensorSpec(shape=(), dtype=tf.resource, name=None)\n",
            "  134829290137424: TensorSpec(shape=(), dtype=tf.resource, name=None)\n",
            "  134829290138960: TensorSpec(shape=(), dtype=tf.resource, name=None)\n"
          ]
        }
      ],
      "source": [
        "from pathlib import Path\n",
        "import tensorflow as tf\n",
        "\n",
        "model1_name = \"my_model\"\n",
        "model1_version = \"0001\"\n",
        "model1_path = Path(model1_name) / model1_version\n",
        "model1.export(\"my_model/1\")"
      ]
    },
    {
      "cell_type": "code",
      "execution_count": 82,
      "metadata": {
        "ExecuteTime": {
          "end_time": "2025-07-23T19:10:38.796539Z",
          "start_time": "2025-07-23T19:10:38.791393Z"
        },
        "colab": {
          "base_uri": "https://localhost:8080/"
        },
        "id": "yH2-DnhPBExW",
        "outputId": "e9c8220d-b4dc-4e66-c1a4-a4a3b956f05a"
      },
      "outputs": [
        {
          "data": {
            "text/plain": [
              "['my_model/1',\n",
              " 'my_model/1/assets',\n",
              " 'my_model/1/fingerprint.pb',\n",
              " 'my_model/1/saved_model.pb',\n",
              " 'my_model/1/variables',\n",
              " 'my_model/1/variables/variables.data-00000-of-00001',\n",
              " 'my_model/1/variables/variables.index']"
            ]
          },
          "execution_count": 82,
          "metadata": {},
          "output_type": "execute_result"
        }
      ],
      "source": [
        "sorted([str(path) for path in model1_path.parent.glob(\"**/*\")])  # extra code"
      ]
    },
    {
      "cell_type": "markdown",
      "metadata": {
        "id": "s-2_xxrZ3FUx"
      },
      "source": [
        "Verificam ierarhia modelului salvat"
      ]
    },
    {
      "cell_type": "code",
      "execution_count": 83,
      "metadata": {
        "ExecuteTime": {
          "end_time": "2025-07-23T19:10:39.126886Z",
          "start_time": "2025-07-23T19:10:38.969412Z"
        },
        "colab": {
          "base_uri": "https://localhost:8080/"
        },
        "id": "xVj9ahX-K3AX",
        "outputId": "e78e56a8-273f-4690-eae6-936137c47cde"
      },
      "outputs": [
        {
          "name": "stdout",
          "output_type": "stream",
          "text": [
            "my_model:\n",
            "1\n",
            "\n",
            "my_model/1:\n",
            "assets\tfingerprint.pb\tsaved_model.pb\tvariables\n",
            "\n",
            "my_model/1/assets:\n",
            "\n",
            "my_model/1/variables:\n",
            "variables.data-00000-of-00001  variables.index\n"
          ]
        }
      ],
      "source": [
        "!ls -R my_model"
      ]
    },
    {
      "cell_type": "markdown",
      "metadata": {
        "id": "cJ6wfEOP3FUx"
      },
      "source": [
        "### Instalam si Pornim TenserFlow Serving\n",
        "\n",
        "Pentru Colab si Kaggle TenserFlow trebuie instalat"
      ]
    },
    {
      "cell_type": "code",
      "execution_count": 84,
      "metadata": {
        "ExecuteTime": {
          "end_time": "2025-07-23T19:10:39.250788Z",
          "start_time": "2025-07-23T19:10:39.245072Z"
        },
        "colab": {
          "base_uri": "https://localhost:8080/"
        },
        "id": "tuJunxcBBNJ9",
        "outputId": "7417b2a0-91ba-4501-d325-10281fca6ee6"
      },
      "outputs": [
        {
          "name": "stdout",
          "output_type": "stream",
          "text": [
            "  % Total    % Received % Xferd  Average Speed   Time    Time     Time  Current\n",
            "                                 Dload  Upload   Total   Spent    Left  Speed\n",
            "  0     0    0     0    0     0      0      0 --:--:-- --:--:-- --:--:--     0Warning: apt-key is deprecated. Manage keyring files in trusted.gpg.d instead (see apt-key(8)).\n",
            "100  2943  100  2943    0     0   8572      0 --:--:-- --:--:-- --:--:--  8580\n",
            "OK\n",
            "Hit:1 http://archive.ubuntu.com/ubuntu jammy InRelease\n",
            "Get:2 http://archive.ubuntu.com/ubuntu jammy-updates InRelease [128 kB]\n",
            "Get:3 http://security.ubuntu.com/ubuntu jammy-security InRelease [129 kB]\n",
            "Get:4 https://cloud.r-project.org/bin/linux/ubuntu jammy-cran40/ InRelease [3,632 B]\n",
            "Get:5 http://archive.ubuntu.com/ubuntu jammy-backports InRelease [127 kB]\n",
            "Get:6 https://storage.googleapis.com/tensorflow-serving-apt stable InRelease [3,026 B]\n",
            "Get:7 https://r2u.stat.illinois.edu/ubuntu jammy InRelease [6,555 B]\n",
            "Get:8 http://security.ubuntu.com/ubuntu jammy-security/restricted amd64 Packages [4,976 kB]\n",
            "Get:9 https://ppa.launchpadcontent.net/deadsnakes/ppa/ubuntu jammy InRelease [18.1 kB]\n",
            "Get:10 http://security.ubuntu.com/ubuntu jammy-security/main amd64 Packages [3,159 kB]\n",
            "Hit:11 https://ppa.launchpadcontent.net/graphics-drivers/ppa/ubuntu jammy InRelease\n",
            "Get:12 http://security.ubuntu.com/ubuntu jammy-security/universe amd64 Packages [1,268 kB]\n",
            "Get:13 https://developer.download.nvidia.com/compute/cuda/repos/ubuntu2204/x86_64  InRelease [1,581 B]\n",
            "Get:14 http://archive.ubuntu.com/ubuntu jammy-updates/main amd64 Packages [3,470 kB]\n",
            "Hit:15 https://ppa.launchpadcontent.net/ubuntugis/ppa/ubuntu jammy InRelease\n",
            "Get:16 http://archive.ubuntu.com/ubuntu jammy-updates/universe amd64 Packages [1,574 kB]\n",
            "Get:17 https://storage.googleapis.com/tensorflow-serving-apt stable/tensorflow-model-server amd64 Packages [342 B]\n",
            "Get:18 https://r2u.stat.illinois.edu/ubuntu jammy/main all Packages [9,137 kB]\n",
            "Get:19 https://storage.googleapis.com/tensorflow-serving-apt stable/tensorflow-model-server-universal amd64 Packages [347 B]\n",
            "Get:20 https://r2u.stat.illinois.edu/ubuntu jammy/main amd64 Packages [2,765 kB]\n",
            "Get:21 https://ppa.launchpadcontent.net/deadsnakes/ppa/ubuntu jammy/main amd64 Packages [32.9 kB]\n",
            "Get:22 https://developer.download.nvidia.com/compute/cuda/repos/ubuntu2204/x86_64  Packages [1,851 kB]\n",
            "Fetched 28.6 MB in 4s (6,718 kB/s)\n",
            "Reading package lists...\n",
            "Building dependency tree...\n",
            "Reading state information...\n",
            "39 packages can be upgraded. Run 'apt list --upgradable' to see them.\n",
            "\u001b[1;33mW: \u001b[0mhttps://storage.googleapis.com/tensorflow-serving-apt/dists/stable/InRelease: Key is stored in legacy trusted.gpg keyring (/etc/apt/trusted.gpg), see the DEPRECATION section in apt-key(8) for details.\u001b[0m\n",
            "\u001b[1;33mW: \u001b[0mSkipping acquire of configured file 'main/source/Sources' as repository 'https://r2u.stat.illinois.edu/ubuntu jammy InRelease' does not seem to provide it (sources.list entry misspelt?)\u001b[0m\n",
            "Reading package lists... Done\n",
            "Building dependency tree... Done\n",
            "Reading state information... Done\n",
            "The following NEW packages will be installed:\n",
            "  tensorflow-model-server\n",
            "0 upgraded, 1 newly installed, 0 to remove and 39 not upgraded.\n",
            "Need to get 649 MB of archives.\n",
            "After this operation, 0 B of additional disk space will be used.\n",
            "Get:1 https://storage.googleapis.com/tensorflow-serving-apt stable/tensorflow-model-server amd64 tensorflow-model-server all 2.19.0 [649 MB]\n",
            "Fetched 649 MB in 13s (50.5 MB/s)\n",
            "Selecting previously unselected package tensorflow-model-server.\n",
            "(Reading database ... 126284 files and directories currently installed.)\n",
            "Preparing to unpack .../tensorflow-model-server_2.19.0_all.deb ...\n",
            "Unpacking tensorflow-model-server (2.19.0) ...\n",
            "Setting up tensorflow-model-server (2.19.0) ...\n",
            "\u001b[2K   \u001b[90m━━━━━━━━━━━━━━━━━━━━━━━━━━━━━━━━━━━━━━━━\u001b[0m \u001b[32m644.9/644.9 MB\u001b[0m \u001b[31m3.0 MB/s\u001b[0m eta \u001b[36m0:00:00\u001b[0m\n",
            "\u001b[2K   \u001b[90m━━━━━━━━━━━━━━━━━━━━━━━━━━━━━━━━━━━━━━━━\u001b[0m \u001b[32m4.7/4.7 MB\u001b[0m \u001b[31m86.1 MB/s\u001b[0m eta \u001b[36m0:00:00\u001b[0m\n",
            "\u001b[2K   \u001b[90m━━━━━━━━━━━━━━━━━━━━━━━━━━━━━━━━━━━━━━━━\u001b[0m \u001b[32m5.5/5.5 MB\u001b[0m \u001b[31m91.9 MB/s\u001b[0m eta \u001b[36m0:00:00\u001b[0m\n",
            "\u001b[?25h\u001b[31mERROR: pip's dependency resolver does not currently take into account all the packages that are installed. This behaviour is the source of the following dependency conflicts.\n",
            "tensorflow-text 2.18.1 requires tensorflow<2.19,>=2.18.0, but you have tensorflow 2.19.0 which is incompatible.\n",
            "tensorflow-decision-forests 1.11.0 requires tensorflow==2.18.0, but you have tensorflow 2.19.0 which is incompatible.\n",
            "tf-keras 2.18.0 requires tensorflow<2.19,>=2.18, but you have tensorflow 2.19.0 which is incompatible.\u001b[0m\u001b[31m\n",
            "\u001b[0m"
          ]
        }
      ],
      "source": [
        "if \"google.colab\" in sys.modules or \"kaggle_secrets\" in sys.modules:\n",
        "    url = \"https://storage.googleapis.com/tensorflow-serving-apt\"\n",
        "    src = \"stable tensorflow-model-server tensorflow-model-server-universal\"\n",
        "    !echo 'deb {url} {src}' > /etc/apt/sources.list.d/tensorflow-serving.list\n",
        "    !curl '{url}/tensorflow-serving.release.pub.gpg' | apt-key add -\n",
        "    !apt update -q && apt-get install -y tensorflow-model-server\n",
        "    %pip install -q -U tensorflow-serving-api"
      ]
    },
    {
      "cell_type": "markdown",
      "metadata": {
        "id": "aZX_DypT3FUx"
      },
      "source": [
        "Verificam ca portul 8501 sa nu fie blocat de alt si serviciu si omoram procesul daca da"
      ]
    },
    {
      "cell_type": "code",
      "execution_count": 85,
      "metadata": {
        "ExecuteTime": {
          "end_time": "2025-07-23T19:10:39.573312Z",
          "start_time": "2025-07-23T19:10:39.409236Z"
        },
        "colab": {
          "base_uri": "https://localhost:8080/"
        },
        "id": "RQGiMtjYNxJA",
        "outputId": "c58f0b6e-700f-4d59-fb97-fe374a680a82"
      },
      "outputs": [
        {
          "name": "stdout",
          "output_type": "stream",
          "text": [
            "root        4049     423  0 20:02 ?        00:00:00 /bin/bash -c ps -ef | grep tensorflow_model_server\n",
            "root        4051    4049  0 20:02 ?        00:00:00 grep tensorflow_model_server\n"
          ]
        }
      ],
      "source": [
        "!ps -ef | grep tensorflow_model_server"
      ]
    },
    {
      "cell_type": "code",
      "execution_count": 86,
      "metadata": {
        "ExecuteTime": {
          "end_time": "2025-07-23T19:10:39.860574Z",
          "start_time": "2025-07-23T19:10:39.693283Z"
        },
        "id": "bFkGbHW_NzVd"
      },
      "outputs": [],
      "source": [
        "!pkill -f tensorflow_model_server"
      ]
    },
    {
      "cell_type": "markdown",
      "metadata": {
        "id": "wCsieyL03FUy"
      },
      "source": [
        "Urmatoarele 2 celule pornesc serverul pentru TenserFlow"
      ]
    },
    {
      "cell_type": "code",
      "execution_count": 87,
      "metadata": {
        "ExecuteTime": {
          "end_time": "2025-07-23T19:10:39.983449Z",
          "start_time": "2025-07-23T19:10:39.980727Z"
        },
        "id": "3vu9CrFRBzxz"
      },
      "outputs": [],
      "source": [
        "import os\n",
        "\n",
        "os.environ[\"MODEL_DIR\"] = \"/content/my_model\""
      ]
    },
    {
      "cell_type": "code",
      "execution_count": 88,
      "metadata": {
        "ExecuteTime": {
          "end_time": "2025-07-23T19:10:40.143384Z",
          "start_time": "2025-07-23T19:10:40.136930Z"
        },
        "id": "D8KwfTEuB3YT"
      },
      "outputs": [],
      "source": [
        "%%bash --bg\n",
        "nohup tensorflow_model_server \\\n",
        "  --port=8500 \\\n",
        "  --rest_api_port=8501 \\\n",
        "  --model_name=my_model \\\n",
        "  --model_base_path=\"${MODEL_DIR}\" >server.log 2>&1"
      ]
    },
    {
      "cell_type": "markdown",
      "metadata": {
        "id": "GIMYB4pm3FUy"
      },
      "source": [
        "Asteptam 12 secunde pentru a verifica daca serverul este pornit"
      ]
    },
    {
      "cell_type": "code",
      "execution_count": 89,
      "metadata": {
        "ExecuteTime": {
          "end_time": "2025-07-23T19:10:52.306208Z",
          "start_time": "2025-07-23T19:10:40.303541Z"
        },
        "id": "zF9keiN-LDOM"
      },
      "outputs": [],
      "source": [
        "import time\n",
        "\n",
        "time.sleep(12)"
      ]
    },
    {
      "cell_type": "code",
      "execution_count": 90,
      "metadata": {
        "ExecuteTime": {
          "end_time": "2025-07-23T19:10:52.566662Z",
          "start_time": "2025-07-23T19:10:52.420368Z"
        },
        "colab": {
          "base_uri": "https://localhost:8080/"
        },
        "id": "d4SXp8DpJnzK",
        "outputId": "79ec78b4-6b59-4f2f-ddc9-1b7b6ed12af1"
      },
      "outputs": [
        {
          "name": "stdout",
          "output_type": "stream",
          "text": [
            "{\n",
            " \"model_version_status\": [\n",
            "  {\n",
            "   \"version\": \"1\",\n",
            "   \"state\": \"AVAILABLE\",\n",
            "   \"status\": {\n",
            "    \"error_code\": \"OK\",\n",
            "    \"error_message\": \"\"\n",
            "   }\n",
            "  }\n",
            " ]\n",
            "}\n"
          ]
        }
      ],
      "source": [
        "!curl http://localhost:8501/v1/models/my_model"
      ]
    },
    {
      "cell_type": "markdown",
      "metadata": {
        "id": "nVoWUFha3FUz"
      },
      "source": [
        "Celula pentru debug in caz ca nu porneste serverul"
      ]
    },
    {
      "cell_type": "code",
      "execution_count": 91,
      "metadata": {
        "ExecuteTime": {
          "end_time": "2025-07-23T19:10:52.900547Z",
          "start_time": "2025-07-23T19:10:52.753995Z"
        },
        "colab": {
          "base_uri": "https://localhost:8080/"
        },
        "id": "ofo7TXXbL7mC",
        "outputId": "97637df4-d494-4229-b459-4f51296e5d7c"
      },
      "outputs": [
        {
          "name": "stdout",
          "output_type": "stream",
          "text": [
            "WARNING: All log messages before absl::InitializeLog() is called are written to STDERR\n",
            "I0000 00:00:1753300963.261301    4095 loader_harness.cc:71] Approving load for servable version {name: my_model version: 1}\n",
            "I0000 00:00:1753300963.261669    4095 loader_harness.cc:79] Loading servable version {name: my_model version: 1}\n",
            "I0000 00:00:1753300963.426565    4095 mlir_graph_optimization_pass.cc:425] MLIR V1 optimization pass is not enabled\n",
            "I0000 00:00:1753300963.971040    4095 loader_harness.cc:105] Successfully loaded servable version {name: my_model version: 1}\n",
            "[warn] getaddrinfo: address family for nodename not supported\n",
            "[evhttp_server.cc : 261] NET_LOG: Entering the event loop ...\n"
          ]
        }
      ],
      "source": [
        "!cat server.log | tail -n 30"
      ]
    },
    {
      "cell_type": "code",
      "execution_count": 92,
      "metadata": {
        "ExecuteTime": {
          "end_time": "2025-07-23T19:10:55.029883Z",
          "start_time": "2025-07-23T19:10:53.027251Z"
        },
        "id": "sBWk7z7wCEKu"
      },
      "outputs": [],
      "source": [
        "import time\n",
        "\n",
        "time.sleep(2)"
      ]
    },
    {
      "cell_type": "markdown",
      "metadata": {
        "id": "6ou07t673FU0"
      },
      "source": [
        "Trimitem un request catre server pentru a verifica daca modelul functioneza corect"
      ]
    },
    {
      "cell_type": "code",
      "execution_count": 94,
      "metadata": {
        "ExecuteTime": {
          "end_time": "2025-07-23T19:10:56.590953Z",
          "start_time": "2025-07-23T19:10:55.141275Z"
        },
        "colab": {
          "base_uri": "https://localhost:8080/"
        },
        "id": "4L91w7QEFJDI",
        "outputId": "bf882527-0b93-468f-c135-6f83ed9bdf7c"
      },
      "outputs": [
        {
          "name": "stdout",
          "output_type": "stream",
          "text": [
            "Răspuns complet: {'predictions': [[0.650884271, 0.0919766, 0.257139176]]}\n",
            "Clasa prezisă: 0\n"
          ]
        }
      ],
      "source": [
        "import json\n",
        "import numpy as np\n",
        "import requests\n",
        "\n",
        "# Extrag o instanță de test\n",
        "sample = X_test_scaled[0].reshape(1, -1)\n",
        "\n",
        "# Construiesc payload-ul JSON\n",
        "data = json.dumps({\n",
        "    \"signature_name\": \"serving_default\",\n",
        "    \"instances\": sample.tolist()\n",
        "})\n",
        "\n",
        "# Trimit requestul către REST API\n",
        "url = \"http://localhost:8501/v1/models/my_model:predict\"\n",
        "headers = {\"Content-Type\": \"application/json\"}\n",
        "\n",
        "response = requests.post(url, data=data, headers=headers)\n",
        "\n",
        "# Verific rezultat\n",
        "print(\"Răspuns complet:\", response.json())\n",
        "print(\"Clasa prezisă:\", np.argmax(response.json()[\"predictions\"][0]))\n"
      ]
    },
    {
      "cell_type": "markdown",
      "metadata": {
        "id": "OxR8vZ1v3FU0"
      },
      "source": [
        "### Creeam un serviciu de predictie cu Vertex AI\n",
        "\n",
        "Ne autentificam in google colab sau kaggle"
      ]
    },
    {
      "cell_type": "code",
      "execution_count": 95,
      "metadata": {
        "id": "lYi2SemlRIAt"
      },
      "outputs": [],
      "source": [
        "project_id = \"hopeful-sound-466815-c9\"  ##### CHANGE THIS TO YOUR PROJECT ID #####\n",
        "\n",
        "if \"google.colab\" in sys.modules:\n",
        "    from google.colab import auth\n",
        "    auth.authenticate_user()\n",
        "elif \"kaggle_secrets\" in sys.modules:\n",
        "    from kaggle_secrets import UserSecretsClient\n",
        "    UserSecretsClient().set_gcloud_credentials(project=project_id)\n",
        "else:\n",
        "    os.environ[\"GOOGLE_APPLICATION_CREDENTIALS\"] = \"my_service_account_key.json\""
      ]
    },
    {
      "cell_type": "markdown",
      "metadata": {
        "id": "ZNSomqQt3FU1"
      },
      "source": [
        "Creeam un bucket nou pentru a face deploy"
      ]
    },
    {
      "cell_type": "code",
      "execution_count": 96,
      "metadata": {
        "id": "XDkQ0V8hRVde"
      },
      "outputs": [],
      "source": [
        "from google.cloud import storage\n",
        "\n",
        "bucket_name = \"bucket_tema2_ia\"  ##### CHANGE THIS TO A UNIQUE BUCKET NAME #####\n",
        "location = \"us-central1\"\n",
        "\n",
        "storage_client = storage.Client(project=project_id)\n",
        "# bucket = storage_client.create_bucket(bucket_name, location=location) # to create a bucket\n",
        "bucket = storage_client.bucket(bucket_name)  # to reuse a bucket instead"
      ]
    },
    {
      "cell_type": "code",
      "execution_count": 97,
      "metadata": {
        "id": "F7ypZHQLS18d"
      },
      "outputs": [],
      "source": [
        "def upload_directory(bucket, dirpath):\n",
        "    dirpath = Path(dirpath)\n",
        "    for filepath in dirpath.glob(\"**/*\"):\n",
        "        if filepath.is_file():\n",
        "            blob = bucket.blob(filepath.relative_to(dirpath.parent).as_posix())\n",
        "            blob.upload_from_filename(filepath)\n",
        "\n",
        "upload_directory(bucket, \"my_model\")"
      ]
    },
    {
      "cell_type": "markdown",
      "metadata": {
        "id": "JKRlWmom3FU2"
      },
      "source": [
        "Initializam server-ul si facem upload la model"
      ]
    },
    {
      "cell_type": "code",
      "execution_count": 98,
      "metadata": {
        "id": "E3ZnUl61S7cg"
      },
      "outputs": [],
      "source": [
        "from google.cloud import aiplatform\n",
        "\n",
        "server_image = \"gcr.io/cloud-aiplatform/prediction/tf2-gpu.2-8:latest\"\n",
        "\n",
        "aiplatform.init(project=project_id, location=location)\n",
        "\n",
        "# my_model = aiplatform.Model.upload(\n",
        "#     display_name=\"my_model\",\n",
        "#     artifact_uri=f\"gs://{bucket_name}/my_model/1\",\n",
        "#     serving_container_image_uri=server_image,\n",
        "# )"
      ]
    },
    {
      "cell_type": "markdown",
      "metadata": {
        "id": "TPNoSzPP3FU3"
      },
      "source": [
        "**ATENTIE**: Aceasta celula poate avea o durata destul de lunga\n",
        "\n",
        "Creeam endpoint-ul pentru deploy si il facem"
      ]
    },
    {
      "cell_type": "code",
      "execution_count": 99,
      "metadata": {
        "id": "28GC_11xX8Xy"
      },
      "outputs": [],
      "source": [
        "# endpoint = aiplatform.Endpoint.create(display_name=\"my-endpoint\")\n",
        "#\n",
        "# endpoint.deploy(\n",
        "#     my_model,\n",
        "#     min_replica_count=1,\n",
        "#     max_replica_count=1,\n",
        "#     machine_type=\"n1-standard-4\",\n",
        "#     accelerator_type=\"NVIDIA_TESLA_P4\",\n",
        "#     accelerator_count=1\n",
        "# )"
      ]
    },
    {
      "cell_type": "markdown",
      "metadata": {
        "id": "eMQmruXx5orL"
      },
      "source": [
        "Pentru a nu face un nou deploy instantiem deja pe cel pe care il avem"
      ]
    },
    {
      "cell_type": "code",
      "execution_count": 100,
      "metadata": {
        "id": "lepK9JQ-3FU3"
      },
      "outputs": [],
      "source": [
        "endpoint_name = \"projects/431582277630/locations/us-central1/endpoints/4532447513948454912\"\n",
        "endpoint = aiplatform.Endpoint(endpoint_name=endpoint_name)"
      ]
    },
    {
      "cell_type": "markdown",
      "metadata": {
        "id": "ek11GxUc3FU3"
      },
      "source": [
        "Ordinea celor 3 clase prezise"
      ]
    },
    {
      "cell_type": "code",
      "execution_count": 101,
      "metadata": {
        "colab": {
          "base_uri": "https://localhost:8080/"
        },
        "id": "twYp01aHhxgS",
        "outputId": "85477f16-da20-484a-cb68-3c53d3244445"
      },
      "outputs": [
        {
          "name": "stdout",
          "output_type": "stream",
          "text": [
            "['high' 'low' 'medium']\n"
          ]
        }
      ],
      "source": [
        "print(le.classes_)"
      ]
    },
    {
      "cell_type": "markdown",
      "metadata": {
        "id": "pR9ip24q3FU4"
      },
      "source": [
        "Folosim testul de la TF pentru a nu avea redundante intre cele 2 metode folosite  si vedem probabilitatile"
      ]
    },
    {
      "cell_type": "code",
      "execution_count": 108,
      "metadata": {
        "colab": {
          "base_uri": "https://localhost:8080/"
        },
        "id": "nbJM0VK75Mj8",
        "outputId": "f6bdf3bf-77f5-4dac-ab31-b914f53d84e0"
      },
      "outputs": [
        {
          "name": "stdout",
          "output_type": "stream",
          "text": [
            "[[-0.39871287  0.83747125 -0.03871917 -0.50863251 -0.41591673 -0.70225063\n",
            "  -1.07071082 -0.86327648 -0.1050062  -0.97021951  0.49859671]]\n"
          ]
        }
      ],
      "source": [
        "print(X_test_scaled[0].reshape(1, -1))"
      ]
    },
    {
      "cell_type": "code",
      "execution_count": 106,
      "metadata": {
        "id": "1MvgSeC6erUs"
      },
      "outputs": [],
      "source": [
        "X_new = X_test_scaled[0].reshape(1, -1)\n",
        "response = endpoint.predict(instances=X_new.tolist())"
      ]
    },
    {
      "cell_type": "code",
      "execution_count": 107,
      "metadata": {
        "colab": {
          "base_uri": "https://localhost:8080/"
        },
        "id": "1Qk3lNnUfviF",
        "outputId": "c60d3769-668b-44e7-c858-bda50e27d704"
      },
      "outputs": [
        {
          "data": {
            "text/plain": [
              "array([[0.51, 0.11, 0.37]])"
            ]
          },
          "execution_count": 107,
          "metadata": {},
          "output_type": "execute_result"
        }
      ],
      "source": [
        "import numpy as np\n",
        "\n",
        "np.round(response.predictions, 2)"
      ]
    },
    {
      "cell_type": "markdown",
      "metadata": {
        "id": "9rB5ra-F3FU5"
      },
      "source": [
        "Obtiem un JSON pentru al folosi in GUI din Google Cloud pentru a testa endpoint-ul"
      ]
    },
    {
      "cell_type": "code",
      "execution_count": 104,
      "metadata": {
        "colab": {
          "base_uri": "https://localhost:8080/"
        },
        "id": "uR_5tuNcgVoO",
        "outputId": "5798ff13-19ac-4c59-92d8-a04fe3de0743"
      },
      "outputs": [
        {
          "name": "stdout",
          "output_type": "stream",
          "text": [
            "{\"instances\": [[-0.3987128717439683, 0.8374712549868658, -0.03871917272651985, -0.5086325129902037, -0.4159167328255186, -0.7022506312261778, -1.0707108246299823, -0.8632764803393801, -0.10500619614502475, -0.9702195123409598, 0.49859670688270824]]}\n"
          ]
        }
      ],
      "source": [
        "import json\n",
        "\n",
        "sample_instance = X_test_scaled[0].tolist()\n",
        "\n",
        "print(json.dumps({\"instances\": [sample_instance]}))"
      ]
    },
    {
      "cell_type": "markdown",
      "metadata": {
        "id": "lSY5HL2WiqQk"
      },
      "source": [
        "Acest cod se ruleaza puntru a inchide endpoint-ul"
      ]
    },
    {
      "cell_type": "code",
      "execution_count": 105,
      "metadata": {
        "id": "-BuwtVW-inj6"
      },
      "outputs": [],
      "source": [
        "# endpoint.undeploy_all()  # undeploy all models from the endpoint\n",
        "# endpoint.delete()"
      ]
    },
    {
      "cell_type": "markdown",
      "metadata": {
        "id": "4sjDL96G3FU6"
      },
      "source": [
        "# Bibliografie\n",
        "\n",
        "- [RidgeClassifier — scikit-learn 1.7.0 documentation](https://scikit-learn.org/stable/modules/generated/sklearn.linear_model.RidgeClassifier.html)\n",
        "- [ADASYN — Version 0.13.0](https://imbalanced-learn.org/stable/references/generated/imblearn.over_sampling.ADASYN.html)\n",
        "- [GridSearchCV — scikit-learn 1.7.0 documentation](https://scikit-learn.org/stable/modules/generated/sklearn.model_selection.GridSearchCV.html)\n",
        "- [RandomForestClassifier — scikit-learn 1.7.0 documentation](https://scikit-learn.org/stable/modules/generated/sklearn.ensemble.RandomForestClassifier.html)\n",
        "- [GradientBoostingClassifier — scikit-learn 1.7.0 documentation](https://scikit-learn.org/stable/modules/generated/sklearn.ensemble.GradientBoostingClassifier.html)\n",
        "- *Hands-On Machine Learning with Scikit-Learn, Keras & TensorFlow*, Aurélien Geron\n",
        "- GeeksforGeeks – *Machine Learning and Deep Learning Tutorials*\n",
        "    - [https://www.geeksforgeeks.org/machine-learning/](https://www.geeksforgeeks.org/machine-learning/)\n",
        "    - [https://www.geeksforgeeks.org/deep-learning-tutorial/](https://www.geeksforgeeks.org/deep-learning-tutorial/)\n",
        "- Towards Data Science – *Class imbalance handling with ADASYN, SMOTE, etc.*\n",
        "    - [https://towardsdatascience.com](https://towardsdatascience.com)\n",
        "- Scikit-learn documentation – [https://scikit-learn.org/stable/documentation.html](https://scikit-learn.org/stable/documentation.html)\n",
        "- TensorFlow & Keras documentation – [https://www.tensorflow.org](https://www.tensorflow.org) & [https://keras.io](https://keras.io)\n",
        "- XGBoost documentation – [https://xgboost.readthedocs.io/](https://xgboost.readthedocs.io/)\n",
        "- Vertex AI (Google Cloud) documentation – [https://cloud.google.com/vertex-ai/docs](https://cloud.google.com/vertex-ai/docs)\n",
        "- Google AI Platform Python SDK – [https://cloud.google.com/python/docs/reference/aiplatform/latest](https://cloud.google.com/python/docs/reference/aiplatform/latest)\n",
        "- TensorFlow Serving – [https://www.tensorflow.org/tfx/guide/serving](https://www.tensorflow.org/tfx/guide/serving)\n",
        "\n",
        "\n"
      ]
    }
  ],
  "metadata": {
    "accelerator": "GPU",
    "colab": {
      "gpuType": "T4",
      "provenance": []
    },
    "kernelspec": {
      "display_name": "Python 3",
      "name": "python3"
    },
    "language_info": {
      "name": "python"
    }
  },
  "nbformat": 4,
  "nbformat_minor": 0
}
