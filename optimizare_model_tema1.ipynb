{
 "cells": [
  {
   "cell_type": "markdown",
   "id": "1fb401dd",
   "metadata": {},
   "source": [
    "# Optimizarea performantelor modelului - Tema 1"
   ]
  },
  {
   "cell_type": "code",
   "id": "e649521e",
   "metadata": {
    "ExecuteTime": {
     "end_time": "2025-07-08T17:02:42.431336Z",
     "start_time": "2025-07-08T17:02:42.422501Z"
    }
   },
   "source": [
    "import pandas as pd\n",
    "from sklearn.model_selection import train_test_split, GridSearchCV\n",
    "from sklearn.preprocessing import StandardScaler\n",
    "from sklearn.pipeline import Pipeline\n",
    "from sklearn.linear_model import RidgeClassifier\n",
    "from sklearn.ensemble import RandomForestClassifier, GradientBoostingClassifier\n",
    "from sklearn.metrics import classification_report, accuracy_score\n",
    "import warnings\n",
    "warnings.filterwarnings(\"ignore\")\n"
   ],
   "outputs": [],
   "execution_count": 2
  },
  {
   "cell_type": "code",
   "id": "0a09ff7c",
   "metadata": {
    "ExecuteTime": {
     "end_time": "2025-07-08T17:02:42.459836Z",
     "start_time": "2025-07-08T17:02:42.451582Z"
    }
   },
   "source": [
    "df = pd.read_csv(\"winequality-red.csv\", sep=\";\")\n",
    "\n",
    "def grupare_calitate(x):\n",
    "    if x <= 4:\n",
    "        return \"slab\"\n",
    "    elif x <= 6:\n",
    "        return \"mediu\"\n",
    "    else:\n",
    "        return \"bun\"\n",
    "\n",
    "df[\"calitate\"] = df[\"quality\"].apply(grupare_calitate)\n",
    "X = df.drop(columns=[\"quality\", \"calitate\"])\n",
    "y = df[\"calitate\"]\n"
   ],
   "outputs": [],
   "execution_count": 3
  },
  {
   "cell_type": "code",
   "id": "d075bb75",
   "metadata": {
    "ExecuteTime": {
     "end_time": "2025-07-08T17:02:42.481139Z",
     "start_time": "2025-07-08T17:02:42.474172Z"
    }
   },
   "source": [
    "scaler = StandardScaler()\n",
    "X_scaled = scaler.fit_transform(X)\n",
    "\n",
    "X_train, X_test, y_train, y_test = train_test_split(\n",
    "    X_scaled, y, test_size=0.2, random_state=42, stratify=y\n",
    ")\n"
   ],
   "outputs": [],
   "execution_count": 4
  },
  {
   "cell_type": "code",
   "id": "b548df6e",
   "metadata": {
    "ExecuteTime": {
     "end_time": "2025-07-08T17:02:42.593937Z",
     "start_time": "2025-07-08T17:02:42.493993Z"
    }
   },
   "source": [
    "model_ridge = Pipeline([\n",
    "    (\"scaler\", StandardScaler()),\n",
    "    (\"ridge\", RidgeClassifier())\n",
    "])\n",
    "\n",
    "parametri_ridge = {\n",
    "    \"ridge__alpha\": [0.01, 0.1, 1, 10, 100]\n",
    "}\n",
    "\n",
    "grid_ridge = GridSearchCV(model_ridge, parametri_ridge, cv=5, scoring=\"accuracy\")\n",
    "grid_ridge.fit(X_train, y_train)\n",
    "y_pred_ridge = grid_ridge.best_estimator_.predict(X_test)\n",
    "\n",
    "print(\"=== RidgeClassifier ===\")\n",
    "print(\"Cea mai buna valoare alpha:\", grid_ridge.best_params_[\"ridge__alpha\"])\n",
    "print(\"Acuratete pe setul de test:\", round(accuracy_score(y_test, y_pred_ridge), 4))\n",
    "print(classification_report(y_test, y_pred_ridge, zero_division=0))\n"
   ],
   "outputs": [
    {
     "name": "stdout",
     "output_type": "stream",
     "text": [
      "=== RidgeClassifier ===\n",
      "Cea mai buna valoare alpha: 10\n",
      "Acuratete pe setul de test: 0.8313\n",
      "              precision    recall  f1-score   support\n",
      "\n",
      "         bun       0.60      0.14      0.23        43\n",
      "       mediu       0.84      0.98      0.91       264\n",
      "        slab       0.00      0.00      0.00        13\n",
      "\n",
      "    accuracy                           0.83       320\n",
      "   macro avg       0.48      0.37      0.38       320\n",
      "weighted avg       0.77      0.83      0.78       320\n",
      "\n"
     ]
    }
   ],
   "execution_count": 5
  },
  {
   "cell_type": "code",
   "id": "15198ba2",
   "metadata": {
    "ExecuteTime": {
     "end_time": "2025-07-08T17:02:46.556407Z",
     "start_time": "2025-07-08T17:02:42.611795Z"
    }
   },
   "source": [
    "parametri_rf = {\n",
    "    \"n_estimators\": [100, 200],\n",
    "    \"max_depth\": [None, 10, 20],\n",
    "    \"min_samples_split\": [2, 5]\n",
    "}\n",
    "\n",
    "grid_rf = GridSearchCV(RandomForestClassifier(random_state=42), parametri_rf, cv=5, scoring=\"accuracy\", n_jobs=-1)\n",
    "grid_rf.fit(X_train, y_train)\n",
    "y_pred_rf = grid_rf.best_estimator_.predict(X_test)\n",
    "\n",
    "print(\"=== RandomForestClassifier ===\")\n",
    "print(\"Cei mai buni parametri:\", grid_rf.best_params_)\n",
    "print(\"Acuratete pe setul de test:\", round(accuracy_score(y_test, y_pred_rf), 4))\n",
    "print(classification_report(y_test, y_pred_rf, zero_division=0))\n"
   ],
   "outputs": [
    {
     "name": "stdout",
     "output_type": "stream",
     "text": [
      "=== RandomForestClassifier ===\n",
      "Cei mai buni parametri: {'max_depth': 20, 'min_samples_split': 2, 'n_estimators': 200}\n",
      "Acuratete pe setul de test: 0.8688\n",
      "              precision    recall  f1-score   support\n",
      "\n",
      "         bun       0.73      0.56      0.63        43\n",
      "       mediu       0.89      0.96      0.92       264\n",
      "        slab       0.00      0.00      0.00        13\n",
      "\n",
      "    accuracy                           0.87       320\n",
      "   macro avg       0.54      0.51      0.52       320\n",
      "weighted avg       0.83      0.87      0.85       320\n",
      "\n"
     ]
    }
   ],
   "execution_count": 6
  },
  {
   "cell_type": "code",
   "id": "686b239f",
   "metadata": {
    "ExecuteTime": {
     "end_time": "2025-07-08T17:02:52.900257Z",
     "start_time": "2025-07-08T17:02:46.573903Z"
    }
   },
   "source": [
    "parametri_gb = {\n",
    "    \"n_estimators\": [100, 200],\n",
    "    \"learning_rate\": [0.05, 0.1],\n",
    "    \"max_depth\": [3, 5]\n",
    "}\n",
    "\n",
    "grid_gb = GridSearchCV(GradientBoostingClassifier(random_state=42), parametri_gb, cv=5, scoring=\"accuracy\", n_jobs=-1)\n",
    "grid_gb.fit(X_train, y_train)\n",
    "y_pred_gb = grid_gb.best_estimator_.predict(X_test)\n",
    "\n",
    "print(\"=== GradientBoostingClassifier ===\")\n",
    "print(\"Cei mai buni parametri:\", grid_gb.best_params_)\n",
    "print(\"Acuratete pe setul de test:\", round(accuracy_score(y_test, y_pred_gb), 4))\n",
    "print(classification_report(y_test, y_pred_gb, zero_division=0))\n"
   ],
   "outputs": [
    {
     "name": "stdout",
     "output_type": "stream",
     "text": [
      "=== GradientBoostingClassifier ===\n",
      "Cei mai buni parametri: {'learning_rate': 0.05, 'max_depth': 5, 'n_estimators': 200}\n",
      "Acuratete pe setul de test: 0.8562\n",
      "              precision    recall  f1-score   support\n",
      "\n",
      "         bun       0.66      0.63      0.64        43\n",
      "       mediu       0.89      0.94      0.91       264\n",
      "        slab       0.00      0.00      0.00        13\n",
      "\n",
      "    accuracy                           0.86       320\n",
      "   macro avg       0.52      0.52      0.52       320\n",
      "weighted avg       0.83      0.86      0.84       320\n",
      "\n"
     ]
    }
   ],
   "execution_count": 7
  }
 ],
 "metadata": {},
 "nbformat": 4,
 "nbformat_minor": 5
}
